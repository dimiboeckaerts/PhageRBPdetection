{
 "cells": [
  {
   "cell_type": "markdown",
   "id": "surprising-floating",
   "metadata": {},
   "source": [
    "# Dual identification of novel phage receptor-binding proteins based on protein domains and machine learning\n",
    "\n",
    "This notebook serves as the main document of code and analyses for the detection of phage RBPs in published NCBI genomes.\n",
    "\n",
    "1. [Loading and processing data](#process): getting MillardLab data and extracting annotated RBPs\n",
    "2. [Custom HMM domains](#hmm): constructing HMMs for enhanced RBP detection based on protein domains\n",
    "3. [Machine learning models](#ml): constructing a XGBoost classifier to discriminate RBPs from nonRBPs.\n",
    "4. [Benchmarking against PhANNs](#bench): comparing our methods against PhANNs on hold-out data."
   ]
  },
  {
   "cell_type": "markdown",
   "id": "hydraulic-latitude",
   "metadata": {},
   "source": [
    "## 0. Libraries"
   ]
  },
  {
   "cell_type": "code",
   "execution_count": 1,
   "id": "floating-array",
   "metadata": {},
   "outputs": [],
   "source": [
    "import re\n",
    "import numpy as np\n",
    "import pandas as pd\n",
    "import matplotlib.pyplot as plt\n",
    "import RBPdetect_utils as rbpu\n",
    "from random import sample\n",
    "from Bio import SeqIO, Entrez\n",
    "from Bio.Seq import Seq\n",
    "from tqdm.notebook import tqdm\n",
    "from xgboost import XGBClassifier\n",
    "from sklearn.manifold import TSNE\n",
    "from sklearn.decomposition import PCA\n",
    "from sklearn.pipeline import make_pipeline\n",
    "from sklearn.preprocessing import StandardScaler, label_binarize\n",
    "from matplotlib_venn import venn3, venn3_circles, venn3_unweighted\n",
    "from sklearn.model_selection import GridSearchCV, StratifiedKFold, GroupKFold, cross_val_predict, train_test_split\n",
    "from sklearn.metrics import auc, make_scorer, precision_recall_curve, confusion_matrix, f1_score\n",
    "%matplotlib inline"
   ]
  },
  {
   "cell_type": "code",
   "execution_count": 2,
   "id": "solved-arabic",
   "metadata": {},
   "outputs": [],
   "source": [
    "# set directories\n",
    "pfam_file = '/Users/Dimi/GoogleDrive/PhD/3_PHAGEBASE/32_DATA/RBP_detection/Pfam-A.hmm'\n",
    "hmm_path = '/Users/Dimi/hmmer-3.3.1'\n",
    "cdpath = '/Users/dimi/cd-hit-v4.8.1-2019-0228'\n",
    "data_dir = '/Users/Dimi/GoogleDrive/PhD/3_PHAGEBASE/32_DATA/RBP_detection'\n",
    "results_dir = '/Users/Dimi/GoogleDrive/PhD/3_PHAGEBASE/33_RESULTS/RBP_detection'\n",
    "phanns_dir = '/Users/dimi/Documents/GitHub/PhANNs-master/web_server'\n",
    "#output, err = rbpu.hmmpress_python(hmm_path, pfam_file) # if still need to press Pfam db"
   ]
  },
  {
   "cell_type": "markdown",
   "id": "painted-greek",
   "metadata": {},
   "source": [
    "## 1. Loading and processing data<a name=\"process\"></a>"
   ]
  },
  {
   "cell_type": "markdown",
   "id": "acquired-supervisor",
   "metadata": {},
   "source": [
    "1. Get most recent MillardLab data from their GitHub (https://github.com/RyanCook94/inphared): download the tsv file (filtered genomes with information on name, host, family etc) and unfiltered GenBank file of phage genomes (to extract relevant records from) from their website.\n",
    "2. The functions RBP_collection and RBP_filters will process the MilalrdLab data into two sets of phage RBPs and nonRBPs based on available annotation, and applying several filters to ensure quality (deleting dubious annotations, short proteins, etc...)\n",
    "3. The final RBP and nonRBP datasets are also timestamped for easy recollection in the future.\n",
    "4. Finally, the RBPs and nonRBPs are transformed into protein embeddings: cfr protein_embeddings_cloud (too intensive for local computer, so compute with GPU in Kaggle notebooks)."
   ]
  },
  {
   "cell_type": "markdown",
   "id": "ce20af8d",
   "metadata": {},
   "source": [
    "#### Collecting and processing MillardLab data"
   ]
  },
  {
   "cell_type": "code",
   "execution_count": 15,
   "id": "9ff9f359",
   "metadata": {},
   "outputs": [
    {
     "name": "stdout",
     "output_type": "stream",
     "text": [
      "iteration: 1000\n",
      "iteration: 2000\n",
      "iteration: 3000\n",
      "iteration: 4000\n",
      "iteration: 5000\n",
      "iteration: 6000\n",
      "iteration: 7000\n",
      "iteration: 8000\n",
      "iteration: 9000\n",
      "iteration: 10000\n",
      "iteration: 11000\n",
      "iteration: 12000\n",
      "iteration: 13000\n",
      "iteration: 14000\n",
      "iteration: 15000\n",
      "iteration: 16000\n",
      "iteration: 17000\n",
      "iteration: 18000\n",
      "iteration: 19000\n",
      "iteration: 20000\n",
      "iteration: 21000\n",
      "Wrote RBP and nonRBP databases to directory.\n"
     ]
    }
   ],
   "source": [
    "# load data and collect CDSs\n",
    "Millard_tsv = data_dir+'/MillardLab_data_2021-12.tsv'\n",
    "Millard_gb = data_dir+'/MillardLab_genbank_2021-12.gb.txt'\n",
    "rbpu.RBP_collection(Millard_tsv, Millard_gb, data_dir)"
   ]
  },
  {
   "cell_type": "code",
   "execution_count": 16,
   "id": "3ebb965d",
   "metadata": {},
   "outputs": [
    {
     "name": "stdout",
     "output_type": "stream",
     "text": [
      "(16496, 8) (1811032, 8)\n",
      "(6176, 8) (228315, 8)\n",
      "Wrote filtered databases to directory.\n"
     ]
    }
   ],
   "source": [
    "# process & filter collected CDSs\n",
    "rbps_uf = pd.read_csv(data_dir+'/annotated_RBPs_unfiltered.csv')\n",
    "nonrbps_uf = pd.read_csv(data_dir+'/annotated_nonRBPs_unfiltered.csv')\n",
    "print(rbps_uf.shape, nonrbps_uf.shape)\n",
    "rbpu.RBP_filters(rbps_uf, nonrbps_uf, data_dir, '2022-01')"
   ]
  },
  {
   "cell_type": "code",
   "execution_count": 4,
   "id": "outer-confidence",
   "metadata": {},
   "outputs": [],
   "source": [
    "# load processed data\n",
    "rbps = pd.read_csv(data_dir+'/annotated_RBPs_2022-01.csv')\n",
    "nonrbps = pd.read_csv(data_dir+'/annotated_nonRBPs_2022-01.csv')"
   ]
  },
  {
   "cell_type": "code",
   "execution_count": 5,
   "id": "moral-strategy",
   "metadata": {
    "scrolled": true
   },
   "outputs": [
    {
     "data": {
      "text/html": [
       "<div>\n",
       "<style scoped>\n",
       "    .dataframe tbody tr th:only-of-type {\n",
       "        vertical-align: middle;\n",
       "    }\n",
       "\n",
       "    .dataframe tbody tr th {\n",
       "        vertical-align: top;\n",
       "    }\n",
       "\n",
       "    .dataframe thead th {\n",
       "        text-align: right;\n",
       "    }\n",
       "</style>\n",
       "<table border=\"1\" class=\"dataframe\">\n",
       "  <thead>\n",
       "    <tr style=\"text-align: right;\">\n",
       "      <th></th>\n",
       "      <th>phage_id</th>\n",
       "      <th>protein_id</th>\n",
       "      <th>Organism</th>\n",
       "      <th>Host</th>\n",
       "      <th>ProteinName</th>\n",
       "      <th>ProteinSeq</th>\n",
       "      <th>DNASeq</th>\n",
       "      <th>RecordDate</th>\n",
       "    </tr>\n",
       "  </thead>\n",
       "  <tbody>\n",
       "    <tr>\n",
       "      <th>0</th>\n",
       "      <td>OL441337</td>\n",
       "      <td>UFK26514.1</td>\n",
       "      <td>Pseudomonas phage PaP_Se</td>\n",
       "      <td>Pseudomonas aeruginosa</td>\n",
       "      <td>tail fibers protein</td>\n",
       "      <td>MGLEVATYINQLVPTNPTGSDLKSFGDDHLRLIKSAIKNTFPNISQ...</td>\n",
       "      <td>ATGGGTCTTGAGGTCGCAACTTATATTAACCAGTTGGTGCCTACGA...</td>\n",
       "      <td>28-NOV-2021</td>\n",
       "    </tr>\n",
       "    <tr>\n",
       "      <th>1</th>\n",
       "      <td>OK625527</td>\n",
       "      <td>UFK26377.1</td>\n",
       "      <td>Klebsiella phage vB_KpnP_ZK1</td>\n",
       "      <td>Klebsiella pneumoniae</td>\n",
       "      <td>tail fibers protein</td>\n",
       "      <td>MEVQGSLGRQIQGISQQPASVRLPGQCTDAINCSMDVVEGTKSRPG...</td>\n",
       "      <td>ATGGAAGTTCAAGGCTCGTTAGGTCGGCAGATACAAGGTATCAGCC...</td>\n",
       "      <td>28-NOV-2021</td>\n",
       "    </tr>\n",
       "    <tr>\n",
       "      <th>2</th>\n",
       "      <td>OK562429</td>\n",
       "      <td>UFJ83549.1</td>\n",
       "      <td>Klebsiella phage P929</td>\n",
       "      <td>Klebsiella pneumoniae Kp325</td>\n",
       "      <td>non-contractile tail fiber protein</td>\n",
       "      <td>MAFSWQEQIKPAGTQDIQCDIEYLDKSYIHVYLDGEETTGYTWTSS...</td>\n",
       "      <td>ATGGCGTTCAGCTGGCAAGAACAAATCAAGCCAGCTGGTACCCAGG...</td>\n",
       "      <td>28-NOV-2021</td>\n",
       "    </tr>\n",
       "    <tr>\n",
       "      <th>3</th>\n",
       "      <td>OK546191</td>\n",
       "      <td>UFJ83440.1</td>\n",
       "      <td>Acinetobacter phage vB_AbaP_ABWU2101</td>\n",
       "      <td>Acinetobacter baumannii</td>\n",
       "      <td>tailspike protein</td>\n",
       "      <td>MNILRSFTETVVTTPTELFPISFEYDEKYDAVHVFLNDVAVEDLGY...</td>\n",
       "      <td>ATGAATATACTACGCTCATTTACAGAGACAGTGGTGACTACACCTA...</td>\n",
       "      <td>28-NOV-2021</td>\n",
       "    </tr>\n",
       "    <tr>\n",
       "      <th>4</th>\n",
       "      <td>MZ675741</td>\n",
       "      <td>UFJ83225.1</td>\n",
       "      <td>Acinetobacter phage Ab1656-2</td>\n",
       "      <td>Acinetobacter baumannii 1656-2</td>\n",
       "      <td>putative tail fiber</td>\n",
       "      <td>MANLVFKFSWDHRPFPYNASQGKRQFMLPFASGIPNLAPNFSQVVG...</td>\n",
       "      <td>ATGGCAAATCTTGTTTTTAAATTTAGTTGGGATCATCGGCCATTCC...</td>\n",
       "      <td>28-NOV-2021</td>\n",
       "    </tr>\n",
       "  </tbody>\n",
       "</table>\n",
       "</div>"
      ],
      "text/plain": [
       "   phage_id  protein_id                              Organism  \\\n",
       "0  OL441337  UFK26514.1              Pseudomonas phage PaP_Se   \n",
       "1  OK625527  UFK26377.1          Klebsiella phage vB_KpnP_ZK1   \n",
       "2  OK562429  UFJ83549.1                 Klebsiella phage P929   \n",
       "3  OK546191  UFJ83440.1  Acinetobacter phage vB_AbaP_ABWU2101   \n",
       "4  MZ675741  UFJ83225.1          Acinetobacter phage Ab1656-2   \n",
       "\n",
       "                             Host                         ProteinName  \\\n",
       "0          Pseudomonas aeruginosa                 tail fibers protein   \n",
       "1           Klebsiella pneumoniae                 tail fibers protein   \n",
       "2     Klebsiella pneumoniae Kp325  non-contractile tail fiber protein   \n",
       "3         Acinetobacter baumannii                   tailspike protein   \n",
       "4  Acinetobacter baumannii 1656-2                 putative tail fiber   \n",
       "\n",
       "                                          ProteinSeq  \\\n",
       "0  MGLEVATYINQLVPTNPTGSDLKSFGDDHLRLIKSAIKNTFPNISQ...   \n",
       "1  MEVQGSLGRQIQGISQQPASVRLPGQCTDAINCSMDVVEGTKSRPG...   \n",
       "2  MAFSWQEQIKPAGTQDIQCDIEYLDKSYIHVYLDGEETTGYTWTSS...   \n",
       "3  MNILRSFTETVVTTPTELFPISFEYDEKYDAVHVFLNDVAVEDLGY...   \n",
       "4  MANLVFKFSWDHRPFPYNASQGKRQFMLPFASGIPNLAPNFSQVVG...   \n",
       "\n",
       "                                              DNASeq   RecordDate  \n",
       "0  ATGGGTCTTGAGGTCGCAACTTATATTAACCAGTTGGTGCCTACGA...  28-NOV-2021  \n",
       "1  ATGGAAGTTCAAGGCTCGTTAGGTCGGCAGATACAAGGTATCAGCC...  28-NOV-2021  \n",
       "2  ATGGCGTTCAGCTGGCAAGAACAAATCAAGCCAGCTGGTACCCAGG...  28-NOV-2021  \n",
       "3  ATGAATATACTACGCTCATTTACAGAGACAGTGGTGACTACACCTA...  28-NOV-2021  \n",
       "4  ATGGCAAATCTTGTTTTTAAATTTAGTTGGGATCATCGGCCATTCC...  28-NOV-2021  "
      ]
     },
     "execution_count": 5,
     "metadata": {},
     "output_type": "execute_result"
    }
   ],
   "source": [
    "rbps.head()"
   ]
  },
  {
   "cell_type": "markdown",
   "id": "cd4d7594",
   "metadata": {},
   "source": [
    "#### Computing embeddings\n",
    "\n",
    "This is done in the protein_embeddings_cloud notebook on Kaggle, utilizing a GPU for speedup."
   ]
  },
  {
   "cell_type": "markdown",
   "id": "97242789",
   "metadata": {},
   "source": [
    "## 2. Constructing custom RBP domain HMMs<a name=\"hmm\"></a>"
   ]
  },
  {
   "cell_type": "markdown",
   "id": "504e5a39",
   "metadata": {},
   "source": [
    "#### Detect known Pfam domains"
   ]
  },
  {
   "cell_type": "code",
   "execution_count": 6,
   "id": "090cc0c3",
   "metadata": {},
   "outputs": [],
   "source": [
    "# get the data except for the last 3 months (to test on later)\n",
    "months = ['OCT-2021', 'NOV-2021', 'DEC-2021']\n",
    "to_delete_rbps = [i for i, date in enumerate(rbps['RecordDate']) if any(x in date for x in months)]\n",
    "rbps_upto2021 = rbps.drop(to_delete_rbps)\n",
    "rbps_upto2021 = rbps_upto2021.reset_index(drop=True)"
   ]
  },
  {
   "cell_type": "code",
   "execution_count": 7,
   "id": "37c08c97",
   "metadata": {},
   "outputs": [],
   "source": [
    "# define known Pfam RBP domains to detect\n",
    "N_blocks_pfam = ['Phage_T7_tail', 'Tail_spike_N', 'Prophage_tail', 'BppU_N', 'Mtd_N', \n",
    "                 'Head_binding', 'DUF3751', 'End_N_terminal', 'phage_tail_N', 'Prophage_tailD1', \n",
    "                 'DUF2163', 'Phage_fiber_2']\n",
    "C_blocks_pfam = ['Lipase_GDSL_2', 'Pectate_lyase_3', 'gp37_C', 'Beta_helix', 'Gp58', 'End_beta_propel', \n",
    "                 'End_tail_spike', 'End_beta_barrel', 'PhageP22-tail', 'Phage_spike_2', \n",
    "                 'gp12-short_mid', 'Collar', 'Peptidase_S74','Phage_fiber_C', 'S_tail_recep_bd', \n",
    "                 'CBM_4_9', 'DUF1983', 'DUF3672']"
   ]
  },
  {
   "cell_type": "code",
   "execution_count": null,
   "id": "1e20955f",
   "metadata": {},
   "outputs": [],
   "source": [
    "# run detection (first press database if not done already)\n",
    "#output, err = rbpu.hmmpress_python(hmm_path, pfam_file)\n",
    "detected_rbps = rbpu.RBPdetect_domains(hmm_path, pfam_file, rbps_upto2021['DNASeq'], rbps_upto2021['protein_id'],\n",
    "                                       N_blocks=N_blocks_pfam, C_blocks=C_blocks_pfam, detect_others=False)"
   ]
  },
  {
   "cell_type": "code",
   "execution_count": 8,
   "id": "bdc22ada",
   "metadata": {},
   "outputs": [
    {
     "data": {
      "text/html": [
       "<div>\n",
       "<style scoped>\n",
       "    .dataframe tbody tr th:only-of-type {\n",
       "        vertical-align: middle;\n",
       "    }\n",
       "\n",
       "    .dataframe tbody tr th {\n",
       "        vertical-align: top;\n",
       "    }\n",
       "\n",
       "    .dataframe thead th {\n",
       "        text-align: right;\n",
       "    }\n",
       "</style>\n",
       "<table border=\"1\" class=\"dataframe\">\n",
       "  <thead>\n",
       "    <tr style=\"text-align: right;\">\n",
       "      <th></th>\n",
       "      <th>identifier</th>\n",
       "      <th>DNASeq</th>\n",
       "      <th>N_blocks</th>\n",
       "      <th>C_blocks</th>\n",
       "      <th>N_ranges</th>\n",
       "      <th>C_ranges</th>\n",
       "    </tr>\n",
       "  </thead>\n",
       "  <tbody>\n",
       "    <tr>\n",
       "      <th>0</th>\n",
       "      <td>QYC51048.1</td>\n",
       "      <td>ATGAGTAACAATACAATCAACCACGTAAGTGATAAATCCATTTACG...</td>\n",
       "      <td>[]</td>\n",
       "      <td>[Collar]</td>\n",
       "      <td>[]</td>\n",
       "      <td>[(314, 369)]</td>\n",
       "    </tr>\n",
       "    <tr>\n",
       "      <th>1</th>\n",
       "      <td>QYC51112.1</td>\n",
       "      <td>ATGGCTGATTTAGAAAAAATTCAATTCCTACGTAGCACAGTTGCGG...</td>\n",
       "      <td>[]</td>\n",
       "      <td>[Peptidase_S74]</td>\n",
       "      <td>[]</td>\n",
       "      <td>[(1176, 1229)]</td>\n",
       "    </tr>\n",
       "    <tr>\n",
       "      <th>2</th>\n",
       "      <td>QXV72116.1</td>\n",
       "      <td>ATGACCATTATCAAACGCGCAGACCTGGGTCGGCCCTTAACGTGGG...</td>\n",
       "      <td>[Tail_spike_N]</td>\n",
       "      <td>[]</td>\n",
       "      <td>[(88, 130)]</td>\n",
       "      <td>[]</td>\n",
       "    </tr>\n",
       "    <tr>\n",
       "      <th>3</th>\n",
       "      <td>QIW90047.1</td>\n",
       "      <td>ATGAGCACGAAATTTAAAACCGTTATCACTACTGCCGGAGCCGCGA...</td>\n",
       "      <td>[Phage_fiber_2, DUF3751]</td>\n",
       "      <td>[]</td>\n",
       "      <td>[(169, 210), (0, 151)]</td>\n",
       "      <td>[]</td>\n",
       "    </tr>\n",
       "    <tr>\n",
       "      <th>4</th>\n",
       "      <td>UAW53860.1</td>\n",
       "      <td>ATGGCCCAGGTCCCTATCGTAGAGGACAACCACACGGGCGATGGCG...</td>\n",
       "      <td>[Phage_T7_tail]</td>\n",
       "      <td>[]</td>\n",
       "      <td>[(0, 106)]</td>\n",
       "      <td>[]</td>\n",
       "    </tr>\n",
       "    <tr>\n",
       "      <th>...</th>\n",
       "      <td>...</td>\n",
       "      <td>...</td>\n",
       "      <td>...</td>\n",
       "      <td>...</td>\n",
       "      <td>...</td>\n",
       "      <td>...</td>\n",
       "    </tr>\n",
       "    <tr>\n",
       "      <th>1781</th>\n",
       "      <td>BAF43880.1</td>\n",
       "      <td>ATGTACAAAATAAAAGATGTTGAAACGAGAATAAAAAATGATGGTG...</td>\n",
       "      <td>[BppU_N]</td>\n",
       "      <td>[]</td>\n",
       "      <td>[(3, 143)]</td>\n",
       "      <td>[]</td>\n",
       "    </tr>\n",
       "    <tr>\n",
       "      <th>1782</th>\n",
       "      <td>BAF63353.1</td>\n",
       "      <td>ATGGACGTTGAGTACGGTCAGTACAGCGTTATTCTGTTGGTGGAGG...</td>\n",
       "      <td>[phage_tail_N]</td>\n",
       "      <td>[Phage_fiber_C]</td>\n",
       "      <td>[(0, 83)]</td>\n",
       "      <td>[(312, 376)]</td>\n",
       "    </tr>\n",
       "    <tr>\n",
       "      <th>1783</th>\n",
       "      <td>ACJ10189.1</td>\n",
       "      <td>ATGTCAAAAATTATCCCCAATATTGTCGTGAGTATGCCCACTCAGT...</td>\n",
       "      <td>[Head_binding]</td>\n",
       "      <td>[]</td>\n",
       "      <td>[(0, 113)]</td>\n",
       "      <td>[]</td>\n",
       "    </tr>\n",
       "    <tr>\n",
       "      <th>1784</th>\n",
       "      <td>BAF98834.1</td>\n",
       "      <td>ATGAGCCAGACGGCCATTCCACTGCAGTTTGAAAAGTACCTGCAAA...</td>\n",
       "      <td>[DUF3751]</td>\n",
       "      <td>[]</td>\n",
       "      <td>[(3, 153)]</td>\n",
       "      <td>[]</td>\n",
       "    </tr>\n",
       "    <tr>\n",
       "      <th>1785</th>\n",
       "      <td>CAJ28479.1</td>\n",
       "      <td>GTGATGCGCCTGCAAGATAGAAAGATCCAGATTCTAAAACAGGCGT...</td>\n",
       "      <td>[]</td>\n",
       "      <td>[Collar]</td>\n",
       "      <td>[]</td>\n",
       "      <td>[(71, 96)]</td>\n",
       "    </tr>\n",
       "  </tbody>\n",
       "</table>\n",
       "<p>1786 rows × 6 columns</p>\n",
       "</div>"
      ],
      "text/plain": [
       "      identifier                                             DNASeq  \\\n",
       "0     QYC51048.1  ATGAGTAACAATACAATCAACCACGTAAGTGATAAATCCATTTACG...   \n",
       "1     QYC51112.1  ATGGCTGATTTAGAAAAAATTCAATTCCTACGTAGCACAGTTGCGG...   \n",
       "2     QXV72116.1  ATGACCATTATCAAACGCGCAGACCTGGGTCGGCCCTTAACGTGGG...   \n",
       "3     QIW90047.1  ATGAGCACGAAATTTAAAACCGTTATCACTACTGCCGGAGCCGCGA...   \n",
       "4     UAW53860.1  ATGGCCCAGGTCCCTATCGTAGAGGACAACCACACGGGCGATGGCG...   \n",
       "...          ...                                                ...   \n",
       "1781  BAF43880.1  ATGTACAAAATAAAAGATGTTGAAACGAGAATAAAAAATGATGGTG...   \n",
       "1782  BAF63353.1  ATGGACGTTGAGTACGGTCAGTACAGCGTTATTCTGTTGGTGGAGG...   \n",
       "1783  ACJ10189.1  ATGTCAAAAATTATCCCCAATATTGTCGTGAGTATGCCCACTCAGT...   \n",
       "1784  BAF98834.1  ATGAGCCAGACGGCCATTCCACTGCAGTTTGAAAAGTACCTGCAAA...   \n",
       "1785  CAJ28479.1  GTGATGCGCCTGCAAGATAGAAAGATCCAGATTCTAAAACAGGCGT...   \n",
       "\n",
       "                      N_blocks         C_blocks                N_ranges  \\\n",
       "0                           []         [Collar]                      []   \n",
       "1                           []  [Peptidase_S74]                      []   \n",
       "2               [Tail_spike_N]               []             [(88, 130)]   \n",
       "3     [Phage_fiber_2, DUF3751]               []  [(169, 210), (0, 151)]   \n",
       "4              [Phage_T7_tail]               []              [(0, 106)]   \n",
       "...                        ...              ...                     ...   \n",
       "1781                  [BppU_N]               []              [(3, 143)]   \n",
       "1782            [phage_tail_N]  [Phage_fiber_C]               [(0, 83)]   \n",
       "1783            [Head_binding]               []              [(0, 113)]   \n",
       "1784                 [DUF3751]               []              [(3, 153)]   \n",
       "1785                        []         [Collar]                      []   \n",
       "\n",
       "            C_ranges  \n",
       "0       [(314, 369)]  \n",
       "1     [(1176, 1229)]  \n",
       "2                 []  \n",
       "3                 []  \n",
       "4                 []  \n",
       "...              ...  \n",
       "1781              []  \n",
       "1782    [(312, 376)]  \n",
       "1783              []  \n",
       "1784              []  \n",
       "1785      [(71, 96)]  \n",
       "\n",
       "[1786 rows x 6 columns]"
      ]
     },
     "execution_count": 8,
     "metadata": {},
     "output_type": "execute_result"
    }
   ],
   "source": [
    "detected_rbps"
   ]
  },
  {
   "cell_type": "code",
   "execution_count": 11,
   "id": "99f7f25f",
   "metadata": {},
   "outputs": [
    {
     "data": {
      "text/plain": [
       "874"
      ]
     },
     "execution_count": 11,
     "metadata": {},
     "output_type": "execute_result"
    }
   ],
   "source": [
    "sum([1 for item in detected_rbps['N_blocks'] if len(item) == 0])"
   ]
  },
  {
   "cell_type": "code",
   "execution_count": 12,
   "id": "b0ea1b1f",
   "metadata": {},
   "outputs": [
    {
     "data": {
      "text/plain": [
       "646"
      ]
     },
     "execution_count": 12,
     "metadata": {},
     "output_type": "execute_result"
    }
   ],
   "source": [
    "sum([1 for item in detected_rbps['C_blocks'] if len(item) == 0])"
   ]
  },
  {
   "cell_type": "markdown",
   "id": "e07bcb24",
   "metadata": {},
   "source": [
    "#### Plot domain architectures"
   ]
  },
  {
   "cell_type": "code",
   "execution_count": 36,
   "id": "a021559f",
   "metadata": {},
   "outputs": [
    {
     "data": {
      "image/png": "[encoded data removed]",
      "text/plain": [
       "<Figure size 864x864 with 2 Axes>"
      ]
     },
     "metadata": {
      "needs_background": "light"
     },
     "output_type": "display_data"
    }
   ],
   "source": [
    "import seaborn as sns\n",
    "N_blocks_long = []\n",
    "C_blocks_long = []\n",
    "for i, N_block in enumerate(detected_rbps['N_blocks']):\n",
    "    for Nb in N_block:\n",
    "        N_blocks_long.append(Nb)\n",
    "    for Cb in detected_rbps['C_blocks'][i]:\n",
    "        C_blocks_long.append(Cb)\n",
    "\n",
    "Nb_df = pd.DataFrame({'N-terminal blocks':N_blocks_long})\n",
    "Cb_df = pd.DataFrame({'C-terminal blocks':C_blocks_long})\n",
    "fig, (ax1, ax2) = plt.subplots(2, 1, figsize=(12,12))\n",
    "sns.countplot(y='N-terminal blocks', data=Nb_df, order=Nb_df['N-terminal blocks'].value_counts().index, ax=ax1)\n",
    "sns.countplot(y='C-terminal blocks', data=Cb_df, order=Cb_df['C-terminal blocks'].value_counts().index, ax=ax2)\n",
    "fig.savefig(results_dir+'/domains_count_plot.png', dpi=400)"
   ]
  },
  {
   "cell_type": "code",
   "execution_count": 9,
   "id": "e64c09ae",
   "metadata": {},
   "outputs": [],
   "source": [
    "label_dict = {'Phage_T7_tail':'Phage_T7_tail', 'Tail_spike_N':'Tail_spike_N', 'Prophage_tail':'Prophage_tail', \n",
    "              'BppU_N':'BppU_N', 'Mtd_N':'Mtd_N', 'Head_binding':'Head_binding', 'DUF3751':'DUF3751', \n",
    "              'End_N_terminal':'End_N_terminal', 'phage_tail_N':'phage_tail_N', 'Prophage_tailD1':'Prophage_tailD1', \n",
    "              'DUF2163':'DUF2163', 'Phage_fiber_2':'Phage_fiber_2', \n",
    "              'unknown_N0':'custom_N_HMM', 'unknown_N1':'custom_N_HMM','unknown_N2':'custom_N_HMM', \n",
    "              'unknown_N3':'custom_N_HMM', 'unknown_N4':'custom_N_HMM', 'unknown_N6':'custom_N_HMM', \n",
    "              'unknown_N10':'custom_N_HMM', 'unknown_N11':'custom_N_HMM', 'unknown_N12':'custom_N_HMM', \n",
    "              'unknown_N13':'custom_N_HMM', 'unknown_N17':'custom_N_HMM', 'unknown_N19':'custom_N_HMM',\n",
    "              'unknown_N23':'custom_N_HMM', 'unknown_N24':'custom_N_HMM', 'unknown_N26':'custom_N_HMM',\n",
    "              'unknown_N29':'custom_N_HMM', 'unknown_N36':'custom_N_HMM', 'unknown_N45':'custom_N_HMM', \n",
    "              'unknown_N48':'custom_N_HMM', 'unknown_N49':'custom_N_HMM', 'unknown_N53':'custom_N_HMM', \n",
    "              'unknown_N57':'custom_N_HMM', 'unknown_N60':'custom_N_HMM', 'unknown_N61':'custom_N_HMM', \n",
    "              'unknown_N65':'custom_N_HMM', 'unknown_N73':'custom_N_HMM', 'unknown_N82':'custom_N_HMM', \n",
    "              'unknown_N83':'custom_N_HMM', 'unknown_N101':'custom_N_HMM', 'unknown_N114':'custom_N_HMM', \n",
    "              'unknown_N119':'custom_N_HMM', 'unknown_N122':'custom_N_HMM', 'unknown_N163':'custom_N_HMM', \n",
    "              'unknown_N174':'custom_N_HMM', 'unknown_N192':'custom_N_HMM', 'unknown_N200':'custom_N_HMM', \n",
    "              'unknown_N206':'custom_N_HMM', 'unknown_N208':'custom_N_HMM', \n",
    "              'Lipase_GDSL_2':'Lipase_GDSL_2', 'Pectate_lyase_3':'Pectate_lyase_3', 'gp37_C':'gp37_C', \n",
    "              'Beta_helix':'Beta_helix', 'Gp58':'Gp58', 'End_beta_propel':'End_beta_propel', \n",
    "              'End_tail_spike':'End_tail_spike', 'End_beta_barrel':'End_beta_barrel', 'PhageP22-tail':'PhageP22-tail', \n",
    "              'Phage_spike_2':'Phage_spike_2', 'gp12-short_mid':'gp12-short_mid', 'Collar':'Collar',\n",
    "              'unknown_C2':'custom_C_HMM', 'unknown_C3':'custom_C_HMM', 'unknown_C8':'custom_C_HMM', \n",
    "              'unknown_C15':'custom_C_HMM', 'unknown_C35':'custom_C_HMM', 'unknown_C54':'custom_C_HMM', \n",
    "              'unknown_C76':'custom_C_HMM', 'unknown_C100':'custom_C_HMM', 'unknown_C105':'custom_C_HMM', \n",
    "              'unknown_C112':'custom_C_HMM', 'unknown_C123':'custom_C_HMM', 'unknown_C179':'custom_C_HMM', \n",
    "              'unknown_C201':'custom_C_HMM', 'unknown_C203':'custom_C_HMM', 'unknown_C228':'custom_C_HMM', \n",
    "              'unknown_C234':'custom_C_HMM', 'unknown_C242':'custom_C_HMM', 'unknown_C258':'custom_C_HMM', \n",
    "              'unknown_C262':'custom_C_HMM', 'unknown_C267':'custom_C_HMM', 'unknown_C268':'custom_C_HMM', \n",
    "              'unknown_C274':'custom_C_HMM', 'unknown_C286':'custom_C_HMM', 'unknown_C292':'custom_C_HMM', \n",
    "              'unknown_C294':'custom_C_HMM', 'Peptidase_S74':'Peptidase_S74', 'Phage_fiber_C':'Phage_fiber_C',\n",
    "              'S_tail_recep_bd':'S_tail_recep_bd', 'CBM_4_9':'CBM_4_9', 'DUF1983':'DUF1983', 'DUF3672':'DUF3672'}"
   ]
  },
  {
   "cell_type": "code",
   "execution_count": 10,
   "id": "f4c7842f",
   "metadata": {},
   "outputs": [
    {
     "name": "stderr",
     "output_type": "stream",
     "text": [
      "/Users/dimi/Documents/GitHub/PhageRBPdetection/RBPdetection_utils.py:928: UserWarning: Matplotlib is currently using module://matplotlib_inline.backend_inline, which is a non-GUI backend, so cannot show the figure.\n",
      "  fig.show()\n"
     ]
    },
    {
     "data": {
      "image/png": "[encoded data removed]",
      "text/plain": [
       "<Figure size 576x648 with 1 Axes>"
      ]
     },
     "metadata": {
      "needs_background": "light"
     },
     "output_type": "display_data"
    }
   ],
   "source": [
    "proteins = [str(Seq(dnaseq).translate())[:-1] for dnaseq in detected_rbps.DNASeq]\n",
    "domains = [detected_rbps.N_blocks[i]+detected_rbps.C_blocks[i] for i in range(detected_rbps.shape[0])]\n",
    "locations = [detected_rbps.N_ranges[i]+detected_rbps.C_ranges[i] for i in range(detected_rbps.shape[0])]\n",
    "sorted_combos = rbpu.protein_architecture_plot(proteins, domains, locations, label_dict=label_dict, count_threshold=5, save_fig=True)"
   ]
  },
  {
   "cell_type": "markdown",
   "id": "797aa008",
   "metadata": {},
   "source": [
    "#### Build custom domains for unknown parts of detected sequences"
   ]
  },
  {
   "cell_type": "code",
   "execution_count": 9,
   "id": "d5856301",
   "metadata": {},
   "outputs": [
    {
     "name": "stdout",
     "output_type": "stream",
     "text": [
      "Checking unknown sequences...\n",
      "Clustering with CD-HIT...\n",
      "Building MSAs...\n",
      "Building HMMs...\n",
      "Done.\n"
     ]
    }
   ],
   "source": [
    "rbpu.build_custom_HMMs(detected_rbps, data_dir, cdpath, hmm_path)"
   ]
  },
  {
   "cell_type": "markdown",
   "id": "e974a9b2",
   "metadata": {},
   "source": [
    "#### Add domains to the Pfam file for new detections\n",
    "\n",
    "Manual step: adding all the different custom-built HMMs to the Pfam file. Easiest thing to do is to copy the Pfam database, add all the files, delete all the previous Pfam database related files (.h3i, .h3f, etc..) and press the new database again."
   ]
  },
  {
   "cell_type": "code",
   "execution_count": 10,
   "id": "53bb740b",
   "metadata": {},
   "outputs": [],
   "source": [
    "new_pfam_file = '/Users/Dimi/GoogleDrive/PhD/3_PHAGEBASE/32_DATA/RBP_detection/Pfam-A_new.hmm'\n",
    "output, err = rbpu.hmmpress_python(hmm_path, new_pfam_file)"
   ]
  },
  {
   "cell_type": "markdown",
   "id": "bound-temple",
   "metadata": {},
   "source": [
    "## 3. Learning patterns and evaluating models<a name=\"ml\"></a>\n",
    "\n",
    "Here, we build an XGBoost classifier to discriminate between phage RBPs and phage nonRBPs, as defined in the processing above. We train our model on all data before October 2021. This allows for a separate and final benchmark against PhANNs using the sequence data that only became available during the last three months of 2021. Therefore, the embeddings that were computed in the cloud also include the record data of each corresponding data point. Then we split according to this date.\n",
    "\n",
    "Findings:\n",
    "- we see that standard scaling does not affect peformance.\n",
    "- the One-class approaches don't seem to work, at least not at a split of 1:10. Perhaps the high dimensionality is also a problem...\n",
    "- The XGBoost classifier seems to work best so far.\n",
    "- The AUC metric considers both the majority and minority class, which can give an overly optimistic estimate of performance. The F1 score considers only the positive/minority class."
   ]
  },
  {
   "cell_type": "markdown",
   "id": "35212beb",
   "metadata": {},
   "source": [
    "#### Load processed data  & filter up to SEP 2021"
   ]
  },
  {
   "cell_type": "code",
   "execution_count": 6,
   "id": "boolean-venice",
   "metadata": {},
   "outputs": [
    {
     "name": "stdout",
     "output_type": "stream",
     "text": [
      "Check? True\n",
      "Check? True\n"
     ]
    }
   ],
   "source": [
    "rbps_em = pd.read_csv(data_dir+'/annotated_RBPs_2022-01_embeddings.csv')\n",
    "nonrbps_em = pd.read_csv(data_dir+'/annotated_nonRBPs_2022-01_embeddings.csv')\n",
    "months = ['OCT-2021', 'NOV-2021', 'DEC-2021']\n",
    "to_delete_rbps = [i for i, date in enumerate(rbps_em['RecordDate']) if any(x in date for x in months)]\n",
    "rbps_upto2021 = rbps_em.drop(to_delete_rbps)\n",
    "rbps_upto2021 = rbps_upto2021.reset_index(drop=True)\n",
    "to_delete_nonrbps = [i for i, date in enumerate(nonrbps_em['RecordDate']) if any(x in date for x in months)]\n",
    "nonrbps_upto2021 = nonrbps_em.drop(to_delete_nonrbps)\n",
    "nonrbps_upto2021 = nonrbps_upto2021.reset_index(drop=True)\n",
    "\n",
    "rbp_embed = np.asarray(rbps_upto2021.iloc[:, 2:])\n",
    "nonrbp_embed = np.asarray(nonrbps_upto2021.iloc[:, 2:])\n",
    "\n",
    "features = np.concatenate((rbp_embed, nonrbp_embed))\n",
    "labels = np.asarray([1]*rbp_embed.shape[0] + [0]*nonrbp_embed.shape[0])\n",
    "print('Check?', features.shape[0]==labels.shape[0])\n",
    "print('Check?', features.shape[1]==1024)"
   ]
  },
  {
   "cell_type": "code",
   "execution_count": 7,
   "id": "18c346e5",
   "metadata": {},
   "outputs": [
    {
     "data": {
      "text/plain": [
       "(4189, 1026)"
      ]
     },
     "execution_count": 7,
     "metadata": {},
     "output_type": "execute_result"
    }
   ],
   "source": [
    "rbps_upto2021.shape"
   ]
  },
  {
   "cell_type": "code",
   "execution_count": 8,
   "id": "2f0b1d2b",
   "metadata": {},
   "outputs": [
    {
     "data": {
      "text/plain": [
       "(37022, 1026)"
      ]
     },
     "execution_count": 8,
     "metadata": {},
     "output_type": "execute_result"
    }
   ],
   "source": [
    "nonrbps_upto2021.shape"
   ]
  },
  {
   "cell_type": "markdown",
   "id": "3edbe2b6",
   "metadata": {},
   "source": [
    "#### Explore the embeddings with PCA & tSNE"
   ]
  },
  {
   "cell_type": "code",
   "execution_count": 8,
   "id": "66cc9808",
   "metadata": {},
   "outputs": [
    {
     "name": "stdout",
     "output_type": "stream",
     "text": [
      "[0.21927851 0.16474411 0.13806368 0.0748293  0.0392286 ] 0.6361441929162012\n"
     ]
    },
    {
     "name": "stderr",
     "output_type": "stream",
     "text": [
      "/opt/homebrew/Caskroom/miniforge/base/envs/ML1/lib/python3.9/site-packages/sklearn/manifold/_t_sne.py:780: FutureWarning: The default initialization in TSNE will change from 'random' to 'pca' in 1.2.\n",
      "  warnings.warn(\n",
      "/opt/homebrew/Caskroom/miniforge/base/envs/ML1/lib/python3.9/site-packages/sklearn/manifold/_t_sne.py:790: FutureWarning: The default learning rate in TSNE will change from 200.0 to 'auto' in 1.2.\n",
      "  warnings.warn(\n"
     ]
    }
   ],
   "source": [
    "# PCA to visualize class separation\n",
    "pca = PCA(n_components=5)\n",
    "fr_pca = pca.fit_transform(features)\n",
    "print(pca.explained_variance_ratio_, sum(pca.explained_variance_ratio_))\n",
    "\n",
    "tsne = TSNE(n_components=3)\n",
    "fr_tsne = tsne.fit_transform(features)"
   ]
  },
  {
   "cell_type": "code",
   "execution_count": 9,
   "id": "a472d563",
   "metadata": {},
   "outputs": [
    {
     "data": {
      "image/png": "[encoded data removed]",
      "text/plain": [
       "<Figure size 720x576 with 1 Axes>"
      ]
     },
     "metadata": {
      "needs_background": "light"
     },
     "output_type": "display_data"
    }
   ],
   "source": [
    "fr = fr_tsne\n",
    "fig, ax = plt.subplots(figsize=(10, 8))\n",
    "colors = [\"navy\", \"turquoise\"]\n",
    "for color, i in zip(colors, [0, 1]):\n",
    "    ax.scatter(fr[labels == i, 0], fr[labels == i, 1], color=color, alpha=0.8, lw=2)"
   ]
  },
  {
   "cell_type": "markdown",
   "id": "71f23ba0",
   "metadata": {},
   "source": [
    "#### Nested cross-validation: optimize hyperparameters and evaluate model performance"
   ]
  },
  {
   "cell_type": "code",
   "execution_count": 18,
   "id": "fb22e878",
   "metadata": {},
   "outputs": [],
   "source": [
    "# define cross-validation iterator & models\n",
    "imbalance = rbp_embed.shape[0]/nonrbp_embed.shape[0]\n",
    "inner_cv = StratifiedKFold(n_splits=2, shuffle=True)\n",
    "outer_cv = StratifiedKFold(n_splits=4, shuffle=True)\n",
    "performances = {'F1':[], 'P':[], 'AUC':[]}\n",
    "cpus = 6\n",
    "\n",
    "xgb = XGBClassifier(scale_pos_weight=1/imbalance, n_jobs=cpus, use_label_encoder=False)\n",
    "params_xgb = {'max_depth': [3, 5], 'n_estimators': [250, 500]}"
   ]
  },
  {
   "cell_type": "code",
   "execution_count": 19,
   "id": "a25c9204",
   "metadata": {},
   "outputs": [
    {
     "data": {
      "application/vnd.jupyter.widget-view+json": {
       "model_id": "9b40c5284f31449f99be13643b20d89f",
       "version_major": 2,
       "version_minor": 0
      },
      "text/plain": [
       "4-fold CV:   0%|          | 0/4 [00:00<?, ?it/s]"
      ]
     },
     "metadata": {},
     "output_type": "display_data"
    },
    {
     "name": "stdout",
     "output_type": "stream",
     "text": [
      "{'max_depth': 5, 'n_estimators': 250}\n",
      "{'max_depth': 3, 'n_estimators': 500}\n",
      "{'max_depth': 3, 'n_estimators': 500}\n",
      "{'max_depth': 5, 'n_estimators': 500}\n"
     ]
    }
   ],
   "source": [
    "probabilities = np.zeros((features.shape[0], 2))\n",
    "preds = np.zeros(features.shape[0])\n",
    "bar = tqdm(total=4, desc='4-fold CV')\n",
    "\n",
    "# define outer loop\n",
    "for train_outer, test_outer in outer_cv.split(features, labels):\n",
    "    X_train, X_test = features[train_outer], features[test_outer]\n",
    "    y_train, y_test = labels[train_outer], labels[test_outer]\n",
    "\n",
    "    # define inner loop (in GridSearchCV)\n",
    "    tuned_xgb = GridSearchCV(xgb, cv=inner_cv, param_grid=params_xgb, scoring='f1')\n",
    "    tuned_xgb.fit(X_train, y_train, eval_metric='logloss')\n",
    "    print(tuned_xgb.best_params_)\n",
    "\n",
    "    # make predictions for test set (outer loop)\n",
    "    y_probs = tuned_xgb.predict_proba(X_test)\n",
    "    y_preds = tuned_xgb.predict(X_test)\n",
    "\n",
    "    # store predictions at the corresponding locations\n",
    "    for i, index in enumerate(test_outer):\n",
    "        probabilities[index,:] = y_probs[i,:]\n",
    "        preds[index] = y_preds[i]\n",
    "        \n",
    "    bar.update(1)\n",
    "bar.close()"
   ]
  },
  {
   "cell_type": "code",
   "execution_count": 26,
   "id": "79c4988f",
   "metadata": {},
   "outputs": [
    {
     "name": "stdout",
     "output_type": "stream",
     "text": [
      "F1: 0.8856510082760228\n",
      "PRAUC: 0.938\n"
     ]
    }
   ],
   "source": [
    "precision, recall, thresholds = precision_recall_curve(labels, probabilities[:,1])\n",
    "print('F1:', f1_score(labels, preds))\n",
    "print('PRAUC:', round(auc(recall, precision), 3))"
   ]
  },
  {
   "cell_type": "code",
   "execution_count": 28,
   "id": "ead3f9f4",
   "metadata": {},
   "outputs": [],
   "source": [
    "# store predictions for further use (PR curves & PRAUC)\n",
    "xgb_results = pd.concat([pd.DataFrame(preds, columns=['Predictions']), \n",
    "                        pd.DataFrame(probabilities[:,1], columns=['Score_pos'])], axis=1)\n",
    "xgb_results.to_csv(results_dir+'/xgboost_4foldCV_results.csv', index=False)"
   ]
  },
  {
   "cell_type": "code",
   "execution_count": 31,
   "id": "940a7f2c",
   "metadata": {},
   "outputs": [],
   "source": [
    "# train model with best params on all data\n",
    "xgb_all = XGBClassifier(scale_pos_weight=1/imbalance, n_jobs=cpus, use_label_encoder=False, \n",
    "                        max_depth=3, n_estimators=500)\n",
    "xgb_all.fit(features, labels, eval_metric='logloss')\n",
    "\n",
    "# save model for later benchmark with phANNs\n",
    "xgb_all.save_model(results_dir+'/RBPdetect_xgb_model.json')"
   ]
  },
  {
   "cell_type": "markdown",
   "id": "cff9ca16",
   "metadata": {},
   "source": [
    "## 4. Benchmarking domain-based approach, ML-based approach and PhANNs<a name=\"bench\"></a>"
   ]
  },
  {
   "cell_type": "code",
   "execution_count": 3,
   "id": "ad336582",
   "metadata": {},
   "outputs": [
    {
     "name": "stdout",
     "output_type": "stream",
     "text": [
      "Check? True\n",
      "Check? True\n"
     ]
    }
   ],
   "source": [
    "# load data and select 2021 (oct-nov-dec) data as test set\n",
    "rbps_em = pd.read_csv(data_dir+'/annotated_RBPs_2022-01_embeddings.csv')\n",
    "nonrbps_em = pd.read_csv(data_dir+'/annotated_nonRBPs_2022-01_embeddings.csv')\n",
    "months = ['OCT-2021', 'NOV-2021', 'DEC-2021']\n",
    "to_delete_rbps = [i for i, date in enumerate(rbps_em['RecordDate']) if all(x not in date for x in months)]\n",
    "rbps_2021 = rbps_em.drop(to_delete_rbps)\n",
    "rbps_2021 = rbps_2021.reset_index(drop=True)\n",
    "to_delete_nonrbps = [i for i, date in enumerate(nonrbps_em['RecordDate']) if all(x not in date for x in months)]\n",
    "nonrbps_2021 = nonrbps_em.drop(to_delete_nonrbps)\n",
    "nonrbps_2021 = nonrbps_2021.reset_index(drop=True)\n",
    "testdata = pd.concat([rbps_2021, nonrbps_2021], axis=0)\n",
    "print('Check?', testdata.shape[0]==(rbps_2021.shape[0]+nonrbps_2021.shape[0]))\n",
    "\n",
    "# features for our XGBoost model\n",
    "testfeatures = np.asarray(testdata.iloc[:, 2:])\n",
    "testlabels = np.asarray([1]*rbps_2021.shape[0] + [0]*nonrbps_2021.shape[0])\n",
    "\n",
    "# sequence DF for PhANNs\n",
    "rbps = pd.read_csv(data_dir+'/annotated_RBPs_2022-01.csv')\n",
    "nonrbps = pd.read_csv(data_dir+'/annotated_nonRBPs_2022-01.csv')\n",
    "rbps_2021 = rbps.drop(to_delete_rbps)\n",
    "nonrbps_2021_ids = list(nonrbps_2021['protein_id'])\n",
    "to_delete_nonrbps = [i for i, pid in enumerate(nonrbps['protein_id']) if pid not in nonrbps_2021_ids]\n",
    "nonrbps_2021 = nonrbps.drop(to_delete_nonrbps)\n",
    "testdata_df = pd.concat([rbps_2021, nonrbps_2021], axis=0)\n",
    "testdata_df = testdata_df.reset_index(drop=True)\n",
    "print('Check?', testdata.shape[0]==testdata_df.shape[0])"
   ]
  },
  {
   "cell_type": "code",
   "execution_count": 12,
   "id": "a56372d3",
   "metadata": {},
   "outputs": [
    {
     "data": {
      "text/html": [
       "<div>\n",
       "<style scoped>\n",
       "    .dataframe tbody tr th:only-of-type {\n",
       "        vertical-align: middle;\n",
       "    }\n",
       "\n",
       "    .dataframe tbody tr th {\n",
       "        vertical-align: top;\n",
       "    }\n",
       "\n",
       "    .dataframe thead th {\n",
       "        text-align: right;\n",
       "    }\n",
       "</style>\n",
       "<table border=\"1\" class=\"dataframe\">\n",
       "  <thead>\n",
       "    <tr style=\"text-align: right;\">\n",
       "      <th></th>\n",
       "      <th>phage_id</th>\n",
       "      <th>protein_id</th>\n",
       "      <th>Organism</th>\n",
       "      <th>Host</th>\n",
       "      <th>ProteinName</th>\n",
       "      <th>ProteinSeq</th>\n",
       "      <th>DNASeq</th>\n",
       "      <th>RecordDate</th>\n",
       "    </tr>\n",
       "  </thead>\n",
       "  <tbody>\n",
       "    <tr>\n",
       "      <th>0</th>\n",
       "      <td>OL441337</td>\n",
       "      <td>UFK26514.1</td>\n",
       "      <td>Pseudomonas phage PaP_Se</td>\n",
       "      <td>Pseudomonas aeruginosa</td>\n",
       "      <td>tail fibers protein</td>\n",
       "      <td>MGLEVATYINQLVPTNPTGSDLKSFGDDHLRLIKSAIKNTFPNISQ...</td>\n",
       "      <td>ATGGGTCTTGAGGTCGCAACTTATATTAACCAGTTGGTGCCTACGA...</td>\n",
       "      <td>28-NOV-2021</td>\n",
       "    </tr>\n",
       "    <tr>\n",
       "      <th>1</th>\n",
       "      <td>OK625527</td>\n",
       "      <td>UFK26377.1</td>\n",
       "      <td>Klebsiella phage vB_KpnP_ZK1</td>\n",
       "      <td>Klebsiella pneumoniae</td>\n",
       "      <td>tail fibers protein</td>\n",
       "      <td>MEVQGSLGRQIQGISQQPASVRLPGQCTDAINCSMDVVEGTKSRPG...</td>\n",
       "      <td>ATGGAAGTTCAAGGCTCGTTAGGTCGGCAGATACAAGGTATCAGCC...</td>\n",
       "      <td>28-NOV-2021</td>\n",
       "    </tr>\n",
       "    <tr>\n",
       "      <th>2</th>\n",
       "      <td>OK562429</td>\n",
       "      <td>UFJ83549.1</td>\n",
       "      <td>Klebsiella phage P929</td>\n",
       "      <td>Klebsiella pneumoniae Kp325</td>\n",
       "      <td>non-contractile tail fiber protein</td>\n",
       "      <td>MAFSWQEQIKPAGTQDIQCDIEYLDKSYIHVYLDGEETTGYTWTSS...</td>\n",
       "      <td>ATGGCGTTCAGCTGGCAAGAACAAATCAAGCCAGCTGGTACCCAGG...</td>\n",
       "      <td>28-NOV-2021</td>\n",
       "    </tr>\n",
       "    <tr>\n",
       "      <th>3</th>\n",
       "      <td>OK546191</td>\n",
       "      <td>UFJ83440.1</td>\n",
       "      <td>Acinetobacter phage vB_AbaP_ABWU2101</td>\n",
       "      <td>Acinetobacter baumannii</td>\n",
       "      <td>tailspike protein</td>\n",
       "      <td>MNILRSFTETVVTTPTELFPISFEYDEKYDAVHVFLNDVAVEDLGY...</td>\n",
       "      <td>ATGAATATACTACGCTCATTTACAGAGACAGTGGTGACTACACCTA...</td>\n",
       "      <td>28-NOV-2021</td>\n",
       "    </tr>\n",
       "    <tr>\n",
       "      <th>4</th>\n",
       "      <td>MZ675741</td>\n",
       "      <td>UFJ83225.1</td>\n",
       "      <td>Acinetobacter phage Ab1656-2</td>\n",
       "      <td>Acinetobacter baumannii 1656-2</td>\n",
       "      <td>putative tail fiber</td>\n",
       "      <td>MANLVFKFSWDHRPFPYNASQGKRQFMLPFASGIPNLAPNFSQVVG...</td>\n",
       "      <td>ATGGCAAATCTTGTTTTTAAATTTAGTTGGGATCATCGGCCATTCC...</td>\n",
       "      <td>28-NOV-2021</td>\n",
       "    </tr>\n",
       "    <tr>\n",
       "      <th>...</th>\n",
       "      <td>...</td>\n",
       "      <td>...</td>\n",
       "      <td>...</td>\n",
       "      <td>...</td>\n",
       "      <td>...</td>\n",
       "      <td>...</td>\n",
       "      <td>...</td>\n",
       "      <td>...</td>\n",
       "    </tr>\n",
       "    <tr>\n",
       "      <th>26720</th>\n",
       "      <td>MZ514874</td>\n",
       "      <td>QZI85268.1</td>\n",
       "      <td>Acinetobacter phage Ab105-2phideltaCI404ad</td>\n",
       "      <td>Acinetobacter baumannii Ab404_GEIH-2010</td>\n",
       "      <td>coat protein</td>\n",
       "      <td>MGDTKIADVIVPELFTPYVLNKTAEKSALWQSGIVGELDEKVAFGT...</td>\n",
       "      <td>ATGGGCGACACAAAAATTGCTGATGTAATCGTACCCGAGTTATTCA...</td>\n",
       "      <td>30-NOV-2021</td>\n",
       "    </tr>\n",
       "    <tr>\n",
       "      <th>26721</th>\n",
       "      <td>MZ514874</td>\n",
       "      <td>QZI85283.1</td>\n",
       "      <td>Acinetobacter phage Ab105-2phideltaCI404ad</td>\n",
       "      <td>Acinetobacter baumannii Ab404_GEIH-2010</td>\n",
       "      <td>DUF4468 domain-containing protein</td>\n",
       "      <td>MKKILAAGLIGFGLVGCATTPQQPSEPVKFEKVYQIDGLKQGQIYD...</td>\n",
       "      <td>ATGAAAAAAATATTGGCTGCTGGATTAATCGGTTTTGGGTTAGTTG...</td>\n",
       "      <td>30-NOV-2021</td>\n",
       "    </tr>\n",
       "    <tr>\n",
       "      <th>26722</th>\n",
       "      <td>MZ514874</td>\n",
       "      <td>QZI85288.1</td>\n",
       "      <td>Acinetobacter phage Ab105-2phideltaCI404ad</td>\n",
       "      <td>Acinetobacter baumannii Ab404_GEIH-2010</td>\n",
       "      <td>Rha family transcriptional regulator</td>\n",
       "      <td>MNMMSVLNLRAVVTQENGEVKTTSYAVAEAFDKLHKNVIRDIEKLR...</td>\n",
       "      <td>ATGAATATGATGTCAGTATTAAACTTAAGAGCTGTTGTTACACAGG...</td>\n",
       "      <td>30-NOV-2021</td>\n",
       "    </tr>\n",
       "    <tr>\n",
       "      <th>26723</th>\n",
       "      <td>MZ514874</td>\n",
       "      <td>QZI85300.1</td>\n",
       "      <td>Acinetobacter phage Ab105-2phideltaCI404ad</td>\n",
       "      <td>Acinetobacter baumannii Ab404_GEIH-2010</td>\n",
       "      <td>BRO family, N-terminal domain protein</td>\n",
       "      <td>MSSLALSFNEVKFNPVVRDNGQIYLTAGELAQALDYKSVKSVSNLY...</td>\n",
       "      <td>ATGTCTAGTTTAGCATTAAGCTTTAACGAAGTGAAATTTAACCCGG...</td>\n",
       "      <td>30-NOV-2021</td>\n",
       "    </tr>\n",
       "    <tr>\n",
       "      <th>26724</th>\n",
       "      <td>MZ514874</td>\n",
       "      <td>QZI85302.1</td>\n",
       "      <td>Acinetobacter phage Ab105-2phideltaCI404ad</td>\n",
       "      <td>Acinetobacter baumannii Ab404_GEIH-2010</td>\n",
       "      <td>glycosylhydrolase 108</td>\n",
       "      <td>MNIEQYLDELIKREGGYVNNPADRGGATKYGITEAVARANGFKGNM...</td>\n",
       "      <td>ATGAACATCGAACAATATCTTGATGAGTTGATCAAACGAGAAGGCG...</td>\n",
       "      <td>30-NOV-2021</td>\n",
       "    </tr>\n",
       "  </tbody>\n",
       "</table>\n",
       "<p>26725 rows × 8 columns</p>\n",
       "</div>"
      ],
      "text/plain": [
       "       phage_id  protein_id                                    Organism  \\\n",
       "0      OL441337  UFK26514.1                    Pseudomonas phage PaP_Se   \n",
       "1      OK625527  UFK26377.1                Klebsiella phage vB_KpnP_ZK1   \n",
       "2      OK562429  UFJ83549.1                       Klebsiella phage P929   \n",
       "3      OK546191  UFJ83440.1        Acinetobacter phage vB_AbaP_ABWU2101   \n",
       "4      MZ675741  UFJ83225.1                Acinetobacter phage Ab1656-2   \n",
       "...         ...         ...                                         ...   \n",
       "26720  MZ514874  QZI85268.1  Acinetobacter phage Ab105-2phideltaCI404ad   \n",
       "26721  MZ514874  QZI85283.1  Acinetobacter phage Ab105-2phideltaCI404ad   \n",
       "26722  MZ514874  QZI85288.1  Acinetobacter phage Ab105-2phideltaCI404ad   \n",
       "26723  MZ514874  QZI85300.1  Acinetobacter phage Ab105-2phideltaCI404ad   \n",
       "26724  MZ514874  QZI85302.1  Acinetobacter phage Ab105-2phideltaCI404ad   \n",
       "\n",
       "                                          Host  \\\n",
       "0                       Pseudomonas aeruginosa   \n",
       "1                        Klebsiella pneumoniae   \n",
       "2                  Klebsiella pneumoniae Kp325   \n",
       "3                      Acinetobacter baumannii   \n",
       "4               Acinetobacter baumannii 1656-2   \n",
       "...                                        ...   \n",
       "26720  Acinetobacter baumannii Ab404_GEIH-2010   \n",
       "26721  Acinetobacter baumannii Ab404_GEIH-2010   \n",
       "26722  Acinetobacter baumannii Ab404_GEIH-2010   \n",
       "26723  Acinetobacter baumannii Ab404_GEIH-2010   \n",
       "26724  Acinetobacter baumannii Ab404_GEIH-2010   \n",
       "\n",
       "                                 ProteinName  \\\n",
       "0                        tail fibers protein   \n",
       "1                        tail fibers protein   \n",
       "2         non-contractile tail fiber protein   \n",
       "3                          tailspike protein   \n",
       "4                        putative tail fiber   \n",
       "...                                      ...   \n",
       "26720                           coat protein   \n",
       "26721      DUF4468 domain-containing protein   \n",
       "26722   Rha family transcriptional regulator   \n",
       "26723  BRO family, N-terminal domain protein   \n",
       "26724                  glycosylhydrolase 108   \n",
       "\n",
       "                                              ProteinSeq  \\\n",
       "0      MGLEVATYINQLVPTNPTGSDLKSFGDDHLRLIKSAIKNTFPNISQ...   \n",
       "1      MEVQGSLGRQIQGISQQPASVRLPGQCTDAINCSMDVVEGTKSRPG...   \n",
       "2      MAFSWQEQIKPAGTQDIQCDIEYLDKSYIHVYLDGEETTGYTWTSS...   \n",
       "3      MNILRSFTETVVTTPTELFPISFEYDEKYDAVHVFLNDVAVEDLGY...   \n",
       "4      MANLVFKFSWDHRPFPYNASQGKRQFMLPFASGIPNLAPNFSQVVG...   \n",
       "...                                                  ...   \n",
       "26720  MGDTKIADVIVPELFTPYVLNKTAEKSALWQSGIVGELDEKVAFGT...   \n",
       "26721  MKKILAAGLIGFGLVGCATTPQQPSEPVKFEKVYQIDGLKQGQIYD...   \n",
       "26722  MNMMSVLNLRAVVTQENGEVKTTSYAVAEAFDKLHKNVIRDIEKLR...   \n",
       "26723  MSSLALSFNEVKFNPVVRDNGQIYLTAGELAQALDYKSVKSVSNLY...   \n",
       "26724  MNIEQYLDELIKREGGYVNNPADRGGATKYGITEAVARANGFKGNM...   \n",
       "\n",
       "                                                  DNASeq   RecordDate  \n",
       "0      ATGGGTCTTGAGGTCGCAACTTATATTAACCAGTTGGTGCCTACGA...  28-NOV-2021  \n",
       "1      ATGGAAGTTCAAGGCTCGTTAGGTCGGCAGATACAAGGTATCAGCC...  28-NOV-2021  \n",
       "2      ATGGCGTTCAGCTGGCAAGAACAAATCAAGCCAGCTGGTACCCAGG...  28-NOV-2021  \n",
       "3      ATGAATATACTACGCTCATTTACAGAGACAGTGGTGACTACACCTA...  28-NOV-2021  \n",
       "4      ATGGCAAATCTTGTTTTTAAATTTAGTTGGGATCATCGGCCATTCC...  28-NOV-2021  \n",
       "...                                                  ...          ...  \n",
       "26720  ATGGGCGACACAAAAATTGCTGATGTAATCGTACCCGAGTTATTCA...  30-NOV-2021  \n",
       "26721  ATGAAAAAAATATTGGCTGCTGGATTAATCGGTTTTGGGTTAGTTG...  30-NOV-2021  \n",
       "26722  ATGAATATGATGTCAGTATTAAACTTAAGAGCTGTTGTTACACAGG...  30-NOV-2021  \n",
       "26723  ATGTCTAGTTTAGCATTAAGCTTTAACGAAGTGAAATTTAACCCGG...  30-NOV-2021  \n",
       "26724  ATGAACATCGAACAATATCTTGATGAGTTGATCAAACGAGAAGGCG...  30-NOV-2021  \n",
       "\n",
       "[26725 rows x 8 columns]"
      ]
     },
     "execution_count": 12,
     "metadata": {},
     "output_type": "execute_result"
    }
   ],
   "source": [
    "testdata_df"
   ]
  },
  {
   "cell_type": "markdown",
   "id": "09e20200",
   "metadata": {},
   "source": [
    "#### Predictions with protein domains\n",
    "\n",
    "Make sure the extended Pfam HMM database is pressed first, otherwise detection won't work."
   ]
  },
  {
   "cell_type": "code",
   "execution_count": 5,
   "id": "a7b9e439",
   "metadata": {},
   "outputs": [],
   "source": [
    "N_blocks = ['Phage_T7_tail', 'Tail_spike_N', 'Prophage_tail', 'BppU_N', 'Mtd_N', \n",
    "           'Head_binding', 'DUF3751', 'End_N_terminal', 'phage_tail_N', 'Prophage_tailD1', \n",
    "           'DUF2163', 'Phage_fiber_2', 'unknown_N0', 'unknown_N1', 'unknown_N2', 'unknown_N3', 'unknown_N4', \n",
    "            'unknown_N6', 'unknown_N10', 'unknown_N11', 'unknown_N12', 'unknown_N13', 'unknown_N17', 'unknown_N19', \n",
    "            'unknown_N23', 'unknown_N24', 'unknown_N26','unknown_N29', 'unknown_N36', 'unknown_N45', 'unknown_N48', \n",
    "            'unknown_N49', 'unknown_N53', 'unknown_N57', 'unknown_N60', 'unknown_N61', 'unknown_N65', 'unknown_N73', \n",
    "            'unknown_N82', 'unknown_N83', 'unknown_N101', 'unknown_N114', 'unknown_N119', 'unknown_N122', \n",
    "            'unknown_N163', 'unknown_N174', 'unknown_N192', 'unknown_N200', 'unknown_N206', 'unknown_N208']\n",
    "C_blocks = ['Lipase_GDSL_2', 'Pectate_lyase_3', 'gp37_C', 'Beta_helix', 'Gp58', 'End_beta_propel', \n",
    "            'End_tail_spike', 'End_beta_barrel', 'PhageP22-tail', 'Phage_spike_2', \n",
    "            'gp12-short_mid', 'Collar', \n",
    "            'unknown_C2', 'unknown_C3', 'unknown_C8', 'unknown_C15', 'unknown_C35', 'unknown_C54', 'unknown_C76', \n",
    "            'unknown_C100', 'unknown_C105', 'unknown_C112', 'unknown_C123', 'unknown_C179', 'unknown_C201', \n",
    "            'unknown_C203', 'unknown_C228', 'unknown_C234', 'unknown_C242', 'unknown_C258', 'unknown_C262', \n",
    "            'unknown_C267', 'unknown_C268', 'unknown_C274', 'unknown_C286', 'unknown_C292', 'unknown_C294', \n",
    "            'Peptidase_S74', 'Phage_fiber_C', 'S_tail_recep_bd', 'CBM_4_9', 'DUF1983', 'DUF3672']\n",
    "new_pfam_file = '/Users/Dimi/GoogleDrive/PhD/3_PHAGEBASE/32_DATA/RBP_detection/Pfam-A_new.hmm'"
   ]
  },
  {
   "cell_type": "code",
   "execution_count": 6,
   "id": "013674bf",
   "metadata": {},
   "outputs": [
    {
     "data": {
      "application/vnd.jupyter.widget-view+json": {
       "model_id": "834a47cf05b74028a92b51f24107ec6c",
       "version_major": 2,
       "version_minor": 0
      },
      "text/plain": [
       "Scanning the genes:   0%|          | 0/26725 [00:00<?, ?it/s]"
      ]
     },
     "metadata": {},
     "output_type": "display_data"
    },
    {
     "name": "stderr",
     "output_type": "stream",
     "text": [
      "/opt/homebrew/Caskroom/miniforge/base/envs/ML1/lib/python3.9/site-packages/Bio/Seq.py:2979: BiopythonWarning: Partial codon, len(sequence) not a multiple of three. Explicitly trim the sequence or add trailing N before translation. This may become an error in future.\n",
      "  warnings.warn(\n"
     ]
    }
   ],
   "source": [
    "detected = rbpu.RBPdetect_domains(hmm_path, new_pfam_file, testdata_df['DNASeq'], testdata_df['protein_id'], \n",
    "                                  N_blocks=N_blocks, C_blocks=C_blocks, detect_others=False)"
   ]
  },
  {
   "cell_type": "code",
   "execution_count": 7,
   "id": "ff03a7e0",
   "metadata": {},
   "outputs": [
    {
     "data": {
      "text/html": [
       "<div>\n",
       "<style scoped>\n",
       "    .dataframe tbody tr th:only-of-type {\n",
       "        vertical-align: middle;\n",
       "    }\n",
       "\n",
       "    .dataframe tbody tr th {\n",
       "        vertical-align: top;\n",
       "    }\n",
       "\n",
       "    .dataframe thead th {\n",
       "        text-align: right;\n",
       "    }\n",
       "</style>\n",
       "<table border=\"1\" class=\"dataframe\">\n",
       "  <thead>\n",
       "    <tr style=\"text-align: right;\">\n",
       "      <th></th>\n",
       "      <th>identifier</th>\n",
       "      <th>DNASeq</th>\n",
       "      <th>N_blocks</th>\n",
       "      <th>C_blocks</th>\n",
       "      <th>N_ranges</th>\n",
       "      <th>C_ranges</th>\n",
       "    </tr>\n",
       "  </thead>\n",
       "  <tbody>\n",
       "    <tr>\n",
       "      <th>0</th>\n",
       "      <td>UFK26514.1</td>\n",
       "      <td>ATGGGTCTTGAGGTCGCAACTTATATTAACCAGTTGGTGCCTACGA...</td>\n",
       "      <td>[unknown_N48]</td>\n",
       "      <td>[]</td>\n",
       "      <td>[(20, 90)]</td>\n",
       "      <td>[]</td>\n",
       "    </tr>\n",
       "    <tr>\n",
       "      <th>1</th>\n",
       "      <td>UFJ83549.1</td>\n",
       "      <td>ATGGCGTTCAGCTGGCAAGAACAAATCAAGCCAGCTGGTACCCAGG...</td>\n",
       "      <td>[Phage_T7_tail, unknown_N2]</td>\n",
       "      <td>[unknown_C234, unknown_C76, unknown_C286]</td>\n",
       "      <td>[(13, 140), (10, 105)]</td>\n",
       "      <td>[(141, 306), (131, 281), (26, 36)]</td>\n",
       "    </tr>\n",
       "    <tr>\n",
       "      <th>2</th>\n",
       "      <td>UFJ83440.1</td>\n",
       "      <td>ATGAATATACTACGCTCATTTACAGAGACAGTGGTGACTACACCTA...</td>\n",
       "      <td>[unknown_N2]</td>\n",
       "      <td>[Pectate_lyase_3]</td>\n",
       "      <td>[(0, 172)]</td>\n",
       "      <td>[(175, 382)]</td>\n",
       "    </tr>\n",
       "    <tr>\n",
       "      <th>3</th>\n",
       "      <td>UFJ83225.1</td>\n",
       "      <td>ATGGCAAATCTTGTTTTTAAATTTAGTTGGGATCATCGGCCATTCC...</td>\n",
       "      <td>[unknown_N29]</td>\n",
       "      <td>[]</td>\n",
       "      <td>[(47, 68)]</td>\n",
       "      <td>[]</td>\n",
       "    </tr>\n",
       "    <tr>\n",
       "      <th>4</th>\n",
       "      <td>YP_009966145.1</td>\n",
       "      <td>ATGGCTGATACAACACAATTTGAACAGGCTGTGGATCAGGTTATCG...</td>\n",
       "      <td>[]</td>\n",
       "      <td>[unknown_C123]</td>\n",
       "      <td>[]</td>\n",
       "      <td>[(64, 115)]</td>\n",
       "    </tr>\n",
       "    <tr>\n",
       "      <th>...</th>\n",
       "      <td>...</td>\n",
       "      <td>...</td>\n",
       "      <td>...</td>\n",
       "      <td>...</td>\n",
       "      <td>...</td>\n",
       "      <td>...</td>\n",
       "    </tr>\n",
       "    <tr>\n",
       "      <th>1676</th>\n",
       "      <td>YP_009217703.1</td>\n",
       "      <td>ATGCCAATTATACTATCGGTGAGTAAGGGAAGTCCCCTTACTTGTG...</td>\n",
       "      <td>[unknown_N48]</td>\n",
       "      <td>[Collar]</td>\n",
       "      <td>[(56, 104)]</td>\n",
       "      <td>[(224, 276)]</td>\n",
       "    </tr>\n",
       "    <tr>\n",
       "      <th>1677</th>\n",
       "      <td>YP_009042668.1</td>\n",
       "      <td>ATGGCAGTAATTAAATCAGAATACCTACTTTCAAATTATGACCCAG...</td>\n",
       "      <td>[]</td>\n",
       "      <td>[unknown_C3]</td>\n",
       "      <td>[]</td>\n",
       "      <td>[(19, 81)]</td>\n",
       "    </tr>\n",
       "    <tr>\n",
       "      <th>1678</th>\n",
       "      <td>YP_009042547.1</td>\n",
       "      <td>ATGGCATCAGAAGAAATTAAAAAGACCGCTGTCATTAACATGTATG...</td>\n",
       "      <td>[BppU_N]</td>\n",
       "      <td>[]</td>\n",
       "      <td>[(23, 166)]</td>\n",
       "      <td>[]</td>\n",
       "    </tr>\n",
       "    <tr>\n",
       "      <th>1679</th>\n",
       "      <td>YP_007392815.1</td>\n",
       "      <td>ATGAGTTTTAACAGCCGCGAAAGCTCGCTCGCGGATGGGCAGCCGG...</td>\n",
       "      <td>[DUF2163]</td>\n",
       "      <td>[]</td>\n",
       "      <td>[(13, 159)]</td>\n",
       "      <td>[]</td>\n",
       "    </tr>\n",
       "    <tr>\n",
       "      <th>1680</th>\n",
       "      <td>NP_899593.1</td>\n",
       "      <td>ATGTCAGGAACAAACATATTCACGCACGCGAGTGACGAGGCAAAAT...</td>\n",
       "      <td>[unknown_N4, unknown_N0, unknown_N83]</td>\n",
       "      <td>[]</td>\n",
       "      <td>[(3, 200), (4, 201), (3, 205)]</td>\n",
       "      <td>[]</td>\n",
       "    </tr>\n",
       "  </tbody>\n",
       "</table>\n",
       "<p>1681 rows × 6 columns</p>\n",
       "</div>"
      ],
      "text/plain": [
       "          identifier                                             DNASeq  \\\n",
       "0         UFK26514.1  ATGGGTCTTGAGGTCGCAACTTATATTAACCAGTTGGTGCCTACGA...   \n",
       "1         UFJ83549.1  ATGGCGTTCAGCTGGCAAGAACAAATCAAGCCAGCTGGTACCCAGG...   \n",
       "2         UFJ83440.1  ATGAATATACTACGCTCATTTACAGAGACAGTGGTGACTACACCTA...   \n",
       "3         UFJ83225.1  ATGGCAAATCTTGTTTTTAAATTTAGTTGGGATCATCGGCCATTCC...   \n",
       "4     YP_009966145.1  ATGGCTGATACAACACAATTTGAACAGGCTGTGGATCAGGTTATCG...   \n",
       "...              ...                                                ...   \n",
       "1676  YP_009217703.1  ATGCCAATTATACTATCGGTGAGTAAGGGAAGTCCCCTTACTTGTG...   \n",
       "1677  YP_009042668.1  ATGGCAGTAATTAAATCAGAATACCTACTTTCAAATTATGACCCAG...   \n",
       "1678  YP_009042547.1  ATGGCATCAGAAGAAATTAAAAAGACCGCTGTCATTAACATGTATG...   \n",
       "1679  YP_007392815.1  ATGAGTTTTAACAGCCGCGAAAGCTCGCTCGCGGATGGGCAGCCGG...   \n",
       "1680     NP_899593.1  ATGTCAGGAACAAACATATTCACGCACGCGAGTGACGAGGCAAAAT...   \n",
       "\n",
       "                                   N_blocks  \\\n",
       "0                             [unknown_N48]   \n",
       "1               [Phage_T7_tail, unknown_N2]   \n",
       "2                              [unknown_N2]   \n",
       "3                             [unknown_N29]   \n",
       "4                                        []   \n",
       "...                                     ...   \n",
       "1676                          [unknown_N48]   \n",
       "1677                                     []   \n",
       "1678                               [BppU_N]   \n",
       "1679                              [DUF2163]   \n",
       "1680  [unknown_N4, unknown_N0, unknown_N83]   \n",
       "\n",
       "                                       C_blocks  \\\n",
       "0                                            []   \n",
       "1     [unknown_C234, unknown_C76, unknown_C286]   \n",
       "2                             [Pectate_lyase_3]   \n",
       "3                                            []   \n",
       "4                                [unknown_C123]   \n",
       "...                                         ...   \n",
       "1676                                   [Collar]   \n",
       "1677                               [unknown_C3]   \n",
       "1678                                         []   \n",
       "1679                                         []   \n",
       "1680                                         []   \n",
       "\n",
       "                            N_ranges                            C_ranges  \n",
       "0                         [(20, 90)]                                  []  \n",
       "1             [(13, 140), (10, 105)]  [(141, 306), (131, 281), (26, 36)]  \n",
       "2                         [(0, 172)]                        [(175, 382)]  \n",
       "3                         [(47, 68)]                                  []  \n",
       "4                                 []                         [(64, 115)]  \n",
       "...                              ...                                 ...  \n",
       "1676                     [(56, 104)]                        [(224, 276)]  \n",
       "1677                              []                          [(19, 81)]  \n",
       "1678                     [(23, 166)]                                  []  \n",
       "1679                     [(13, 159)]                                  []  \n",
       "1680  [(3, 200), (4, 201), (3, 205)]                                  []  \n",
       "\n",
       "[1681 rows x 6 columns]"
      ]
     },
     "execution_count": 7,
     "metadata": {},
     "output_type": "execute_result"
    }
   ],
   "source": [
    "detected"
   ]
  },
  {
   "cell_type": "code",
   "execution_count": 10,
   "id": "8dee4765",
   "metadata": {},
   "outputs": [],
   "source": [
    "domain_preds = []\n",
    "for pid in list(testdata_df['protein_id']):\n",
    "    if pid in list(detected['identifier']):\n",
    "        domain_preds.append(1)\n",
    "    else:\n",
    "        domain_preds.append(0)\n",
    "domain_results = pd.DataFrame(domain_preds, columns=['preds'])\n",
    "domain_results.to_csv(results_dir+'/domains_test_predictions.csv', index=False)"
   ]
  },
  {
   "cell_type": "markdown",
   "id": "df9bd0be",
   "metadata": {},
   "source": [
    "#### Predictions with XGBoost"
   ]
  },
  {
   "cell_type": "code",
   "execution_count": 50,
   "id": "bb8a5b2f",
   "metadata": {},
   "outputs": [],
   "source": [
    "# load model again\n",
    "xgb_saved = XGBClassifier()\n",
    "xgb_saved.load_model(results_dir+'/RBPdetect_xgb_model.json')\n",
    "\n",
    "# make predictions with the XGBoost model\n",
    "score_xgb = xgb_saved.predict_proba(testfeatures)[:,1]\n",
    "preds_xgb = (score_xgb > 0.5)*1\n",
    "\n",
    "# save predictions and scores\n",
    "xgb_results = pd.concat([pd.DataFrame(preds_xgb, columns=['preds']), \n",
    "                        pd.DataFrame(score_xgb, columns=['score'])], axis=1)\n",
    "xgb_results.to_csv(results_dir+'/xgboost_test_predictions.csv', index=False)"
   ]
  },
  {
   "cell_type": "markdown",
   "id": "051ae450",
   "metadata": {},
   "source": [
    "#### Predictions with PhANNs\n",
    "\n",
    "It is estimated that this will run for about a day (24 hours), depending on your computer specs."
   ]
  },
  {
   "cell_type": "code",
   "execution_count": 14,
   "id": "f907dd4c",
   "metadata": {
    "scrolled": true
   },
   "outputs": [
    {
     "data": {
      "application/vnd.jupyter.widget-view+json": {
       "model_id": "17112eabfac7441799ba7877733d59e0",
       "version_major": 2,
       "version_minor": 0
      },
      "text/plain": [
       "  0%|          | 0/6 [00:00<?, ?it/s]"
      ]
     },
     "metadata": {},
     "output_type": "display_data"
    },
    {
     "name": "stdout",
     "output_type": "stream",
     "text": [
      "Getting results...\n",
      "Done.\n",
      "Getting results...\n",
      "Done.\n",
      "Getting results...\n",
      "Done.\n",
      "Getting results...\n",
      "Done.\n",
      "Getting results...\n",
      "Done.\n",
      "Getting results...\n",
      "Done.\n"
     ]
    }
   ],
   "source": [
    "count = 0\n",
    "for i in tqdm(range(0, testdata_df.shape[0], 5000)):\n",
    "    count += 1\n",
    "    suff = '_part'+str(count)\n",
    "    end = min(5000, testdata_df.shape[0]-i)\n",
    "    rbpu.phanns_predict(testdata_df.iloc[i:i+end, :], phanns_dir, data_dir, suff)"
   ]
  },
  {
   "cell_type": "markdown",
   "id": "260b8b76",
   "metadata": {},
   "source": [
    "#### Comparison between methods"
   ]
  },
  {
   "cell_type": "code",
   "execution_count": 11,
   "id": "01c5f637",
   "metadata": {},
   "outputs": [],
   "source": [
    "# load data\n",
    "phanns_results = pd.DataFrame({}, columns=['preds', 'score'])\n",
    "for i in range(1,7):\n",
    "    part = pd.read_csv(data_dir+'/phanns_predictions_part'+str(i)+'.csv')\n",
    "    phanns_results = pd.concat([phanns_results, part], axis=0)\n",
    "    \n",
    "domain_results = pd.read_csv(results_dir+'/domains_test_predictions.csv')\n",
    "xgb_results = pd.read_csv(results_dir+'/xgboost_test_predictions.csv')"
   ]
  },
  {
   "cell_type": "code",
   "execution_count": 12,
   "id": "3d1ef198",
   "metadata": {},
   "outputs": [
    {
     "name": "stdout",
     "output_type": "stream",
     "text": [
      "F1 score domain-based method: 0.7197\n",
      "F1 score PhANNs: 0.6984\n",
      "F1 score XGBoost: 0.8403\n"
     ]
    }
   ],
   "source": [
    "# compute F1 scores\n",
    "print('F1 score domain-based method:', round(f1_score(testlabels, list(domain_results['preds'])), 4))\n",
    "print('F1 score PhANNs:', round(f1_score(testlabels, list(phanns_results['preds'])), 4))\n",
    "print('F1 score XGBoost:', round(f1_score(testlabels, list(xgb_results['preds'])), 4))"
   ]
  },
  {
   "cell_type": "code",
   "execution_count": 13,
   "id": "63596766",
   "metadata": {},
   "outputs": [],
   "source": [
    "# compute a venn diagram of the correct positive predictions\n",
    "venn_1 = 0; venn_2 = 0; venn_3 = 0; venn_4 = 0; venn_5 = 0; venn_6 = 0; venn_7 = 0\n",
    "db_preds = list(domain_results['preds']); phanns_preds = list(phanns_results['preds']); xgb_preds = list(xgb_results['preds'])\n",
    "for i, label in enumerate(testlabels):\n",
    "    if (label==1) and (db_preds[i]==1) and (phanns_preds[i]==0) and (xgb_preds[i]==0): # only domains correct\n",
    "        venn_1 += 1\n",
    "    elif (label==1) and (phanns_preds[i]==1) and (db_preds[i]==0) and (xgb_preds[i]==0): # only PhANNs correct\n",
    "        venn_2 += 1\n",
    "    elif (label==1) and (db_preds[i]==1) and (phanns_preds[i]==1) and (xgb_preds[i]==0): # domains and PhANNs correct\n",
    "        venn_3 += 1\n",
    "    elif (label==1) and (xgb_preds[i]==1) and (db_preds[i]==0) and (phanns_preds[i]==0): # only xgb correct\n",
    "        venn_4 += 1\n",
    "    elif (label==1) and (db_preds[i]==1) and (xgb_preds[i]==1) and (phanns_preds[i]==0): # domains and xgb correct\n",
    "        venn_5 += 1\n",
    "    elif (label==1) and (phanns_preds[i]==1) and (xgb_preds[i]==1) and (db_preds[i]==0): # phanns and xgb correct\n",
    "        venn_6 += 1\n",
    "    elif (label==1) and (db_preds[i]==1) and (phanns_preds[i]==1) and (xgb_preds[i]==1): # all correct\n",
    "        venn_7 += 1"
   ]
  },
  {
   "cell_type": "code",
   "execution_count": 14,
   "id": "28dd7a1c",
   "metadata": {},
   "outputs": [
    {
     "data": {
      "image/png": "[encoded data removed]",
      "text/plain": [
       "<Figure size 576x576 with 1 Axes>"
      ]
     },
     "metadata": {},
     "output_type": "display_data"
    }
   ],
   "source": [
    "# make plot\n",
    "colors = ('firebrick', 'gold', 'dodgerblue')\n",
    "fig, ax = plt.subplots(figsize=(8,8))\n",
    "vd = venn3_unweighted(subsets=(venn_1, venn_2, venn_3, venn_4, venn_5, venn_6, venn_7),\n",
    "                 set_labels=('Domain-based approach', 'PhANNs', 'XGBoost'), \n",
    "                 alpha=0.5, ax=ax, set_colors=('firebrick', 'gold', 'dodgerblue'))\n",
    "for text in vd.subset_labels:\n",
    "    text.set_fontsize(14)\n",
    "for text in vd.set_labels:\n",
    "    text.set_fontsize(14)\n",
    "fig.savefig(results_dir+'/benchmark_venn_correct_positives.png', dpi=400)\n",
    "#fig.savefig('/Users/Dimi/Documents/GitHub/SYNTH_DRUG_DETECTION/results/venn_positives_eps.eps', dpi=400, format='eps', facecolor='w', edgecolor='none')"
   ]
  },
  {
   "cell_type": "code",
   "execution_count": 15,
   "id": "dcba9e38",
   "metadata": {},
   "outputs": [
    {
     "data": {
      "text/plain": [
       "0.9159536990437847"
      ]
     },
     "execution_count": 15,
     "metadata": {},
     "output_type": "execute_result"
    }
   ],
   "source": [
    "# The XGBoost classifiers misses fewer than 10% of the RBPs to be detected\n",
    "(venn_4+venn_5+venn_6+venn_7)/sum(testlabels==1)"
   ]
  },
  {
   "cell_type": "code",
   "execution_count": 16,
   "id": "5b966364",
   "metadata": {},
   "outputs": [
    {
     "data": {
      "text/plain": [
       "False"
      ]
     },
     "execution_count": 16,
     "metadata": {},
     "output_type": "execute_result"
    }
   ],
   "source": [
    "# there are still a few instances that all of the methods miss (not many though)\n",
    "sum(testlabels==1) == sum([venn_1, venn_2, venn_3, venn_4, venn_5, venn_6, venn_7])"
   ]
  },
  {
   "cell_type": "markdown",
   "id": "a127730d",
   "metadata": {},
   "source": [
    "If our goal is to further increase the performance of the XGBoost model, we can additionally look at things such as:\n",
    "- Which 23+32 sequences were detected by the domains-based approach that were missed by XGBoost?\n",
    "- What types of domains do we see in these 20+27 sequences and might those be underrepresented in the training data for the XGBoost classifier?\n",
    "- What 74 sequences does PhANNs classify correctly that XGBoost classifier and domains miss?"
   ]
  },
  {
   "cell_type": "code",
   "execution_count": null,
   "id": "409b6d30",
   "metadata": {},
   "outputs": [],
   "source": [
    "# specifically check performance on the 'tail fiber' annotations on which PhANNs was trained\n",
    "..."
   ]
  },
  {
   "cell_type": "markdown",
   "id": "8ceb8fbe",
   "metadata": {},
   "source": [
    "## Legacy code"
   ]
  },
  {
   "cell_type": "raw",
   "id": "6ac7528a",
   "metadata": {},
   "source": [
    "# RBP-per-phage approach: Sample per genome\n",
    "imbalance_factor = 10\n",
    "training_frame = {'NCBI_id': [], 'Accession': [], 'ProteinSeq': [], 'Label': []}\n",
    "for i, phage_id in enumerate(rbps['Accession']):\n",
    "    nonrbps_idx = list(nonrbps.index[nonrbps['Accession'] == phage_id])\n",
    "    if (len(nonrbps_idx) > imbalance_factor) and (phage_id != '-'):\n",
    "        training_frame['NCBI_id'].append(rbps['NCBI_id'][i])\n",
    "        training_frame['Accession'].append(phage_id)\n",
    "        training_frame['ProteinSeq'].append(rbps['ProteinSeq'][i])\n",
    "        training_frame['Label'].append(1)\n",
    "        nonrbps_sub = sample(nonrbps_idx, imbalance_factor)\n",
    "        for sub in nonrbps_sub:\n",
    "            training_frame['NCBI_id'].append(nonrbps['NCBI_id'].iloc[sub])\n",
    "            training_frame['Accession'].append(phage_id)\n",
    "            training_frame['ProteinSeq'].append(nonrbps['ProteinSeq'].iloc[sub])\n",
    "            training_frame['Label'].append(0)\n",
    "            \n",
    "# save to dataframe to compute embeddings\n",
    "pd.DataFrame(training_frame).to_csv(data_dir+'annotated_proteins_per_phage.csv', index=False)"
   ]
  },
  {
   "cell_type": "raw",
   "id": "40a92673",
   "metadata": {},
   "source": [
    "# make predictions for phANNs data (embeddings)\n",
    "labels_phanns = []\n",
    "preds_phanns = []\n",
    "probs_phanns = []\n",
    "\n",
    "for i in range(1, 13): # loop over all data parts\n",
    "    print('starting part ', i)\n",
    "    name = 'phanns_embeddings_part'+str(i)+'.csv'\n",
    "    data = pd.read_csv(data_dir+'/phanns/'+name)\n",
    "    labels_phanns = labels_phanns + list(data.iloc[:,-1])\n",
    "    embeddings = data.iloc[:,1:-1]\n",
    "    print(embeddings.shape)\n",
    "    probs_pos_iteration = xgb_saved.predict_proba(embeddings)[:,1]\n",
    "    preds_iteration = (probs_pos_iteration > 0.5)*1\n",
    "\n",
    "    preds_phanns = preds_phanns + list(preds_iteration)\n",
    "    probs_phanns = probs_phanns + list(probs_pos_iteration)\n",
    "    \n",
    "# save preds and probs for later use\n",
    "embeddings_df = pd.concat([pd.DataFrame(labels_phanns, columns=['Label']), pd.DataFrame(preds_phanns, columns=['Prediction']), pd.DataFrame(probs_phanns, columns=['Probability+'])], axis=1)\n",
    "\n",
    "# print scores\n",
    "print('F1:', f1_score(labels_phanns, preds_phanns))\n",
    "print('P:', precision_score(labels_phanns, preds_phanns))\n",
    "print('ROC AUC:', roc_auc_score(labels_phanns, probs_phanns))"
   ]
  },
  {
   "cell_type": "raw",
   "id": "6bd6b34c",
   "metadata": {},
   "source": [
    "def genbank_collection(MillardLab_tsv, MillardLab_genbank, directory, species_filter=''):\n",
    "    \"\"\"\n",
    "    This function loops over the filtered and unfiltered phage genome data of MillardLab to construct one or multiple\n",
    "    genbank files of those genomes for further analysis.\n",
    "    \n",
    "    Input:\n",
    "    - MillardLab_tsv: handle (string) to the filtered tsv file of MillardLab phage genomes\n",
    "    - MillardLab_genbank: handle (string) to the unfiltered phage genomes downloaded from NCBI by MillardLab\n",
    "    - species_filter (optional): string of which species to filter for (will be searched for in 'Description')\n",
    "    \n",
    "    Output: One or multiple genbank files of relevant records.\n",
    "    \"\"\"\n",
    "    tsv_data = pd.read_csv(MillardLab_tsv, sep='\\t')\n",
    "    records = SeqIO.parse(MillardLab_genbank, 'gb')\n",
    "    stop_iter = 0\n",
    "    genbank_file = open(directory+'MillardLab_genbank_filtered.txt', 'w')\n",
    "    \n",
    "    while stop_iter >= 0:\n",
    "        try:\n",
    "            record = next(records)\n",
    "            if record.name in tsv_data['Accession']:\n",
    "                SeqIO.write(record, genbank_file, 'genbank')\n",
    "            if stop_iter%1000 == 0:\n",
    "                print('iteration:', stop_iter)\n",
    "        except StopIteration:\n",
    "            stop_iter = -1\n",
    "        except:\n",
    "            pass\n",
    "    genbank_file.close()\n",
    "        \n",
    "    if species_filter != '':\n",
    "        species_genbank_file = open(directory+'MillardLab_genbank_filtered_'+species_filter+'.txt', 'w')\n",
    "        for record in SeqIO.parse(directory+'MillardLab_genbank_filtered.txt', 'gb'):\n",
    "            if species_filter in record.description:\n",
    "                SeqIO.write(record, species_genbank_file, 'genbank')\n",
    "    species_genbank_file.close()\n",
    "                \n",
    "    return"
   ]
  },
  {
   "cell_type": "raw",
   "id": "e9078e6f",
   "metadata": {},
   "source": [
    "# collect Klebsiella accessions from MillardLab genome data (tsv data file)\n",
    "species_filter = 'Klebsiella'\n",
    "tsv_handle = data_dir+'MillardLab_PhageGenomes_Oct2021_data.tsv'\n",
    "genbank_handle = data_dir+'MillardLab_PhageGenomes_Oct2021_unfiltered.txt'\n",
    "tsv_data = pd.read_csv(tsv_handle, sep='\\t')\n",
    "families = ['Ackermannviridae', 'Autographiviridae', 'Demerecviridae', 'Drexlerviridae', 'Myoviridae', 'Podoviridae',\n",
    "           'Schitoviridae', 'Siphoviridae', 'Unclassified']\n",
    "filtered_all = {}\n",
    "for fam in families:\n",
    "    filtered = []\n",
    "    for i, desc in enumerate(tsv_data['Description']):\n",
    "        if (species_filter in desc) and (tsv_data['Family'][i] == fam):\n",
    "            filtered.append(tsv_data['Accession'][i])\n",
    "    filtered_all[fam] = filtered"
   ]
  },
  {
   "cell_type": "raw",
   "id": "5bb464f9",
   "metadata": {},
   "source": [
    "# construct Klebsiella genbank files separated by family\n",
    "for fam in families:\n",
    "    print('Busy with family:', fam)\n",
    "    stop_iter = 0\n",
    "    records = SeqIO.parse(genbank_handle, 'gb')\n",
    "    gb_file = open(results_dir+species_filter+fam+'.txt', 'w')\n",
    "    while stop_iter >= 0:\n",
    "        try:\n",
    "            record = next(records)\n",
    "            if record.name in filtered_all[fam]:\n",
    "                SeqIO.write(record, gb_file, 'genbank')\n",
    "            stop_iter += 1\n",
    "            if stop_iter%1000 == 0:\n",
    "                print('iteration:', stop_iter)\n",
    "        except StopIteration:\n",
    "            stop_iter = -1\n",
    "        except:\n",
    "            pass\n",
    "    gb_file.close()"
   ]
  },
  {
   "cell_type": "raw",
   "id": "ace5123e",
   "metadata": {},
   "source": [
    "# construct corresponding xlsx files per family\n",
    "for fam in families:\n",
    "    print('Busy with family:', fam)\n",
    "    stop_iter = 0\n",
    "    records = SeqIO.parse(genbank_handle, 'gb')\n",
    "    fam_dict = {'Accession':[], 'Name':[], 'Host':[], 'Taxonomy':[], 'Genome_size':[], 'Submission_date':[]}\n",
    "    \n",
    "    while stop_iter >= 0:\n",
    "        try:\n",
    "            record = next(records)\n",
    "            if record.name in filtered_all[fam]:\n",
    "                \n",
    "                # append the necessary information\n",
    "                fam_dict['Accession'].append(record.name)\n",
    "                fam_dict['Name'].append(record.annotations['organism'])\n",
    "                if 'host' in record.features[0].qualifiers:\n",
    "                    host = record.features[0].qualifiers['host'][0]\n",
    "                elif 'lab_host' in record.features[0].qualifiers:\n",
    "                    host = record.features[0].qualifiers['lab_host'][0]\n",
    "                else:\n",
    "                    host = '-'\n",
    "                fam_dict['Host'].append(host)\n",
    "                fam_dict['Taxonomy'].append(record.annotations['taxonomy'][-1])\n",
    "                fam_dict['Genome_size'].append(len(str(record.seq)))\n",
    "                fam_dict['Submission_date'].append(record.annotations['date'])\n",
    "                \n",
    "            stop_iter += 1\n",
    "            if stop_iter%1000 == 0:\n",
    "                print('iteration:', stop_iter)\n",
    "        except StopIteration:\n",
    "            stop_iter = -1\n",
    "        except:\n",
    "            pass\n",
    "    pd.DataFrame(fam_dict).to_excel(results_dir+species_filter+fam+'.xlsx')"
   ]
  },
  {
   "cell_type": "raw",
   "id": "01fe5ae1",
   "metadata": {},
   "source": [
    "# train one-class models on high imbalance with reduced features\n",
    "nonrbp_embeddings_df_big = pd.read_csv(data_dir+'annotated_nonRBPs_embeddings30.csv')\n",
    "nonrbp_embed_big = np.asarray(nonrbp_embeddings_df_big.iloc[:, 2:])\n",
    "features_big = np.concatenate((rbp_embed, nonrbp_embed_big))\n",
    "labels_big = np.asarray([1]*rbp_embed.shape[0] + [0]*nonrbp_embed_big.shape[0])\n",
    "print('Shape: ', features_big.shape, 'Check?', features_big.shape[0]==labels_big.shape[0])\n",
    "\n",
    "imbalance = rbp_embed.shape[0]/nonrbp_embed_big.shape[0]\n",
    "outer_cv = StratifiedKFold(n_splits=5, shuffle=True)\n",
    "ocsvm = OneClassSVM(kernel='poly')\n",
    "ocif = IsolationForest(n_estimators=500, contamination=imbalance)\n",
    "fscores_ocsvm = []; fscores_if = []\n",
    "pca = PCA(n_components=100)\n",
    "frpca = pca.fit_transform(features_big)\n",
    "print('PCA fitted.')\n",
    "\n",
    "# train models and predict\n",
    "for train_index, test_index in tqdm(outer_cv.split(frpca, labels_big)):\n",
    "    xtrain, xtest = frpca[train_index], frpca[test_index]\n",
    "    ytrain, ytest = labels_big[train_index], labels_big[test_index]\n",
    "    xtrainoc = xtrain[ytrain == 0]\n",
    "    ytestoc = np.copy(ytest)\n",
    "    ytestoc[ytestoc == 1] = -1\n",
    "    ytestoc[ytestoc == 0] = 1\n",
    "    # fit models\n",
    "    ocsvm.fit(xtrainoc)\n",
    "    ocif.fit(xtrainoc)\n",
    "    # make predictions and test\n",
    "    preds_ocsvm = ocsvm.predict(xtest)\n",
    "    preds_if = ocif.predict(xtest)\n",
    "    fscores_ocsvm.append(f1_score(ytestoc, preds_ocsvm, pos_label=-1))\n",
    "    fscores_if.append(f1_score(ytestoc, preds_if, pos_label=-1))\n",
    "print('F1 OneClassSVM:', np.mean(fscores_ocsvm))\n",
    "print('F1 IsolationForest:', np.mean(fscores_if))"
   ]
  },
  {
   "cell_type": "raw",
   "id": "af3b18b9",
   "metadata": {},
   "source": [
    "# define cross-validation iterator\n",
    "imbalance = rbp_embed.shape[0]/nonrbp_embed.shape[0]\n",
    "inner_cv = StratifiedKFold(n_splits=3, shuffle=True)\n",
    "performances = {'F1':[], 'P':[], 'AUC':[]}\n",
    "cpus = 6\n",
    "\n",
    "# define models and hyper parameters\n",
    "lr = LogisticRegression(class_weight='balanced', max_iter=5000)\n",
    "params_lr = {'C': np.logspace(0.2, 1, 5)}\n",
    "xgb = XGBClassifier(scale_pos_weight=1/imbalance, n_jobs=cpus)\n",
    "params_xgb = {'max_depth': [3, 5], 'n_estimators': [100, 250]}\n",
    "mlp = MLPClassifier(max_iter=1000)\n",
    "params_mlp = {'hidden_layer_sizes':[(100,), (30,2), (30, 10, 5)]}\n",
    "\n",
    "# define grid search\n",
    "lr = GridSearchCV(lr, cv=inner_cv, param_grid=params_lr, scoring='f1', n_jobs=cpus, verbose=2)\n",
    "xgb = GridSearchCV(xgb, cv=inner_cv, param_grid=params_xgb, scoring='f1', verbose=2)\n",
    "mlp = GridSearchCV(mlp, cv=inner_cv, param_grid=params_mlp, scoring='f1', n_jobs=cpus, verbose=2)\n",
    "models = {'MLPerceptron': mlp, 'XGBoost': xgb, 'logistic': lr}\n",
    "\n",
    "# tune hyperparams on subpart of data\n",
    "X_train, X_test, y_train, y_test = train_test_split(features, labels, stratify=labels, test_size=0.2, random_state=42)\n",
    "X_tune, _, y_tune, _ = train_test_split(X_train, y_train, stratify=y_train, test_size=0.5, random_state=42) # tune two-fold on 20% of data\n",
    "print(X_tune.shape, y_tune.shape)\n",
    "param_dict = {}\n",
    "for model_name, model in models.items():\n",
    "    print('tuning model: ', model_name)\n",
    "    model.fit(X_tune, y_tune)\n",
    "    best_params = model.best_params_\n",
    "    param_dict[model_name] = model.best_params_\n",
    "\n",
    "# evaluate performance with tuned models\n",
    "lr = LogisticRegression(class_weight='balanced', max_iter=5000)\n",
    "xgb = XGBClassifier(scale_pos_weight=1/imbalance, n_jobs=cpus)\n",
    "mlp = MLPClassifier(max_iter=1000)\n",
    "models = {'MLPerceptron': mlp, 'XGBoost': xgb, 'logistic': lr}\n",
    "for model_name, model in models.items():\n",
    "    print('evaluating model: ', model_name)\n",
    "    best_params = param_dict[model_name]\n",
    "    best_model = model.set_params(**best_params)\n",
    "    best_model.fit(X_train, y_train)\n",
    "    preds = best_model.predict(X_test)\n",
    "    probs = best_model.predict_proba(X_test)\n",
    "    performances['F1'].append(f1_score(y_test, preds))\n",
    "    performances['P'].append(precision_score(y_test, preds))\n",
    "    performances['AUC'].append(roc_auc_score(y_test, probs[:,1]))\n",
    "    print(pd.DataFrame(performances))"
   ]
  }
 ],
 "metadata": {
  "kernelspec": {
   "display_name": "Python 3 (ipykernel)",
   "language": "python",
   "name": "python3"
  },
  "language_info": {
   "codemirror_mode": {
    "name": "ipython",
    "version": 3
   },
   "file_extension": ".py",
   "mimetype": "text/x-python",
   "name": "python",
   "nbconvert_exporter": "python",
   "pygments_lexer": "ipython3",
   "version": "3.9.7"
  }
 },
 "nbformat": 4,
 "nbformat_minor": 5
}
