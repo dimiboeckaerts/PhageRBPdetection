{
 "cells": [
  {
   "cell_type": "markdown",
   "id": "9eb34cb8",
   "metadata": {},
   "source": [
    "# Dual identification of novel phage receptor-binding proteins based on protein domains and machine learning\n",
    "# *Predicting new sequences*\n",
    "\n",
    "\n",
    "This notebook, together with the 'RBPdetect_protein_embeddings' notebook can be used to make predictions for protein sequences based on our domain-based and machine-learning-based approach. The following steps should be followed:\n",
    "- Prepare a FASTA file with the **protein** sequences you want to make predictions for.\n",
    "- Download HMMER (http://hmmer.org) and locate its contents (you need the path to it).\n",
    "- Make sure all the necessary software packages (*Libraries* below) are installed.\n",
    "- Compute the necessary protein language embeddings using the 'RBPdetect_protein_embeddings' notebook. This is best done on Kaggle for better performance utilizing GPU computing power. Download the computed embeddings from Kaggle.\n",
    "- Copy the FASTA file and computed embeddings to the data folder of this GitHub repository. In the data folder, the RBPdetect_XGBmodel.json and RBPdetect_phageRBPs.hmm should also be located.\n",
    "- Fill in the necessary file names in the second code block.\n",
    "- Run the code blocks below to make predictions based on the domain-based approach and machine-learning-based approach.\n",
    "- The resulting dataframe contains a row for each of the protein sequences that was submitted. A binary prediction (0/1) is made for each of the methods. A '0' indicates that the sequence is predicted not to be an RBP, while a '1' indicates that the sequence is predicted as an RBP."
   ]
  },
  {
   "cell_type": "markdown",
   "id": "e17823fc",
   "metadata": {},
   "source": [
    "#### Libraries and files"
   ]
  },
  {
   "cell_type": "code",
   "execution_count": 1,
   "id": "8efac261",
   "metadata": {},
   "outputs": [],
   "source": [
    "from xgboost import XGBClassifier\n",
    "from Bio import SeqIO\n",
    "import numpy as np\n",
    "import pandas as pd\n",
    "import matplotlib.pyplot as plt\n",
    "import RBPdetect_utils as rbpu"
   ]
  },
  {
   "cell_type": "code",
   "execution_count": 2,
   "id": "637d4a12",
   "metadata": {},
   "outputs": [],
   "source": [
    "pfam_file = 'data/RBPdetect_phageRBPs.hmm'\n",
    "xgb_file = 'data/RBPdetect_xgb_model.json'\n",
    "fasta_file = 'data/examples.fasta'\n",
    "hmmer_path = ... # e.g. '/Users/Sally/hmmer-3.3.1'\n",
    "embeddings_file = ... # e.g. 'data/embeddings.csv'"
   ]
  },
  {
   "cell_type": "markdown",
   "id": "2e06594c",
   "metadata": {},
   "source": [
    "#### Domain-based approach"
   ]
  },
  {
   "cell_type": "code",
   "execution_count": null,
   "id": "3ee5c405",
   "metadata": {},
   "outputs": [],
   "source": [
    "# press the .hmm file for further use\n",
    "output, err = rbpu.hmmpress_python(hmmer_path, pfam_file)"
   ]
  },
  {
   "cell_type": "code",
   "execution_count": 5,
   "id": "dc27d334",
   "metadata": {},
   "outputs": [],
   "source": [
    "# define HMMs to be detected as RBP-related\n",
    "N_blocks = ['Phage_T7_tail', 'Tail_spike_N', 'Prophage_tail', 'BppU_N', 'Mtd_N', \n",
    "           'Head_binding', 'DUF3751', 'End_N_terminal', 'phage_tail_N', 'Prophage_tailD1', \n",
    "           'DUF2163', 'Phage_fiber_2', 'unknown_N0', 'unknown_N1', 'unknown_N2', 'unknown_N3', 'unknown_N4', \n",
    "            'unknown_N6', 'unknown_N10', 'unknown_N11', 'unknown_N12', 'unknown_N13', 'unknown_N17', 'unknown_N19', \n",
    "            'unknown_N23', 'unknown_N24', 'unknown_N26','unknown_N29', 'unknown_N36', 'unknown_N45', 'unknown_N48', \n",
    "            'unknown_N49', 'unknown_N53', 'unknown_N57', 'unknown_N60', 'unknown_N61', 'unknown_N65', 'unknown_N73', \n",
    "            'unknown_N82', 'unknown_N83', 'unknown_N101', 'unknown_N114', 'unknown_N119', 'unknown_N122', \n",
    "            'unknown_N163', 'unknown_N174', 'unknown_N192', 'unknown_N200', 'unknown_N206', 'unknown_N208']\n",
    "C_blocks = ['Lipase_GDSL_2', 'Pectate_lyase_3', 'gp37_C', 'Beta_helix', 'Gp58', 'End_beta_propel', \n",
    "            'End_tail_spike', 'End_beta_barrel', 'PhageP22-tail', 'Phage_spike_2', \n",
    "            'gp12-short_mid', 'Collar', \n",
    "            'unknown_C2', 'unknown_C3', 'unknown_C8', 'unknown_C15', 'unknown_C35', 'unknown_C54', 'unknown_C76', \n",
    "            'unknown_C100', 'unknown_C105', 'unknown_C112', 'unknown_C123', 'unknown_C179', 'unknown_C201', \n",
    "            'unknown_C203', 'unknown_C228', 'unknown_C234', 'unknown_C242', 'unknown_C258', 'unknown_C262', \n",
    "            'unknown_C267', 'unknown_C268', 'unknown_C274', 'unknown_C286', 'unknown_C292', 'unknown_C294', \n",
    "            'Peptidase_S74', 'Phage_fiber_C', 'S_tail_recep_bd', 'CBM_4_9', 'DUF1983', 'DUF3672']"
   ]
  },
  {
   "cell_type": "code",
   "execution_count": null,
   "id": "8182c497",
   "metadata": {},
   "outputs": [],
   "source": [
    "# do domain-based detections\n",
    "domain_based_detections = rbpu.RBPdetect_domains_protein(hmmer_path, pfam_file, fasta_file, N_blocks=N_blocks, \n",
    "                                                         C_blocks=C_blocks, detect_others=False)\n",
    "\n",
    "names = [record.id for record in SeqIO.parse(fasta_file, 'fasta')]\n",
    "domain_preds = []\n",
    "for pid in names:\n",
    "    if pid in list(domain_based_detections['identifier']):\n",
    "        domain_preds.append(1)\n",
    "    else:\n",
    "        domain_preds.append(0)"
   ]
  },
  {
   "cell_type": "raw",
   "id": "2a604edc",
   "metadata": {},
   "source": [
    "# save the domain-based results separately (optionally)\n",
    "domain_results = pd.DataFrame(domain_preds, columns=['preds'])\n",
    "domain_results.to_csv('domains_test_predictions.csv', index=False)"
   ]
  },
  {
   "cell_type": "markdown",
   "id": "351a3d1e",
   "metadata": {},
   "source": [
    "#### Machine-learning-based approach"
   ]
  },
  {
   "cell_type": "code",
   "execution_count": null,
   "id": "9b0fa40b",
   "metadata": {},
   "outputs": [],
   "source": [
    "# load protein embeddings to make predictions for\n",
    "embeddings_df = pd.read_csv(embeddings_file)\n",
    "embeddings = np.asarray(embeddings_df.iloc[:, 1:])"
   ]
  },
  {
   "cell_type": "code",
   "execution_count": null,
   "id": "de854b2b",
   "metadata": {},
   "outputs": [],
   "source": [
    "# load trained model\n",
    "xgb_saved = XGBClassifier()\n",
    "xgb_saved.load_model(xgb_file)\n",
    "\n",
    "# make predictions with the XGBoost model\n",
    "score_xgb = xgb_saved.predict_proba(embeddings)[:,1]\n",
    "preds_xgb = (score_xgb > 0.5)*1"
   ]
  },
  {
   "cell_type": "raw",
   "id": "f9c80d28",
   "metadata": {},
   "source": [
    "# save predictions and scores (optionally)\n",
    "xgb_results = pd.concat([pd.DataFrame(preds_xgb, columns=['preds']), \n",
    "                        pd.DataFrame(score_xgb, columns=['score'])], axis=1)\n",
    "xgb_results.to_csv(results_dir+'/xgboost_test_predictions.csv', index=False)"
   ]
  },
  {
   "cell_type": "markdown",
   "id": "4c2c9ac6",
   "metadata": {},
   "source": [
    "#### Save predictions of both methods together"
   ]
  },
  {
   "cell_type": "code",
   "execution_count": null,
   "id": "c7b9c266",
   "metadata": {},
   "outputs": [],
   "source": [
    "results = pd.DataFrame({'domain_based_predictions':domain_preds, 'machine_learning_predictions':preds_xgb})\n",
    "results.to_csv('results_predictions.csv', index=False)"
   ]
  }
 ],
 "metadata": {
  "kernelspec": {
   "display_name": "Python 3 (ipykernel)",
   "language": "python",
   "name": "python3"
  },
  "language_info": {
   "codemirror_mode": {
    "name": "ipython",
    "version": 3
   },
   "file_extension": ".py",
   "mimetype": "text/x-python",
   "name": "python",
   "nbconvert_exporter": "python",
   "pygments_lexer": "ipython3",
   "version": "3.9.7"
  }
 },
 "nbformat": 4,
 "nbformat_minor": 5
}
