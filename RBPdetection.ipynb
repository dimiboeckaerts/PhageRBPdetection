{
 "cells": [
  {
   "cell_type": "markdown",
   "id": "surprising-floating",
   "metadata": {},
   "source": [
    "# Dual identification of novel phage receptor-binding proteins based on protein domains and machine learning\n",
    "\n",
    "This notebook serves as the main document of code and analyses for the detection of phage RBPs in genomes and metagenomes."
   ]
  },
  {
   "cell_type": "markdown",
   "id": "hydraulic-latitude",
   "metadata": {},
   "source": [
    "## 0. Libraries"
   ]
  },
  {
   "cell_type": "code",
   "execution_count": 1,
   "id": "floating-array",
   "metadata": {},
   "outputs": [],
   "source": [
    "import os\n",
    "import re\n",
    "import subprocess\n",
    "import numpy as np\n",
    "import pandas as pd\n",
    "import matplotlib.pyplot as plt\n",
    "import RBPdetection_utils as rbpu\n",
    "from random import sample\n",
    "from Bio import SeqIO, Entrez\n",
    "from tqdm.notebook import tqdm\n",
    "from xgboost import XGBClassifier\n",
    "from sklearn.manifold import TSNE\n",
    "from sklearn.svm import OneClassSVM\n",
    "from sklearn.decomposition import PCA\n",
    "from sklearn.neural_network import MLPClassifier\n",
    "from sklearn.pipeline import make_pipeline\n",
    "from sklearn.linear_model import LogisticRegression\n",
    "from sklearn.preprocessing import StandardScaler, label_binarize\n",
    "from sklearn.ensemble import RandomForestClassifier, AdaBoostClassifier, IsolationForest\n",
    "from sklearn.model_selection import GridSearchCV, StratifiedKFold, GroupKFold, cross_val_predict, train_test_split\n",
    "from sklearn.metrics import precision_score, roc_auc_score, make_scorer, roc_curve, confusion_matrix, f1_score, accuracy_score\n",
    "%matplotlib inline"
   ]
  },
  {
   "cell_type": "code",
   "execution_count": 2,
   "id": "solved-arabic",
   "metadata": {},
   "outputs": [],
   "source": [
    "# set directories\n",
    "pfam_file = '/Users/Dimi/GoogleDrive/PhD/3_PHAGEBASE/32_DATA/RBP_detection/Pfam-A_extended.hmm'\n",
    "hmm_path = '/Users/Dimi/hmmer-3.3.1'\n",
    "data_dir = '/Users/Dimi/GoogleDrive/PhD/3_PHAGEBASE/32_DATA/RBP_detection'\n",
    "results_dir = '/Users/Dimi/GoogleDrive/PhD/3_PHAGEBASE/33_RESULTS/RBP_detection'\n",
    "phanns_dir = '/Users/dimi/Documents/GitHub/PhANNs-master/web_server'"
   ]
  },
  {
   "cell_type": "markdown",
   "id": "painted-greek",
   "metadata": {},
   "source": [
    "## 1. Loading and processing data"
   ]
  },
  {
   "cell_type": "markdown",
   "id": "acquired-supervisor",
   "metadata": {},
   "source": [
    "1. Get most recent MillardLab data from their GitHub (https://github.com/RyanCook94/inphared): download the tsv file (filtered genomes with information on name, host, family etc) and unfiltered GenBank file of phage genomes (to extract relevant records from) from their website.\n",
    "2. The functions RBP_collection and RBP_filters will process the MilalrdLab data into two sets of phage RBPs and nonRBPs based on available annotation, and applying several filters to ensure quality (deleting dubious annotations, short proteins, etc...)\n",
    "3. The final RBP and nonRBP datasets are also timestamped for easy recollection in the future.\n",
    "4. Finally, the RBPs and nonRBPs are transformed into protein embeddings: cfr protein_embeddings_cloud (too intensive for local computer, so compute with GPU in Kaggle notebooks)."
   ]
  },
  {
   "cell_type": "markdown",
   "id": "ce20af8d",
   "metadata": {},
   "source": [
    "#### Collecting and processing MillardLab data"
   ]
  },
  {
   "cell_type": "code",
   "execution_count": 13,
   "id": "75f64ca3",
   "metadata": {},
   "outputs": [],
   "source": [
    "def RBP_collection(MillardLab_tsv, MillardLab_genbank, directory):\n",
    "    \"\"\"\n",
    "    This function loops over the filtered and unfiltered phage genome data of MillardLab to construct a collection of \n",
    "    (unfiltered) RBP and nonRBP sequence records for further analysis.\n",
    "    \n",
    "    Input:\n",
    "    - MillardLab_tsv: handle (string) to the filtered tsv file of MillardLab phage genomes\n",
    "    - MillardLab_genbank: handle (string) to the unfiltered phage genomes downloaded from NCBI by MillardLab\n",
    "    - directory: string of location to store the sequence file at.\n",
    "\n",
    "    Output: Dataframes of RBPs and nonRBPs\n",
    "    \"\"\"\n",
    "\n",
    "    # load input data & make dict\n",
    "    tsv_data = pd.read_csv(MillardLab_tsv, sep='\\t')\n",
    "    records = SeqIO.parse(MillardLab_genbank, 'gb')\n",
    "    rbp_dict = {'phage_id':[], 'protein_id': [], 'Organism': [], 'Host':[], 'ProteinName': [], 'ProteinSeq': [], \n",
    "                'DNASeq': [], 'RecordDate': []}\n",
    "    nonrbp_dict = {'phage_id':[], 'protein_id': [], 'Organism': [], 'Host':[], 'ProteinName': [], 'ProteinSeq': [], \n",
    "                'DNASeq': [], 'RecordDate': []}\n",
    "    rbp_re = r'tail.?(?:spike|fib(?:er|re))|^recept(?:o|e)r.?(?:binding|recognizing).*(?:protein)?|^RBP'\n",
    "\n",
    "    # loop over all records\n",
    "    stop_iter = 0\n",
    "    while stop_iter >= 0:\n",
    "        try:\n",
    "            record = next(records)\n",
    "            rindex = list(tsv_data['Accession']).index(record.name)\n",
    "            record_realm = tsv_data['Realm'][rindex]\n",
    "            # if in filtered tsv data and is phage, check the CDSs\n",
    "            if (record.name in list(tsv_data['Accession'])) and (record_realm in ['Duplodnaviria', 'Unclassified']):\n",
    "                host = '-'\n",
    "                if 'host' in record.features[0].qualifiers:\n",
    "                    host = record.features[0].qualifiers['host'][0]\n",
    "                elif 'lab_host' in record.features[0].qualifiers:\n",
    "                    host = record.features[0].qualifiers['lab_host'][0]\n",
    "                elif 'strain' in record.features[0].qualifiers:\n",
    "                    host = record.features[0].qualifiers['strain'][0]\n",
    "                org = record.annotations['organism']\n",
    "                date = record.annotations['date']\n",
    "                \n",
    "                # look for the CDSs and get their infos\n",
    "                for feature in record.features:\n",
    "                    if feature.type == 'CDS':\n",
    "                        try:\n",
    "                            pname = feature.qualifiers['product'][0]\n",
    "                            pseq = feature.qualifiers['translation'][0]\n",
    "                            dnaseq = str(feature.location.extract(record).seq)\n",
    "                            pid = feature.qualifiers['protein_id'][0]\n",
    "                            \n",
    "                            # collect in RBPs or nonRBPs\n",
    "                            if re.search(rbp_re, pname, re.IGNORECASE) is not None:\n",
    "                                rbp_dict['phage_id'].append(record.name)\n",
    "                                rbp_dict['protein_id'].append(pid)\n",
    "                                rbp_dict['Organism'].append(org)\n",
    "                                rbp_dict['Host'].append(host)\n",
    "                                rbp_dict['ProteinName'].append(pname)\n",
    "                                rbp_dict['ProteinSeq'].append(pseq)\n",
    "                                rbp_dict['DNASeq'].append(dnaseq)\n",
    "                                rbp_dict['RecordDate'].append(date)\n",
    "                            else:\n",
    "                                nonrbp_dict['phage_id'].append(record.name)\n",
    "                                nonrbp_dict['protein_id'].append(pid)\n",
    "                                nonrbp_dict['Organism'].append(org)\n",
    "                                nonrbp_dict['Host'].append(host)\n",
    "                                nonrbp_dict['ProteinName'].append(pname)\n",
    "                                nonrbp_dict['ProteinSeq'].append(pseq)\n",
    "                                nonrbp_dict['DNASeq'].append(dnaseq)\n",
    "                                nonrbp_dict['RecordDate'].append(date)    \n",
    "                        except KeyError:\n",
    "                            pass\n",
    "                        \n",
    "            stop_iter += 1         \n",
    "            if stop_iter%1000 == 0:\n",
    "                print('iteration:', stop_iter)\n",
    "        except StopIteration:\n",
    "            stop_iter = -1\n",
    "        except:\n",
    "            pass\n",
    "    \n",
    "    # make dataframe and save\n",
    "    annotated_rbps = pd.DataFrame(data=rbp_dict)\n",
    "    annotated_nonrbps = pd.DataFrame(data=nonrbp_dict)\n",
    "    annotated_rbps.to_csv(directory+'/annotated_RBPs_unfiltered.csv', index=False)\n",
    "    annotated_nonrbps.to_csv(directory+'/annotated_nonRBPs_unfiltered.csv', index=False)\n",
    "    print('Wrote RBP and nonRBP databases to directory.')\n",
    "\n",
    "    return"
   ]
  },
  {
   "cell_type": "code",
   "execution_count": 14,
   "id": "cc806560",
   "metadata": {},
   "outputs": [],
   "source": [
    "def RBP_filters(RBPs_unfiltered, nonRBPs_unfiltered, directory, timestamp):\n",
    "    \"\"\"\n",
    "    This function applies several data processing filters to both the annotated RBP and annotated nonRBP set.\n",
    "    \n",
    "    Inputs:\n",
    "    - RBPs_unfiltered: unfiltered annotated RBPs, DataFrame\n",
    "    - nonRBPs_unfiltered: unfiltered annotated nonRBPs, DataFrame\n",
    "    - directory: to store output files in\n",
    "    - timestamp: current month/year for saving (e.g. '2020-01')\n",
    "    \n",
    "    Output: filtered RBP and nonRBP databases\n",
    "    \"\"\"\n",
    "    to_delete_rbps = []\n",
    "    to_delete_nonrbps = []\n",
    "    keywords = ['adaptor','wedge','baseplate','hinge','connector','structural','component',\n",
    "                'assembly','chaperone','attachment','capsid','proximal','measure']\n",
    "    hypotheticals = ['probable','probably','uncharacterized','uncharacterised','putative',\n",
    "                     'hypothetical','unknown','predicted']\n",
    "    \n",
    "    # loop over RBPs\n",
    "    for i, rbpseq in enumerate(RBPs_unfiltered['ProteinSeq']):\n",
    "        rbpname = RBPs_unfiltered['ProteinName'][i]\n",
    "        \n",
    "        # filter unknown AAs\n",
    "        if re.search(r'[^ACDEFGHIKLMNPQRSTVWY]', rbpseq) is not None:\n",
    "            to_delete_rbps.append(i)\n",
    "        # filter keywords\n",
    "        if any(key in rbpname.lower() for key in keywords):\n",
    "            to_delete_rbps.append(i)\n",
    "        # filter length\n",
    "        if (len(rbpseq) < 200) or (len(rbpseq) > 2000):\n",
    "            to_delete_rbps.append(i)\n",
    "            \n",
    "    # loop over nonRBPs\n",
    "    for i, nonrbpseq in enumerate(nonRBPs_unfiltered['ProteinSeq']):\n",
    "        nonrbpname = nonRBPs_unfiltered['ProteinName'][i]\n",
    "        \n",
    "        # filter unknown AAs\n",
    "        if re.search(r'[^ACDEFGHIKLMNPQRSTVWY]', nonrbpseq) is not None:\n",
    "            to_delete_nonrbps.append(i)\n",
    "        # filter hypotheticals\n",
    "        if any(hyp in nonrbpname.lower() for hyp in hypotheticals):\n",
    "            to_delete_nonrbps.append(i)\n",
    "        # filter length\n",
    "        if len(nonrbpseq) < 30:\n",
    "            to_delete_nonrbps.append(i)\n",
    "            \n",
    "    # delete\n",
    "    to_delete_rbps = list(set(to_delete_rbps))\n",
    "    to_delete_nonrbps = list(set(to_delete_nonrbps))\n",
    "    RBPs = RBPs_unfiltered.drop(to_delete_rbps)\n",
    "    RBPs = RBPs.reset_index(drop=True)\n",
    "    nonRBPs = nonRBPs_unfiltered.drop(to_delete_nonrbps)\n",
    "    nonRBPs = nonRBPs.reset_index(drop=True)\n",
    "    \n",
    "    # filter identicals\n",
    "    RBPs.drop_duplicates(subset = ['ProteinSeq'], inplace = True)\n",
    "    nonRBPs.drop_duplicates(subset = ['ProteinSeq'], inplace = True)\n",
    "    \n",
    "    # filter dubious ones (RBP-nonRBPs identicals)\n",
    "    to_delete_dubiousRBPs = [i for i, sequence in enumerate(RBPs['ProteinSeq']) if sequence in nonRBPs['ProteinSeq']]\n",
    "    to_delete_dubiousnonRBPs = [i for i, sequence in enumerate(nonRBPs['ProteinSeq']) if sequence in RBPs['ProteinSeq']]\n",
    "    RBPs = RBPs.drop(to_delete_dubiousRBPs)\n",
    "    RBPs = RBPs.reset_index(drop=True)\n",
    "    nonRBPs = nonRBPs.drop(to_delete_dubiousnonRBPs)\n",
    "    nonRBPs = nonRBPs.reset_index(drop=True)\n",
    "    print(RBPs.shape, nonRBPs.shape)\n",
    "    \n",
    "    # save new databases\n",
    "    RBPs.to_csv(directory+'/annotated_RBPs_'+timestamp+'.csv', index=False)\n",
    "    nonRBPs.to_csv(directory+'/annotated_nonRBPs_'+timestamp+'.csv', index=False)\n",
    "    print('Wrote filtered databases to directory.')\n",
    "    \n",
    "    return"
   ]
  },
  {
   "cell_type": "code",
   "execution_count": 15,
   "id": "9ff9f359",
   "metadata": {},
   "outputs": [
    {
     "name": "stdout",
     "output_type": "stream",
     "text": [
      "iteration: 1000\n",
      "iteration: 2000\n",
      "iteration: 3000\n",
      "iteration: 4000\n",
      "iteration: 5000\n",
      "iteration: 6000\n",
      "iteration: 7000\n",
      "iteration: 8000\n",
      "iteration: 9000\n",
      "iteration: 10000\n",
      "iteration: 11000\n",
      "iteration: 12000\n",
      "iteration: 13000\n",
      "iteration: 14000\n",
      "iteration: 15000\n",
      "iteration: 16000\n",
      "iteration: 17000\n",
      "iteration: 18000\n",
      "iteration: 19000\n",
      "iteration: 20000\n",
      "iteration: 21000\n",
      "Wrote RBP and nonRBP databases to directory.\n"
     ]
    }
   ],
   "source": [
    "# load data and collect CDSs\n",
    "Millard_tsv = data_dir+'/MillardLab_data_2021-12.tsv'\n",
    "Millard_gb = data_dir+'/MillardLab_genbank_2021-12.gb.txt'\n",
    "RBP_collection(Millard_tsv, Millard_gb, data_dir)"
   ]
  },
  {
   "cell_type": "code",
   "execution_count": 16,
   "id": "3ebb965d",
   "metadata": {},
   "outputs": [
    {
     "name": "stdout",
     "output_type": "stream",
     "text": [
      "(16496, 8) (1811032, 8)\n",
      "(6176, 8) (228315, 8)\n",
      "Wrote filtered databases to directory.\n"
     ]
    }
   ],
   "source": [
    "# process & filter collected CDSs\n",
    "rbps_uf = pd.read_csv(data_dir+'/annotated_RBPs_unfiltered.csv')\n",
    "nonrbps_uf = pd.read_csv(data_dir+'/annotated_nonRBPs_unfiltered.csv')\n",
    "print(rbps_uf.shape, nonrbps_uf.shape)\n",
    "RBP_filters(rbps_uf, nonrbps_uf, data_dir, '2022-01')"
   ]
  },
  {
   "cell_type": "code",
   "execution_count": 31,
   "id": "outer-confidence",
   "metadata": {},
   "outputs": [],
   "source": [
    "# load processed data\n",
    "rbps = pd.read_csv(data_dir+'/annotated_RBPs_2022-01.csv')\n",
    "nonrbps = pd.read_csv(data_dir+'/annotated_nonRBPs_2022-01.csv')"
   ]
  },
  {
   "cell_type": "code",
   "execution_count": 38,
   "id": "moral-strategy",
   "metadata": {
    "scrolled": true
   },
   "outputs": [
    {
     "data": {
      "text/html": [
       "<div>\n",
       "<style scoped>\n",
       "    .dataframe tbody tr th:only-of-type {\n",
       "        vertical-align: middle;\n",
       "    }\n",
       "\n",
       "    .dataframe tbody tr th {\n",
       "        vertical-align: top;\n",
       "    }\n",
       "\n",
       "    .dataframe thead th {\n",
       "        text-align: right;\n",
       "    }\n",
       "</style>\n",
       "<table border=\"1\" class=\"dataframe\">\n",
       "  <thead>\n",
       "    <tr style=\"text-align: right;\">\n",
       "      <th></th>\n",
       "      <th>phage_id</th>\n",
       "      <th>protein_id</th>\n",
       "      <th>Organism</th>\n",
       "      <th>Host</th>\n",
       "      <th>ProteinName</th>\n",
       "      <th>ProteinSeq</th>\n",
       "      <th>DNASeq</th>\n",
       "      <th>RecordDate</th>\n",
       "    </tr>\n",
       "  </thead>\n",
       "  <tbody>\n",
       "    <tr>\n",
       "      <th>0</th>\n",
       "      <td>OL441337</td>\n",
       "      <td>UFK26514.1</td>\n",
       "      <td>Pseudomonas phage PaP_Se</td>\n",
       "      <td>Pseudomonas aeruginosa</td>\n",
       "      <td>tail fibers protein</td>\n",
       "      <td>MGLEVATYINQLVPTNPTGSDLKSFGDDHLRLIKSAIKNTFPNISQ...</td>\n",
       "      <td>ATGGGTCTTGAGGTCGCAACTTATATTAACCAGTTGGTGCCTACGA...</td>\n",
       "      <td>28-NOV-2021</td>\n",
       "    </tr>\n",
       "    <tr>\n",
       "      <th>1</th>\n",
       "      <td>OK625527</td>\n",
       "      <td>UFK26377.1</td>\n",
       "      <td>Klebsiella phage vB_KpnP_ZK1</td>\n",
       "      <td>Klebsiella pneumoniae</td>\n",
       "      <td>tail fibers protein</td>\n",
       "      <td>MEVQGSLGRQIQGISQQPASVRLPGQCTDAINCSMDVVEGTKSRPG...</td>\n",
       "      <td>ATGGAAGTTCAAGGCTCGTTAGGTCGGCAGATACAAGGTATCAGCC...</td>\n",
       "      <td>28-NOV-2021</td>\n",
       "    </tr>\n",
       "    <tr>\n",
       "      <th>2</th>\n",
       "      <td>OK562429</td>\n",
       "      <td>UFJ83549.1</td>\n",
       "      <td>Klebsiella phage P929</td>\n",
       "      <td>Klebsiella pneumoniae Kp325</td>\n",
       "      <td>non-contractile tail fiber protein</td>\n",
       "      <td>MAFSWQEQIKPAGTQDIQCDIEYLDKSYIHVYLDGEETTGYTWTSS...</td>\n",
       "      <td>ATGGCGTTCAGCTGGCAAGAACAAATCAAGCCAGCTGGTACCCAGG...</td>\n",
       "      <td>28-NOV-2021</td>\n",
       "    </tr>\n",
       "    <tr>\n",
       "      <th>3</th>\n",
       "      <td>OK546191</td>\n",
       "      <td>UFJ83440.1</td>\n",
       "      <td>Acinetobacter phage vB_AbaP_ABWU2101</td>\n",
       "      <td>Acinetobacter baumannii</td>\n",
       "      <td>tailspike protein</td>\n",
       "      <td>MNILRSFTETVVTTPTELFPISFEYDEKYDAVHVFLNDVAVEDLGY...</td>\n",
       "      <td>ATGAATATACTACGCTCATTTACAGAGACAGTGGTGACTACACCTA...</td>\n",
       "      <td>28-NOV-2021</td>\n",
       "    </tr>\n",
       "    <tr>\n",
       "      <th>4</th>\n",
       "      <td>MZ675741</td>\n",
       "      <td>UFJ83225.1</td>\n",
       "      <td>Acinetobacter phage Ab1656-2</td>\n",
       "      <td>Acinetobacter baumannii 1656-2</td>\n",
       "      <td>putative tail fiber</td>\n",
       "      <td>MANLVFKFSWDHRPFPYNASQGKRQFMLPFASGIPNLAPNFSQVVG...</td>\n",
       "      <td>ATGGCAAATCTTGTTTTTAAATTTAGTTGGGATCATCGGCCATTCC...</td>\n",
       "      <td>28-NOV-2021</td>\n",
       "    </tr>\n",
       "  </tbody>\n",
       "</table>\n",
       "</div>"
      ],
      "text/plain": [
       "   phage_id  protein_id                              Organism  \\\n",
       "0  OL441337  UFK26514.1              Pseudomonas phage PaP_Se   \n",
       "1  OK625527  UFK26377.1          Klebsiella phage vB_KpnP_ZK1   \n",
       "2  OK562429  UFJ83549.1                 Klebsiella phage P929   \n",
       "3  OK546191  UFJ83440.1  Acinetobacter phage vB_AbaP_ABWU2101   \n",
       "4  MZ675741  UFJ83225.1          Acinetobacter phage Ab1656-2   \n",
       "\n",
       "                             Host                         ProteinName  \\\n",
       "0          Pseudomonas aeruginosa                 tail fibers protein   \n",
       "1           Klebsiella pneumoniae                 tail fibers protein   \n",
       "2     Klebsiella pneumoniae Kp325  non-contractile tail fiber protein   \n",
       "3         Acinetobacter baumannii                   tailspike protein   \n",
       "4  Acinetobacter baumannii 1656-2                 putative tail fiber   \n",
       "\n",
       "                                          ProteinSeq  \\\n",
       "0  MGLEVATYINQLVPTNPTGSDLKSFGDDHLRLIKSAIKNTFPNISQ...   \n",
       "1  MEVQGSLGRQIQGISQQPASVRLPGQCTDAINCSMDVVEGTKSRPG...   \n",
       "2  MAFSWQEQIKPAGTQDIQCDIEYLDKSYIHVYLDGEETTGYTWTSS...   \n",
       "3  MNILRSFTETVVTTPTELFPISFEYDEKYDAVHVFLNDVAVEDLGY...   \n",
       "4  MANLVFKFSWDHRPFPYNASQGKRQFMLPFASGIPNLAPNFSQVVG...   \n",
       "\n",
       "                                              DNASeq   RecordDate  \n",
       "0  ATGGGTCTTGAGGTCGCAACTTATATTAACCAGTTGGTGCCTACGA...  28-NOV-2021  \n",
       "1  ATGGAAGTTCAAGGCTCGTTAGGTCGGCAGATACAAGGTATCAGCC...  28-NOV-2021  \n",
       "2  ATGGCGTTCAGCTGGCAAGAACAAATCAAGCCAGCTGGTACCCAGG...  28-NOV-2021  \n",
       "3  ATGAATATACTACGCTCATTTACAGAGACAGTGGTGACTACACCTA...  28-NOV-2021  \n",
       "4  ATGGCAAATCTTGTTTTTAAATTTAGTTGGGATCATCGGCCATTCC...  28-NOV-2021  "
      ]
     },
     "execution_count": 38,
     "metadata": {},
     "output_type": "execute_result"
    }
   ],
   "source": [
    "rbps.head()"
   ]
  },
  {
   "cell_type": "markdown",
   "id": "cd4d7594",
   "metadata": {},
   "source": [
    "#### Computing embeddings\n",
    "\n",
    "This is done in the protein_embeddings_cloud notebook on Kaggle, utilizing a GPU for speedup."
   ]
  },
  {
   "cell_type": "markdown",
   "id": "97242789",
   "metadata": {},
   "source": [
    "## 2. Constructing custom RBP domain HMMs"
   ]
  },
  {
   "cell_type": "code",
   "execution_count": null,
   "id": "2ae15157",
   "metadata": {},
   "outputs": [],
   "source": []
  },
  {
   "cell_type": "markdown",
   "id": "bound-temple",
   "metadata": {},
   "source": [
    "## 3. Learning patterns and evaluating models\n",
    "\n",
    "Here, we build an XGBoost classifier to discriminate between phage RBPs and phage nonRBPs, as defined in the processing above. We train our model on all data before October 2021. This allows for a separate and final benchmark against PhANNs using the sequence data that only became available during the last three months of 2021. Therefore, the embeddings that were computed in the cloud also include the record data of each corresponding data point. Then we split according to this date.\n",
    "\n",
    "Findings:\n",
    "- we see that standard scaling does not affect peformance.\n",
    "- the One-class approaches don't seem to work, at least not at a split of 1:10. Perhaps the high dimensionality is also a problem...\n",
    "- The XGBoost classifier seems to work best so far.\n",
    "- The AUC metric considers both the majority and minority class, which can give an overly optimistic estimate of performance. The F1 score considers only the positive/minority class."
   ]
  },
  {
   "cell_type": "markdown",
   "id": "35212beb",
   "metadata": {},
   "source": [
    "#### Load processed data  & filter up to SEP 2021"
   ]
  },
  {
   "cell_type": "code",
   "execution_count": 31,
   "id": "boolean-venice",
   "metadata": {},
   "outputs": [
    {
     "name": "stdout",
     "output_type": "stream",
     "text": [
      "Check? True\n",
      "Check? True\n"
     ]
    }
   ],
   "source": [
    "rbps_em = pd.read_csv(data_dir+'/annotated_RBPs_2022-01_embeddings.csv')\n",
    "nonrbps_em = pd.read_csv(data_dir+'/annotated_nonRBPs_2022-01_embeddings.csv')\n",
    "months = ['OCT-2021', 'NOV-2021', 'DEC-2021']\n",
    "to_delete_rbps = [i for i, date in enumerate(rbps_em['RecordDate']) if any(x in date for x in months)]\n",
    "rbps_upto2021 = rbps_em.drop(to_delete_rbps)\n",
    "rbps_upto2021 = rbps_upto2021.reset_index(drop=True)\n",
    "to_delete_nonrbps = [i for i, date in enumerate(nonrbps_em['RecordDate']) if any(x in date for x in months)]\n",
    "nonrbps_upto2021 = nonrbps_em.drop(to_delete_nonrbps)\n",
    "nonrbps_upto2021 = nonrbps_upto2021.reset_index(drop=True)\n",
    "\n",
    "rbp_embed = np.asarray(rbps_upto2021.iloc[:, 2:])\n",
    "nonrbp_embed = np.asarray(nonrbps_upto2021.iloc[:, 2:])\n",
    "\n",
    "features = np.concatenate((rbp_embed, nonrbp_embed))\n",
    "labels = np.asarray([1]*rbp_embed.shape[0] + [0]*nonrbp_embed.shape[0])\n",
    "print('Check?', features.shape[0]==labels.shape[0])\n",
    "print('Check?', features.shape[1]==1024)"
   ]
  },
  {
   "cell_type": "markdown",
   "id": "3edbe2b6",
   "metadata": {},
   "source": [
    "#### Explore the embeddings with PCA & tSNE"
   ]
  },
  {
   "cell_type": "code",
   "execution_count": 35,
   "id": "66cc9808",
   "metadata": {},
   "outputs": [
    {
     "name": "stdout",
     "output_type": "stream",
     "text": [
      "[0.21927851 0.16474411 0.13806368 0.0748293  0.0392286 ] 0.6361441929158258\n"
     ]
    },
    {
     "name": "stderr",
     "output_type": "stream",
     "text": [
      "/opt/homebrew/Caskroom/miniforge/base/envs/ML1/lib/python3.9/site-packages/sklearn/manifold/_t_sne.py:780: FutureWarning: The default initialization in TSNE will change from 'random' to 'pca' in 1.2.\n",
      "  warnings.warn(\n",
      "/opt/homebrew/Caskroom/miniforge/base/envs/ML1/lib/python3.9/site-packages/sklearn/manifold/_t_sne.py:790: FutureWarning: The default learning rate in TSNE will change from 200.0 to 'auto' in 1.2.\n",
      "  warnings.warn(\n"
     ]
    }
   ],
   "source": [
    "# PCA to visualize class separation\n",
    "pca = PCA(n_components=5)\n",
    "fr_pca = pca.fit_transform(features)\n",
    "print(pca.explained_variance_ratio_, sum(pca.explained_variance_ratio_))\n",
    "\n",
    "tsne = TSNE(n_components=3)\n",
    "fr_tsne = tsne.fit_transform(features)"
   ]
  },
  {
   "cell_type": "code",
   "execution_count": 36,
   "id": "a472d563",
   "metadata": {},
   "outputs": [
    {
     "data": {
      "image/png": "[encoded data removed]",
      "text/plain": [
       "<Figure size 720x576 with 1 Axes>"
      ]
     },
     "metadata": {
      "needs_background": "light"
     },
     "output_type": "display_data"
    }
   ],
   "source": [
    "fr = fr_tsne\n",
    "fig, ax = plt.subplots(figsize=(10, 8))\n",
    "colors = [\"navy\", \"turquoise\"]\n",
    "for color, i in zip(colors, [0, 1]):\n",
    "    ax.scatter(fr[labels == i, 0], fr[labels == i, 1], color=color, alpha=0.8, lw=2)"
   ]
  },
  {
   "cell_type": "markdown",
   "id": "71f23ba0",
   "metadata": {},
   "source": [
    "#### Nested cross-validation: optimize hyperparameters and evaluate model performance"
   ]
  },
  {
   "cell_type": "code",
   "execution_count": 11,
   "id": "fb22e878",
   "metadata": {},
   "outputs": [],
   "source": [
    "# define cross-validation iterator & models\n",
    "imbalance = rbp_embed.shape[0]/nonrbp_embed.shape[0]\n",
    "inner_cv = StratifiedKFold(n_splits=2, shuffle=True)\n",
    "outer_cv = StratifiedKFold(n_splits=4, shuffle=True)\n",
    "performances = {'F1':[], 'P':[], 'AUC':[]}\n",
    "cpus = 6\n",
    "\n",
    "xgb = XGBClassifier(scale_pos_weight=1/imbalance, n_jobs=cpus)\n",
    "params_xgb = {'max_depth': [3, 5], 'n_estimators': [250, 500]}"
   ]
  },
  {
   "cell_type": "code",
   "execution_count": 14,
   "id": "a25c9204",
   "metadata": {},
   "outputs": [
    {
     "name": "stderr",
     "output_type": "stream",
     "text": [
      "4-fold CV:   0%|                                          | 0/4 [24:27<?, ?it/s]\n",
      "/opt/homebrew/Caskroom/miniforge/base/envs/ML1/lib/python3.9/site-packages/xgboost/sklearn.py:1224: UserWarning: The use of label encoder in XGBClassifier is deprecated and will be removed in a future release. To remove this warning, do the following: 1) Pass option use_label_encoder=False when constructing XGBClassifier object; and 2) Encode your labels (y) as integers starting with 0, i.e. 0, 1, 2, ..., [num_class - 1].\n",
      "  warnings.warn(label_encoder_deprecation_msg, UserWarning)\n"
     ]
    },
    {
     "name": "stdout",
     "output_type": "stream",
     "text": [
      "Fitting 2 folds for each of 4 candidates, totalling 8 fits\n",
      "[11:22:26] WARNING: /private/var/folders/p1/fvz7cyr12yl0lf647b14byy80000gn/T/pip-install-w5n3w6k9/xgboost_a8a36401f804426fb00f941f2eae565c/build/temp.macosx-11.0-arm64-3.9/xgboost/src/learner.cc:1115: Starting in XGBoost 1.3.0, the default evaluation metric used with the objective 'binary:logistic' was changed from 'error' to 'logloss'. Explicitly set eval_metric if you'd like to restore the old behavior.\n",
      "[CV] END ......................max_depth=3, n_estimators=250; total time= 1.2min\n"
     ]
    },
    {
     "name": "stderr",
     "output_type": "stream",
     "text": [
      "/opt/homebrew/Caskroom/miniforge/base/envs/ML1/lib/python3.9/site-packages/xgboost/sklearn.py:1224: UserWarning: The use of label encoder in XGBClassifier is deprecated and will be removed in a future release. To remove this warning, do the following: 1) Pass option use_label_encoder=False when constructing XGBClassifier object; and 2) Encode your labels (y) as integers starting with 0, i.e. 0, 1, 2, ..., [num_class - 1].\n",
      "  warnings.warn(label_encoder_deprecation_msg, UserWarning)\n"
     ]
    },
    {
     "name": "stdout",
     "output_type": "stream",
     "text": [
      "[11:23:38] WARNING: /private/var/folders/p1/fvz7cyr12yl0lf647b14byy80000gn/T/pip-install-w5n3w6k9/xgboost_a8a36401f804426fb00f941f2eae565c/build/temp.macosx-11.0-arm64-3.9/xgboost/src/learner.cc:1115: Starting in XGBoost 1.3.0, the default evaluation metric used with the objective 'binary:logistic' was changed from 'error' to 'logloss'. Explicitly set eval_metric if you'd like to restore the old behavior.\n",
      "[CV] END ......................max_depth=3, n_estimators=250; total time= 1.3min\n"
     ]
    },
    {
     "name": "stderr",
     "output_type": "stream",
     "text": [
      "/opt/homebrew/Caskroom/miniforge/base/envs/ML1/lib/python3.9/site-packages/xgboost/sklearn.py:1224: UserWarning: The use of label encoder in XGBClassifier is deprecated and will be removed in a future release. To remove this warning, do the following: 1) Pass option use_label_encoder=False when constructing XGBClassifier object; and 2) Encode your labels (y) as integers starting with 0, i.e. 0, 1, 2, ..., [num_class - 1].\n",
      "  warnings.warn(label_encoder_deprecation_msg, UserWarning)\n"
     ]
    },
    {
     "name": "stdout",
     "output_type": "stream",
     "text": [
      "[11:24:59] WARNING: /private/var/folders/p1/fvz7cyr12yl0lf647b14byy80000gn/T/pip-install-w5n3w6k9/xgboost_a8a36401f804426fb00f941f2eae565c/build/temp.macosx-11.0-arm64-3.9/xgboost/src/learner.cc:1115: Starting in XGBoost 1.3.0, the default evaluation metric used with the objective 'binary:logistic' was changed from 'error' to 'logloss'. Explicitly set eval_metric if you'd like to restore the old behavior.\n",
      "[CV] END ......................max_depth=3, n_estimators=500; total time= 2.6min\n"
     ]
    },
    {
     "name": "stderr",
     "output_type": "stream",
     "text": [
      "/opt/homebrew/Caskroom/miniforge/base/envs/ML1/lib/python3.9/site-packages/xgboost/sklearn.py:1224: UserWarning: The use of label encoder in XGBClassifier is deprecated and will be removed in a future release. To remove this warning, do the following: 1) Pass option use_label_encoder=False when constructing XGBClassifier object; and 2) Encode your labels (y) as integers starting with 0, i.e. 0, 1, 2, ..., [num_class - 1].\n",
      "  warnings.warn(label_encoder_deprecation_msg, UserWarning)\n"
     ]
    },
    {
     "name": "stdout",
     "output_type": "stream",
     "text": [
      "[11:27:34] WARNING: /private/var/folders/p1/fvz7cyr12yl0lf647b14byy80000gn/T/pip-install-w5n3w6k9/xgboost_a8a36401f804426fb00f941f2eae565c/build/temp.macosx-11.0-arm64-3.9/xgboost/src/learner.cc:1115: Starting in XGBoost 1.3.0, the default evaluation metric used with the objective 'binary:logistic' was changed from 'error' to 'logloss'. Explicitly set eval_metric if you'd like to restore the old behavior.\n",
      "[CV] END ......................max_depth=3, n_estimators=500; total time= 2.6min\n"
     ]
    },
    {
     "name": "stderr",
     "output_type": "stream",
     "text": [
      "/opt/homebrew/Caskroom/miniforge/base/envs/ML1/lib/python3.9/site-packages/xgboost/sklearn.py:1224: UserWarning: The use of label encoder in XGBClassifier is deprecated and will be removed in a future release. To remove this warning, do the following: 1) Pass option use_label_encoder=False when constructing XGBClassifier object; and 2) Encode your labels (y) as integers starting with 0, i.e. 0, 1, 2, ..., [num_class - 1].\n",
      "  warnings.warn(label_encoder_deprecation_msg, UserWarning)\n"
     ]
    },
    {
     "name": "stdout",
     "output_type": "stream",
     "text": [
      "[11:30:09] WARNING: /private/var/folders/p1/fvz7cyr12yl0lf647b14byy80000gn/T/pip-install-w5n3w6k9/xgboost_a8a36401f804426fb00f941f2eae565c/build/temp.macosx-11.0-arm64-3.9/xgboost/src/learner.cc:1115: Starting in XGBoost 1.3.0, the default evaluation metric used with the objective 'binary:logistic' was changed from 'error' to 'logloss'. Explicitly set eval_metric if you'd like to restore the old behavior.\n",
      "[CV] END ......................max_depth=5, n_estimators=250; total time= 1.9min\n"
     ]
    },
    {
     "name": "stderr",
     "output_type": "stream",
     "text": [
      "/opt/homebrew/Caskroom/miniforge/base/envs/ML1/lib/python3.9/site-packages/xgboost/sklearn.py:1224: UserWarning: The use of label encoder in XGBClassifier is deprecated and will be removed in a future release. To remove this warning, do the following: 1) Pass option use_label_encoder=False when constructing XGBClassifier object; and 2) Encode your labels (y) as integers starting with 0, i.e. 0, 1, 2, ..., [num_class - 1].\n",
      "  warnings.warn(label_encoder_deprecation_msg, UserWarning)\n"
     ]
    },
    {
     "name": "stdout",
     "output_type": "stream",
     "text": [
      "[11:32:04] WARNING: /private/var/folders/p1/fvz7cyr12yl0lf647b14byy80000gn/T/pip-install-w5n3w6k9/xgboost_a8a36401f804426fb00f941f2eae565c/build/temp.macosx-11.0-arm64-3.9/xgboost/src/learner.cc:1115: Starting in XGBoost 1.3.0, the default evaluation metric used with the objective 'binary:logistic' was changed from 'error' to 'logloss'. Explicitly set eval_metric if you'd like to restore the old behavior.\n",
      "[CV] END ......................max_depth=5, n_estimators=250; total time= 1.9min\n"
     ]
    },
    {
     "name": "stderr",
     "output_type": "stream",
     "text": [
      "/opt/homebrew/Caskroom/miniforge/base/envs/ML1/lib/python3.9/site-packages/xgboost/sklearn.py:1224: UserWarning: The use of label encoder in XGBClassifier is deprecated and will be removed in a future release. To remove this warning, do the following: 1) Pass option use_label_encoder=False when constructing XGBClassifier object; and 2) Encode your labels (y) as integers starting with 0, i.e. 0, 1, 2, ..., [num_class - 1].\n",
      "  warnings.warn(label_encoder_deprecation_msg, UserWarning)\n"
     ]
    },
    {
     "name": "stdout",
     "output_type": "stream",
     "text": [
      "[11:33:58] WARNING: /private/var/folders/p1/fvz7cyr12yl0lf647b14byy80000gn/T/pip-install-w5n3w6k9/xgboost_a8a36401f804426fb00f941f2eae565c/build/temp.macosx-11.0-arm64-3.9/xgboost/src/learner.cc:1115: Starting in XGBoost 1.3.0, the default evaluation metric used with the objective 'binary:logistic' was changed from 'error' to 'logloss'. Explicitly set eval_metric if you'd like to restore the old behavior.\n",
      "[CV] END ......................max_depth=5, n_estimators=500; total time= 2.9min\n"
     ]
    },
    {
     "name": "stderr",
     "output_type": "stream",
     "text": [
      "/opt/homebrew/Caskroom/miniforge/base/envs/ML1/lib/python3.9/site-packages/xgboost/sklearn.py:1224: UserWarning: The use of label encoder in XGBClassifier is deprecated and will be removed in a future release. To remove this warning, do the following: 1) Pass option use_label_encoder=False when constructing XGBClassifier object; and 2) Encode your labels (y) as integers starting with 0, i.e. 0, 1, 2, ..., [num_class - 1].\n",
      "  warnings.warn(label_encoder_deprecation_msg, UserWarning)\n"
     ]
    },
    {
     "name": "stdout",
     "output_type": "stream",
     "text": [
      "[11:36:50] WARNING: /private/var/folders/p1/fvz7cyr12yl0lf647b14byy80000gn/T/pip-install-w5n3w6k9/xgboost_a8a36401f804426fb00f941f2eae565c/build/temp.macosx-11.0-arm64-3.9/xgboost/src/learner.cc:1115: Starting in XGBoost 1.3.0, the default evaluation metric used with the objective 'binary:logistic' was changed from 'error' to 'logloss'. Explicitly set eval_metric if you'd like to restore the old behavior.\n",
      "[CV] END ......................max_depth=5, n_estimators=500; total time= 2.9min\n"
     ]
    },
    {
     "name": "stderr",
     "output_type": "stream",
     "text": [
      "/opt/homebrew/Caskroom/miniforge/base/envs/ML1/lib/python3.9/site-packages/xgboost/sklearn.py:1224: UserWarning: The use of label encoder in XGBClassifier is deprecated and will be removed in a future release. To remove this warning, do the following: 1) Pass option use_label_encoder=False when constructing XGBClassifier object; and 2) Encode your labels (y) as integers starting with 0, i.e. 0, 1, 2, ..., [num_class - 1].\n",
      "  warnings.warn(label_encoder_deprecation_msg, UserWarning)\n"
     ]
    },
    {
     "name": "stdout",
     "output_type": "stream",
     "text": [
      "[11:39:43] WARNING: /private/var/folders/p1/fvz7cyr12yl0lf647b14byy80000gn/T/pip-install-w5n3w6k9/xgboost_a8a36401f804426fb00f941f2eae565c/build/temp.macosx-11.0-arm64-3.9/xgboost/src/learner.cc:1115: Starting in XGBoost 1.3.0, the default evaluation metric used with the objective 'binary:logistic' was changed from 'error' to 'logloss'. Explicitly set eval_metric if you'd like to restore the old behavior.\n"
     ]
    },
    {
     "name": "stderr",
     "output_type": "stream",
     "text": [
      "4-fold CV:  25%|███████▌                      | 1/4 [25:00<1:15:01, 1500.56s/it]/opt/homebrew/Caskroom/miniforge/base/envs/ML1/lib/python3.9/site-packages/xgboost/sklearn.py:1224: UserWarning: The use of label encoder in XGBClassifier is deprecated and will be removed in a future release. To remove this warning, do the following: 1) Pass option use_label_encoder=False when constructing XGBClassifier object; and 2) Encode your labels (y) as integers starting with 0, i.e. 0, 1, 2, ..., [num_class - 1].\n",
      "  warnings.warn(label_encoder_deprecation_msg, UserWarning)\n"
     ]
    },
    {
     "name": "stdout",
     "output_type": "stream",
     "text": [
      "Fitting 2 folds for each of 4 candidates, totalling 8 fits\n",
      "[11:47:27] WARNING: /private/var/folders/p1/fvz7cyr12yl0lf647b14byy80000gn/T/pip-install-w5n3w6k9/xgboost_a8a36401f804426fb00f941f2eae565c/build/temp.macosx-11.0-arm64-3.9/xgboost/src/learner.cc:1115: Starting in XGBoost 1.3.0, the default evaluation metric used with the objective 'binary:logistic' was changed from 'error' to 'logloss'. Explicitly set eval_metric if you'd like to restore the old behavior.\n",
      "[CV] END ......................max_depth=3, n_estimators=250; total time= 1.5min\n"
     ]
    },
    {
     "name": "stderr",
     "output_type": "stream",
     "text": [
      "/opt/homebrew/Caskroom/miniforge/base/envs/ML1/lib/python3.9/site-packages/xgboost/sklearn.py:1224: UserWarning: The use of label encoder in XGBClassifier is deprecated and will be removed in a future release. To remove this warning, do the following: 1) Pass option use_label_encoder=False when constructing XGBClassifier object; and 2) Encode your labels (y) as integers starting with 0, i.e. 0, 1, 2, ..., [num_class - 1].\n",
      "  warnings.warn(label_encoder_deprecation_msg, UserWarning)\n"
     ]
    },
    {
     "name": "stdout",
     "output_type": "stream",
     "text": [
      "[11:48:54] WARNING: /private/var/folders/p1/fvz7cyr12yl0lf647b14byy80000gn/T/pip-install-w5n3w6k9/xgboost_a8a36401f804426fb00f941f2eae565c/build/temp.macosx-11.0-arm64-3.9/xgboost/src/learner.cc:1115: Starting in XGBoost 1.3.0, the default evaluation metric used with the objective 'binary:logistic' was changed from 'error' to 'logloss'. Explicitly set eval_metric if you'd like to restore the old behavior.\n",
      "[CV] END ......................max_depth=3, n_estimators=250; total time= 1.5min\n"
     ]
    },
    {
     "name": "stderr",
     "output_type": "stream",
     "text": [
      "/opt/homebrew/Caskroom/miniforge/base/envs/ML1/lib/python3.9/site-packages/xgboost/sklearn.py:1224: UserWarning: The use of label encoder in XGBClassifier is deprecated and will be removed in a future release. To remove this warning, do the following: 1) Pass option use_label_encoder=False when constructing XGBClassifier object; and 2) Encode your labels (y) as integers starting with 0, i.e. 0, 1, 2, ..., [num_class - 1].\n",
      "  warnings.warn(label_encoder_deprecation_msg, UserWarning)\n"
     ]
    },
    {
     "name": "stdout",
     "output_type": "stream",
     "text": [
      "[11:50:21] WARNING: /private/var/folders/p1/fvz7cyr12yl0lf647b14byy80000gn/T/pip-install-w5n3w6k9/xgboost_a8a36401f804426fb00f941f2eae565c/build/temp.macosx-11.0-arm64-3.9/xgboost/src/learner.cc:1115: Starting in XGBoost 1.3.0, the default evaluation metric used with the objective 'binary:logistic' was changed from 'error' to 'logloss'. Explicitly set eval_metric if you'd like to restore the old behavior.\n",
      "[CV] END ......................max_depth=3, n_estimators=500; total time= 2.7min\n"
     ]
    },
    {
     "name": "stderr",
     "output_type": "stream",
     "text": [
      "/opt/homebrew/Caskroom/miniforge/base/envs/ML1/lib/python3.9/site-packages/xgboost/sklearn.py:1224: UserWarning: The use of label encoder in XGBClassifier is deprecated and will be removed in a future release. To remove this warning, do the following: 1) Pass option use_label_encoder=False when constructing XGBClassifier object; and 2) Encode your labels (y) as integers starting with 0, i.e. 0, 1, 2, ..., [num_class - 1].\n",
      "  warnings.warn(label_encoder_deprecation_msg, UserWarning)\n"
     ]
    },
    {
     "name": "stdout",
     "output_type": "stream",
     "text": [
      "[11:53:02] WARNING: /private/var/folders/p1/fvz7cyr12yl0lf647b14byy80000gn/T/pip-install-w5n3w6k9/xgboost_a8a36401f804426fb00f941f2eae565c/build/temp.macosx-11.0-arm64-3.9/xgboost/src/learner.cc:1115: Starting in XGBoost 1.3.0, the default evaluation metric used with the objective 'binary:logistic' was changed from 'error' to 'logloss'. Explicitly set eval_metric if you'd like to restore the old behavior.\n",
      "[CV] END ......................max_depth=3, n_estimators=500; total time= 2.7min\n"
     ]
    },
    {
     "name": "stderr",
     "output_type": "stream",
     "text": [
      "/opt/homebrew/Caskroom/miniforge/base/envs/ML1/lib/python3.9/site-packages/xgboost/sklearn.py:1224: UserWarning: The use of label encoder in XGBClassifier is deprecated and will be removed in a future release. To remove this warning, do the following: 1) Pass option use_label_encoder=False when constructing XGBClassifier object; and 2) Encode your labels (y) as integers starting with 0, i.e. 0, 1, 2, ..., [num_class - 1].\n",
      "  warnings.warn(label_encoder_deprecation_msg, UserWarning)\n"
     ]
    },
    {
     "name": "stdout",
     "output_type": "stream",
     "text": [
      "[11:55:44] WARNING: /private/var/folders/p1/fvz7cyr12yl0lf647b14byy80000gn/T/pip-install-w5n3w6k9/xgboost_a8a36401f804426fb00f941f2eae565c/build/temp.macosx-11.0-arm64-3.9/xgboost/src/learner.cc:1115: Starting in XGBoost 1.3.0, the default evaluation metric used with the objective 'binary:logistic' was changed from 'error' to 'logloss'. Explicitly set eval_metric if you'd like to restore the old behavior.\n",
      "[CV] END ......................max_depth=5, n_estimators=250; total time= 1.9min\n"
     ]
    },
    {
     "name": "stderr",
     "output_type": "stream",
     "text": [
      "/opt/homebrew/Caskroom/miniforge/base/envs/ML1/lib/python3.9/site-packages/xgboost/sklearn.py:1224: UserWarning: The use of label encoder in XGBClassifier is deprecated and will be removed in a future release. To remove this warning, do the following: 1) Pass option use_label_encoder=False when constructing XGBClassifier object; and 2) Encode your labels (y) as integers starting with 0, i.e. 0, 1, 2, ..., [num_class - 1].\n",
      "  warnings.warn(label_encoder_deprecation_msg, UserWarning)\n"
     ]
    },
    {
     "name": "stdout",
     "output_type": "stream",
     "text": [
      "[11:57:39] WARNING: /private/var/folders/p1/fvz7cyr12yl0lf647b14byy80000gn/T/pip-install-w5n3w6k9/xgboost_a8a36401f804426fb00f941f2eae565c/build/temp.macosx-11.0-arm64-3.9/xgboost/src/learner.cc:1115: Starting in XGBoost 1.3.0, the default evaluation metric used with the objective 'binary:logistic' was changed from 'error' to 'logloss'. Explicitly set eval_metric if you'd like to restore the old behavior.\n",
      "[CV] END ......................max_depth=5, n_estimators=250; total time=57.2min\n"
     ]
    },
    {
     "name": "stderr",
     "output_type": "stream",
     "text": [
      "/opt/homebrew/Caskroom/miniforge/base/envs/ML1/lib/python3.9/site-packages/xgboost/sklearn.py:1224: UserWarning: The use of label encoder in XGBClassifier is deprecated and will be removed in a future release. To remove this warning, do the following: 1) Pass option use_label_encoder=False when constructing XGBClassifier object; and 2) Encode your labels (y) as integers starting with 0, i.e. 0, 1, 2, ..., [num_class - 1].\n",
      "  warnings.warn(label_encoder_deprecation_msg, UserWarning)\n"
     ]
    },
    {
     "name": "stdout",
     "output_type": "stream",
     "text": [
      "[12:54:49] WARNING: /private/var/folders/p1/fvz7cyr12yl0lf647b14byy80000gn/T/pip-install-w5n3w6k9/xgboost_a8a36401f804426fb00f941f2eae565c/build/temp.macosx-11.0-arm64-3.9/xgboost/src/learner.cc:1115: Starting in XGBoost 1.3.0, the default evaluation metric used with the objective 'binary:logistic' was changed from 'error' to 'logloss'. Explicitly set eval_metric if you'd like to restore the old behavior.\n",
      "[CV] END ......................max_depth=5, n_estimators=500; total time= 2.2min\n"
     ]
    },
    {
     "name": "stderr",
     "output_type": "stream",
     "text": [
      "/opt/homebrew/Caskroom/miniforge/base/envs/ML1/lib/python3.9/site-packages/xgboost/sklearn.py:1224: UserWarning: The use of label encoder in XGBClassifier is deprecated and will be removed in a future release. To remove this warning, do the following: 1) Pass option use_label_encoder=False when constructing XGBClassifier object; and 2) Encode your labels (y) as integers starting with 0, i.e. 0, 1, 2, ..., [num_class - 1].\n",
      "  warnings.warn(label_encoder_deprecation_msg, UserWarning)\n"
     ]
    },
    {
     "name": "stdout",
     "output_type": "stream",
     "text": [
      "[12:57:02] WARNING: /private/var/folders/p1/fvz7cyr12yl0lf647b14byy80000gn/T/pip-install-w5n3w6k9/xgboost_a8a36401f804426fb00f941f2eae565c/build/temp.macosx-11.0-arm64-3.9/xgboost/src/learner.cc:1115: Starting in XGBoost 1.3.0, the default evaluation metric used with the objective 'binary:logistic' was changed from 'error' to 'logloss'. Explicitly set eval_metric if you'd like to restore the old behavior.\n",
      "[CV] END ......................max_depth=5, n_estimators=500; total time= 2.5min\n"
     ]
    },
    {
     "name": "stderr",
     "output_type": "stream",
     "text": [
      "/opt/homebrew/Caskroom/miniforge/base/envs/ML1/lib/python3.9/site-packages/xgboost/sklearn.py:1224: UserWarning: The use of label encoder in XGBClassifier is deprecated and will be removed in a future release. To remove this warning, do the following: 1) Pass option use_label_encoder=False when constructing XGBClassifier object; and 2) Encode your labels (y) as integers starting with 0, i.e. 0, 1, 2, ..., [num_class - 1].\n",
      "  warnings.warn(label_encoder_deprecation_msg, UserWarning)\n"
     ]
    },
    {
     "name": "stdout",
     "output_type": "stream",
     "text": [
      "[12:59:33] WARNING: /private/var/folders/p1/fvz7cyr12yl0lf647b14byy80000gn/T/pip-install-w5n3w6k9/xgboost_a8a36401f804426fb00f941f2eae565c/build/temp.macosx-11.0-arm64-3.9/xgboost/src/learner.cc:1115: Starting in XGBoost 1.3.0, the default evaluation metric used with the objective 'binary:logistic' was changed from 'error' to 'logloss'. Explicitly set eval_metric if you'd like to restore the old behavior.\n"
     ]
    },
    {
     "name": "stderr",
     "output_type": "stream",
     "text": [
      "4-fold CV:  50%|██████████████              | 2/4 [1:44:07<1:53:40, 3410.35s/it]/opt/homebrew/Caskroom/miniforge/base/envs/ML1/lib/python3.9/site-packages/xgboost/sklearn.py:1224: UserWarning: The use of label encoder in XGBClassifier is deprecated and will be removed in a future release. To remove this warning, do the following: 1) Pass option use_label_encoder=False when constructing XGBClassifier object; and 2) Encode your labels (y) as integers starting with 0, i.e. 0, 1, 2, ..., [num_class - 1].\n",
      "  warnings.warn(label_encoder_deprecation_msg, UserWarning)\n"
     ]
    },
    {
     "name": "stdout",
     "output_type": "stream",
     "text": [
      "Fitting 2 folds for each of 4 candidates, totalling 8 fits\n",
      "[13:06:34] WARNING: /private/var/folders/p1/fvz7cyr12yl0lf647b14byy80000gn/T/pip-install-w5n3w6k9/xgboost_a8a36401f804426fb00f941f2eae565c/build/temp.macosx-11.0-arm64-3.9/xgboost/src/learner.cc:1115: Starting in XGBoost 1.3.0, the default evaluation metric used with the objective 'binary:logistic' was changed from 'error' to 'logloss'. Explicitly set eval_metric if you'd like to restore the old behavior.\n",
      "[CV] END ......................max_depth=3, n_estimators=250; total time= 1.4min\n"
     ]
    },
    {
     "name": "stderr",
     "output_type": "stream",
     "text": [
      "/opt/homebrew/Caskroom/miniforge/base/envs/ML1/lib/python3.9/site-packages/xgboost/sklearn.py:1224: UserWarning: The use of label encoder in XGBClassifier is deprecated and will be removed in a future release. To remove this warning, do the following: 1) Pass option use_label_encoder=False when constructing XGBClassifier object; and 2) Encode your labels (y) as integers starting with 0, i.e. 0, 1, 2, ..., [num_class - 1].\n",
      "  warnings.warn(label_encoder_deprecation_msg, UserWarning)\n"
     ]
    },
    {
     "name": "stdout",
     "output_type": "stream",
     "text": [
      "[13:07:57] WARNING: /private/var/folders/p1/fvz7cyr12yl0lf647b14byy80000gn/T/pip-install-w5n3w6k9/xgboost_a8a36401f804426fb00f941f2eae565c/build/temp.macosx-11.0-arm64-3.9/xgboost/src/learner.cc:1115: Starting in XGBoost 1.3.0, the default evaluation metric used with the objective 'binary:logistic' was changed from 'error' to 'logloss'. Explicitly set eval_metric if you'd like to restore the old behavior.\n",
      "[CV] END ......................max_depth=3, n_estimators=250; total time= 1.4min\n"
     ]
    },
    {
     "name": "stderr",
     "output_type": "stream",
     "text": [
      "/opt/homebrew/Caskroom/miniforge/base/envs/ML1/lib/python3.9/site-packages/xgboost/sklearn.py:1224: UserWarning: The use of label encoder in XGBClassifier is deprecated and will be removed in a future release. To remove this warning, do the following: 1) Pass option use_label_encoder=False when constructing XGBClassifier object; and 2) Encode your labels (y) as integers starting with 0, i.e. 0, 1, 2, ..., [num_class - 1].\n",
      "  warnings.warn(label_encoder_deprecation_msg, UserWarning)\n"
     ]
    },
    {
     "name": "stdout",
     "output_type": "stream",
     "text": [
      "[13:09:20] WARNING: /private/var/folders/p1/fvz7cyr12yl0lf647b14byy80000gn/T/pip-install-w5n3w6k9/xgboost_a8a36401f804426fb00f941f2eae565c/build/temp.macosx-11.0-arm64-3.9/xgboost/src/learner.cc:1115: Starting in XGBoost 1.3.0, the default evaluation metric used with the objective 'binary:logistic' was changed from 'error' to 'logloss'. Explicitly set eval_metric if you'd like to restore the old behavior.\n",
      "[CV] END ......................max_depth=3, n_estimators=500; total time= 2.7min\n"
     ]
    },
    {
     "name": "stderr",
     "output_type": "stream",
     "text": [
      "/opt/homebrew/Caskroom/miniforge/base/envs/ML1/lib/python3.9/site-packages/xgboost/sklearn.py:1224: UserWarning: The use of label encoder in XGBClassifier is deprecated and will be removed in a future release. To remove this warning, do the following: 1) Pass option use_label_encoder=False when constructing XGBClassifier object; and 2) Encode your labels (y) as integers starting with 0, i.e. 0, 1, 2, ..., [num_class - 1].\n",
      "  warnings.warn(label_encoder_deprecation_msg, UserWarning)\n"
     ]
    },
    {
     "name": "stdout",
     "output_type": "stream",
     "text": [
      "[13:12:00] WARNING: /private/var/folders/p1/fvz7cyr12yl0lf647b14byy80000gn/T/pip-install-w5n3w6k9/xgboost_a8a36401f804426fb00f941f2eae565c/build/temp.macosx-11.0-arm64-3.9/xgboost/src/learner.cc:1115: Starting in XGBoost 1.3.0, the default evaluation metric used with the objective 'binary:logistic' was changed from 'error' to 'logloss'. Explicitly set eval_metric if you'd like to restore the old behavior.\n",
      "[CV] END ......................max_depth=3, n_estimators=500; total time= 2.6min\n"
     ]
    },
    {
     "name": "stderr",
     "output_type": "stream",
     "text": [
      "/opt/homebrew/Caskroom/miniforge/base/envs/ML1/lib/python3.9/site-packages/xgboost/sklearn.py:1224: UserWarning: The use of label encoder in XGBClassifier is deprecated and will be removed in a future release. To remove this warning, do the following: 1) Pass option use_label_encoder=False when constructing XGBClassifier object; and 2) Encode your labels (y) as integers starting with 0, i.e. 0, 1, 2, ..., [num_class - 1].\n",
      "  warnings.warn(label_encoder_deprecation_msg, UserWarning)\n"
     ]
    },
    {
     "name": "stdout",
     "output_type": "stream",
     "text": [
      "[13:14:39] WARNING: /private/var/folders/p1/fvz7cyr12yl0lf647b14byy80000gn/T/pip-install-w5n3w6k9/xgboost_a8a36401f804426fb00f941f2eae565c/build/temp.macosx-11.0-arm64-3.9/xgboost/src/learner.cc:1115: Starting in XGBoost 1.3.0, the default evaluation metric used with the objective 'binary:logistic' was changed from 'error' to 'logloss'. Explicitly set eval_metric if you'd like to restore the old behavior.\n",
      "[CV] END ......................max_depth=5, n_estimators=250; total time= 1.9min\n"
     ]
    },
    {
     "name": "stderr",
     "output_type": "stream",
     "text": [
      "/opt/homebrew/Caskroom/miniforge/base/envs/ML1/lib/python3.9/site-packages/xgboost/sklearn.py:1224: UserWarning: The use of label encoder in XGBClassifier is deprecated and will be removed in a future release. To remove this warning, do the following: 1) Pass option use_label_encoder=False when constructing XGBClassifier object; and 2) Encode your labels (y) as integers starting with 0, i.e. 0, 1, 2, ..., [num_class - 1].\n",
      "  warnings.warn(label_encoder_deprecation_msg, UserWarning)\n"
     ]
    },
    {
     "name": "stdout",
     "output_type": "stream",
     "text": [
      "[13:16:31] WARNING: /private/var/folders/p1/fvz7cyr12yl0lf647b14byy80000gn/T/pip-install-w5n3w6k9/xgboost_a8a36401f804426fb00f941f2eae565c/build/temp.macosx-11.0-arm64-3.9/xgboost/src/learner.cc:1115: Starting in XGBoost 1.3.0, the default evaluation metric used with the objective 'binary:logistic' was changed from 'error' to 'logloss'. Explicitly set eval_metric if you'd like to restore the old behavior.\n",
      "[CV] END ......................max_depth=5, n_estimators=250; total time= 1.9min\n"
     ]
    },
    {
     "name": "stderr",
     "output_type": "stream",
     "text": [
      "/opt/homebrew/Caskroom/miniforge/base/envs/ML1/lib/python3.9/site-packages/xgboost/sklearn.py:1224: UserWarning: The use of label encoder in XGBClassifier is deprecated and will be removed in a future release. To remove this warning, do the following: 1) Pass option use_label_encoder=False when constructing XGBClassifier object; and 2) Encode your labels (y) as integers starting with 0, i.e. 0, 1, 2, ..., [num_class - 1].\n",
      "  warnings.warn(label_encoder_deprecation_msg, UserWarning)\n"
     ]
    },
    {
     "name": "stdout",
     "output_type": "stream",
     "text": [
      "[13:18:26] WARNING: /private/var/folders/p1/fvz7cyr12yl0lf647b14byy80000gn/T/pip-install-w5n3w6k9/xgboost_a8a36401f804426fb00f941f2eae565c/build/temp.macosx-11.0-arm64-3.9/xgboost/src/learner.cc:1115: Starting in XGBoost 1.3.0, the default evaluation metric used with the objective 'binary:logistic' was changed from 'error' to 'logloss'. Explicitly set eval_metric if you'd like to restore the old behavior.\n",
      "[CV] END ......................max_depth=5, n_estimators=500; total time= 2.8min\n"
     ]
    },
    {
     "name": "stderr",
     "output_type": "stream",
     "text": [
      "/opt/homebrew/Caskroom/miniforge/base/envs/ML1/lib/python3.9/site-packages/xgboost/sklearn.py:1224: UserWarning: The use of label encoder in XGBClassifier is deprecated and will be removed in a future release. To remove this warning, do the following: 1) Pass option use_label_encoder=False when constructing XGBClassifier object; and 2) Encode your labels (y) as integers starting with 0, i.e. 0, 1, 2, ..., [num_class - 1].\n",
      "  warnings.warn(label_encoder_deprecation_msg, UserWarning)\n"
     ]
    },
    {
     "name": "stdout",
     "output_type": "stream",
     "text": [
      "[13:21:15] WARNING: /private/var/folders/p1/fvz7cyr12yl0lf647b14byy80000gn/T/pip-install-w5n3w6k9/xgboost_a8a36401f804426fb00f941f2eae565c/build/temp.macosx-11.0-arm64-3.9/xgboost/src/learner.cc:1115: Starting in XGBoost 1.3.0, the default evaluation metric used with the objective 'binary:logistic' was changed from 'error' to 'logloss'. Explicitly set eval_metric if you'd like to restore the old behavior.\n",
      "[CV] END ......................max_depth=5, n_estimators=500; total time= 2.8min\n"
     ]
    },
    {
     "name": "stderr",
     "output_type": "stream",
     "text": [
      "/opt/homebrew/Caskroom/miniforge/base/envs/ML1/lib/python3.9/site-packages/xgboost/sklearn.py:1224: UserWarning: The use of label encoder in XGBClassifier is deprecated and will be removed in a future release. To remove this warning, do the following: 1) Pass option use_label_encoder=False when constructing XGBClassifier object; and 2) Encode your labels (y) as integers starting with 0, i.e. 0, 1, 2, ..., [num_class - 1].\n",
      "  warnings.warn(label_encoder_deprecation_msg, UserWarning)\n"
     ]
    },
    {
     "name": "stdout",
     "output_type": "stream",
     "text": [
      "[13:24:05] WARNING: /private/var/folders/p1/fvz7cyr12yl0lf647b14byy80000gn/T/pip-install-w5n3w6k9/xgboost_a8a36401f804426fb00f941f2eae565c/build/temp.macosx-11.0-arm64-3.9/xgboost/src/learner.cc:1115: Starting in XGBoost 1.3.0, the default evaluation metric used with the objective 'binary:logistic' was changed from 'error' to 'logloss'. Explicitly set eval_metric if you'd like to restore the old behavior.\n"
     ]
    },
    {
     "name": "stderr",
     "output_type": "stream",
     "text": [
      "4-fold CV:  75%|██████████████████████▌       | 3/4 [2:06:14<40:58, 2458.91s/it]/opt/homebrew/Caskroom/miniforge/base/envs/ML1/lib/python3.9/site-packages/xgboost/sklearn.py:1224: UserWarning: The use of label encoder in XGBClassifier is deprecated and will be removed in a future release. To remove this warning, do the following: 1) Pass option use_label_encoder=False when constructing XGBClassifier object; and 2) Encode your labels (y) as integers starting with 0, i.e. 0, 1, 2, ..., [num_class - 1].\n",
      "  warnings.warn(label_encoder_deprecation_msg, UserWarning)\n"
     ]
    },
    {
     "name": "stdout",
     "output_type": "stream",
     "text": [
      "Fitting 2 folds for each of 4 candidates, totalling 8 fits\n",
      "[13:28:40] WARNING: /private/var/folders/p1/fvz7cyr12yl0lf647b14byy80000gn/T/pip-install-w5n3w6k9/xgboost_a8a36401f804426fb00f941f2eae565c/build/temp.macosx-11.0-arm64-3.9/xgboost/src/learner.cc:1115: Starting in XGBoost 1.3.0, the default evaluation metric used with the objective 'binary:logistic' was changed from 'error' to 'logloss'. Explicitly set eval_metric if you'd like to restore the old behavior.\n",
      "[CV] END ......................max_depth=3, n_estimators=250; total time= 1.5min\n"
     ]
    },
    {
     "name": "stderr",
     "output_type": "stream",
     "text": [
      "/opt/homebrew/Caskroom/miniforge/base/envs/ML1/lib/python3.9/site-packages/xgboost/sklearn.py:1224: UserWarning: The use of label encoder in XGBClassifier is deprecated and will be removed in a future release. To remove this warning, do the following: 1) Pass option use_label_encoder=False when constructing XGBClassifier object; and 2) Encode your labels (y) as integers starting with 0, i.e. 0, 1, 2, ..., [num_class - 1].\n",
      "  warnings.warn(label_encoder_deprecation_msg, UserWarning)\n"
     ]
    },
    {
     "name": "stdout",
     "output_type": "stream",
     "text": [
      "[13:30:11] WARNING: /private/var/folders/p1/fvz7cyr12yl0lf647b14byy80000gn/T/pip-install-w5n3w6k9/xgboost_a8a36401f804426fb00f941f2eae565c/build/temp.macosx-11.0-arm64-3.9/xgboost/src/learner.cc:1115: Starting in XGBoost 1.3.0, the default evaluation metric used with the objective 'binary:logistic' was changed from 'error' to 'logloss'. Explicitly set eval_metric if you'd like to restore the old behavior.\n",
      "[CV] END ......................max_depth=3, n_estimators=250; total time= 1.4min\n"
     ]
    },
    {
     "name": "stderr",
     "output_type": "stream",
     "text": [
      "/opt/homebrew/Caskroom/miniforge/base/envs/ML1/lib/python3.9/site-packages/xgboost/sklearn.py:1224: UserWarning: The use of label encoder in XGBClassifier is deprecated and will be removed in a future release. To remove this warning, do the following: 1) Pass option use_label_encoder=False when constructing XGBClassifier object; and 2) Encode your labels (y) as integers starting with 0, i.e. 0, 1, 2, ..., [num_class - 1].\n",
      "  warnings.warn(label_encoder_deprecation_msg, UserWarning)\n"
     ]
    },
    {
     "name": "stdout",
     "output_type": "stream",
     "text": [
      "[13:31:37] WARNING: /private/var/folders/p1/fvz7cyr12yl0lf647b14byy80000gn/T/pip-install-w5n3w6k9/xgboost_a8a36401f804426fb00f941f2eae565c/build/temp.macosx-11.0-arm64-3.9/xgboost/src/learner.cc:1115: Starting in XGBoost 1.3.0, the default evaluation metric used with the objective 'binary:logistic' was changed from 'error' to 'logloss'. Explicitly set eval_metric if you'd like to restore the old behavior.\n",
      "[CV] END ......................max_depth=3, n_estimators=500; total time= 2.7min\n"
     ]
    },
    {
     "name": "stderr",
     "output_type": "stream",
     "text": [
      "/opt/homebrew/Caskroom/miniforge/base/envs/ML1/lib/python3.9/site-packages/xgboost/sklearn.py:1224: UserWarning: The use of label encoder in XGBClassifier is deprecated and will be removed in a future release. To remove this warning, do the following: 1) Pass option use_label_encoder=False when constructing XGBClassifier object; and 2) Encode your labels (y) as integers starting with 0, i.e. 0, 1, 2, ..., [num_class - 1].\n",
      "  warnings.warn(label_encoder_deprecation_msg, UserWarning)\n"
     ]
    },
    {
     "name": "stdout",
     "output_type": "stream",
     "text": [
      "[13:34:19] WARNING: /private/var/folders/p1/fvz7cyr12yl0lf647b14byy80000gn/T/pip-install-w5n3w6k9/xgboost_a8a36401f804426fb00f941f2eae565c/build/temp.macosx-11.0-arm64-3.9/xgboost/src/learner.cc:1115: Starting in XGBoost 1.3.0, the default evaluation metric used with the objective 'binary:logistic' was changed from 'error' to 'logloss'. Explicitly set eval_metric if you'd like to restore the old behavior.\n",
      "[CV] END ......................max_depth=3, n_estimators=500; total time= 2.7min\n"
     ]
    },
    {
     "name": "stderr",
     "output_type": "stream",
     "text": [
      "/opt/homebrew/Caskroom/miniforge/base/envs/ML1/lib/python3.9/site-packages/xgboost/sklearn.py:1224: UserWarning: The use of label encoder in XGBClassifier is deprecated and will be removed in a future release. To remove this warning, do the following: 1) Pass option use_label_encoder=False when constructing XGBClassifier object; and 2) Encode your labels (y) as integers starting with 0, i.e. 0, 1, 2, ..., [num_class - 1].\n",
      "  warnings.warn(label_encoder_deprecation_msg, UserWarning)\n"
     ]
    },
    {
     "name": "stdout",
     "output_type": "stream",
     "text": [
      "[13:37:02] WARNING: /private/var/folders/p1/fvz7cyr12yl0lf647b14byy80000gn/T/pip-install-w5n3w6k9/xgboost_a8a36401f804426fb00f941f2eae565c/build/temp.macosx-11.0-arm64-3.9/xgboost/src/learner.cc:1115: Starting in XGBoost 1.3.0, the default evaluation metric used with the objective 'binary:logistic' was changed from 'error' to 'logloss'. Explicitly set eval_metric if you'd like to restore the old behavior.\n",
      "[CV] END ......................max_depth=5, n_estimators=250; total time= 1.9min\n"
     ]
    },
    {
     "name": "stderr",
     "output_type": "stream",
     "text": [
      "/opt/homebrew/Caskroom/miniforge/base/envs/ML1/lib/python3.9/site-packages/xgboost/sklearn.py:1224: UserWarning: The use of label encoder in XGBClassifier is deprecated and will be removed in a future release. To remove this warning, do the following: 1) Pass option use_label_encoder=False when constructing XGBClassifier object; and 2) Encode your labels (y) as integers starting with 0, i.e. 0, 1, 2, ..., [num_class - 1].\n",
      "  warnings.warn(label_encoder_deprecation_msg, UserWarning)\n"
     ]
    },
    {
     "name": "stdout",
     "output_type": "stream",
     "text": [
      "[13:38:54] WARNING: /private/var/folders/p1/fvz7cyr12yl0lf647b14byy80000gn/T/pip-install-w5n3w6k9/xgboost_a8a36401f804426fb00f941f2eae565c/build/temp.macosx-11.0-arm64-3.9/xgboost/src/learner.cc:1115: Starting in XGBoost 1.3.0, the default evaluation metric used with the objective 'binary:logistic' was changed from 'error' to 'logloss'. Explicitly set eval_metric if you'd like to restore the old behavior.\n",
      "[CV] END ......................max_depth=5, n_estimators=250; total time= 1.9min\n"
     ]
    },
    {
     "name": "stderr",
     "output_type": "stream",
     "text": [
      "/opt/homebrew/Caskroom/miniforge/base/envs/ML1/lib/python3.9/site-packages/xgboost/sklearn.py:1224: UserWarning: The use of label encoder in XGBClassifier is deprecated and will be removed in a future release. To remove this warning, do the following: 1) Pass option use_label_encoder=False when constructing XGBClassifier object; and 2) Encode your labels (y) as integers starting with 0, i.e. 0, 1, 2, ..., [num_class - 1].\n",
      "  warnings.warn(label_encoder_deprecation_msg, UserWarning)\n"
     ]
    },
    {
     "name": "stdout",
     "output_type": "stream",
     "text": [
      "[13:40:49] WARNING: /private/var/folders/p1/fvz7cyr12yl0lf647b14byy80000gn/T/pip-install-w5n3w6k9/xgboost_a8a36401f804426fb00f941f2eae565c/build/temp.macosx-11.0-arm64-3.9/xgboost/src/learner.cc:1115: Starting in XGBoost 1.3.0, the default evaluation metric used with the objective 'binary:logistic' was changed from 'error' to 'logloss'. Explicitly set eval_metric if you'd like to restore the old behavior.\n",
      "[CV] END ......................max_depth=5, n_estimators=500; total time= 2.8min\n"
     ]
    },
    {
     "name": "stderr",
     "output_type": "stream",
     "text": [
      "/opt/homebrew/Caskroom/miniforge/base/envs/ML1/lib/python3.9/site-packages/xgboost/sklearn.py:1224: UserWarning: The use of label encoder in XGBClassifier is deprecated and will be removed in a future release. To remove this warning, do the following: 1) Pass option use_label_encoder=False when constructing XGBClassifier object; and 2) Encode your labels (y) as integers starting with 0, i.e. 0, 1, 2, ..., [num_class - 1].\n",
      "  warnings.warn(label_encoder_deprecation_msg, UserWarning)\n"
     ]
    },
    {
     "name": "stdout",
     "output_type": "stream",
     "text": [
      "[13:43:37] WARNING: /private/var/folders/p1/fvz7cyr12yl0lf647b14byy80000gn/T/pip-install-w5n3w6k9/xgboost_a8a36401f804426fb00f941f2eae565c/build/temp.macosx-11.0-arm64-3.9/xgboost/src/learner.cc:1115: Starting in XGBoost 1.3.0, the default evaluation metric used with the objective 'binary:logistic' was changed from 'error' to 'logloss'. Explicitly set eval_metric if you'd like to restore the old behavior.\n",
      "[CV] END ......................max_depth=5, n_estimators=500; total time= 2.9min\n"
     ]
    },
    {
     "name": "stderr",
     "output_type": "stream",
     "text": [
      "/opt/homebrew/Caskroom/miniforge/base/envs/ML1/lib/python3.9/site-packages/xgboost/sklearn.py:1224: UserWarning: The use of label encoder in XGBClassifier is deprecated and will be removed in a future release. To remove this warning, do the following: 1) Pass option use_label_encoder=False when constructing XGBClassifier object; and 2) Encode your labels (y) as integers starting with 0, i.e. 0, 1, 2, ..., [num_class - 1].\n",
      "  warnings.warn(label_encoder_deprecation_msg, UserWarning)\n"
     ]
    },
    {
     "name": "stdout",
     "output_type": "stream",
     "text": [
      "[13:46:32] WARNING: /private/var/folders/p1/fvz7cyr12yl0lf647b14byy80000gn/T/pip-install-w5n3w6k9/xgboost_a8a36401f804426fb00f941f2eae565c/build/temp.macosx-11.0-arm64-3.9/xgboost/src/learner.cc:1115: Starting in XGBoost 1.3.0, the default evaluation metric used with the objective 'binary:logistic' was changed from 'error' to 'logloss'. Explicitly set eval_metric if you'd like to restore the old behavior.\n"
     ]
    },
    {
     "name": "stderr",
     "output_type": "stream",
     "text": [
      "4-fold CV: 100%|██████████████████████████████| 4/4 [2:31:50<00:00, 2277.58s/it]\n"
     ]
    }
   ],
   "source": [
    "probabilities = np.zeros((features.shape[0], 2))\n",
    "preds = np.zeros(features.shape[0])\n",
    "bar = tqdm(total=4, desc='4-fold CV')\n",
    "\n",
    "# define outer loop\n",
    "for train_outer, test_outer in outer_cv.split(features, labels):\n",
    "    X_train, X_test = features[train_outer], features[test_outer]\n",
    "    y_train, y_test = labels[train_outer], labels[test_outer]\n",
    "\n",
    "    # define inner loop (in GridSearchCV)\n",
    "    tuned_xgb = GridSearchCV(xgb, cv=inner_cv, param_grid=params_xgb, scoring='f1')\n",
    "    tuned_xgb.fit(X_train, y_train)\n",
    "    print(tuned_xgb.best_params_)\n",
    "\n",
    "    # make predictions for test set (outer loop)\n",
    "    y_probs = tuned_xgb.predict_proba(X_test)\n",
    "    y_preds = tuned_xgb.predict(X_test)\n",
    "\n",
    "    # store predictions at the corresponding locations\n",
    "    for i, index in enumerate(test_outer):\n",
    "        probabilities[index,:] = y_probs[i,:]\n",
    "        preds[index] = y_preds[i]\n",
    "        \n",
    "    bar.update(1)\n",
    "bar.close()"
   ]
  },
  {
   "cell_type": "code",
   "execution_count": 31,
   "id": "79c4988f",
   "metadata": {},
   "outputs": [
    {
     "name": "stdout",
     "output_type": "stream",
     "text": [
      "F1: 0.8893768297783354\n",
      "P: 0.8727683152062384\n",
      "ROC AUC: 0.9935812468720862\n"
     ]
    }
   ],
   "source": [
    "print('F1:', f1_score(labels, preds))\n",
    "print('P:', precision_score(labels, preds))\n",
    "print('ROC AUC:', roc_auc_score(labels, probabilities[:,1]))"
   ]
  },
  {
   "cell_type": "code",
   "execution_count": 28,
   "id": "ead3f9f4",
   "metadata": {},
   "outputs": [],
   "source": [
    "# store predictions for further use (PR curves & PRAUC)\n",
    "xgb_results = pd.concat([pd.DataFrame(preds, columns=['Predictions']), \n",
    "                        pd.DataFrame(probabilities[:,1], columns=['Score_pos'])], axis=1)\n",
    "xgb_results.to_csv(results_dir+'/xgboost_4foldCV_results.csv', index=False)"
   ]
  },
  {
   "cell_type": "code",
   "execution_count": 32,
   "id": "940a7f2c",
   "metadata": {},
   "outputs": [
    {
     "name": "stderr",
     "output_type": "stream",
     "text": [
      "/opt/homebrew/Caskroom/miniforge/base/envs/ML1/lib/python3.9/site-packages/xgboost/sklearn.py:1224: UserWarning: The use of label encoder in XGBClassifier is deprecated and will be removed in a future release. To remove this warning, do the following: 1) Pass option use_label_encoder=False when constructing XGBClassifier object; and 2) Encode your labels (y) as integers starting with 0, i.e. 0, 1, 2, ..., [num_class - 1].\n",
      "  warnings.warn(label_encoder_deprecation_msg, UserWarning)\n"
     ]
    },
    {
     "name": "stdout",
     "output_type": "stream",
     "text": [
      "[14:21:39] WARNING: /private/var/folders/p1/fvz7cyr12yl0lf647b14byy80000gn/T/pip-install-w5n3w6k9/xgboost_a8a36401f804426fb00f941f2eae565c/build/temp.macosx-11.0-arm64-3.9/xgboost/src/learner.cc:1115: Starting in XGBoost 1.3.0, the default evaluation metric used with the objective 'binary:logistic' was changed from 'error' to 'logloss'. Explicitly set eval_metric if you'd like to restore the old behavior.\n"
     ]
    },
    {
     "data": {
      "text/plain": [
       "XGBClassifier(base_score=0.5, booster='gbtree', colsample_bylevel=1,\n",
       "              colsample_bynode=1, colsample_bytree=1, enable_categorical=False,\n",
       "              gamma=0, gpu_id=-1, importance_type=None,\n",
       "              interaction_constraints='', learning_rate=0.300000012,\n",
       "              max_delta_step=0, max_depth=5, min_child_weight=1, missing=nan,\n",
       "              monotone_constraints='()', n_estimators=500, n_jobs=6,\n",
       "              num_parallel_tree=1, predictor='auto', random_state=0,\n",
       "              reg_alpha=0, reg_lambda=1, scale_pos_weight=10.0, subsample=1,\n",
       "              tree_method='exact', validate_parameters=1, verbosity=None)"
      ]
     },
     "execution_count": 32,
     "metadata": {},
     "output_type": "execute_result"
    }
   ],
   "source": [
    "# train model with best params on all data\n",
    "best_params = tuned_xgb.best_params_\n",
    "xgb_all = XGBClassifier(scale_pos_weight=1/imbalance, n_jobs=cpus)\n",
    "xgb_all = xgb_all.set_params(**best_params)\n",
    "xgb_all.fit(features, labels)\n",
    "\n",
    "# save model for later benchmark with phANNs\n",
    "xgb_all.save_model(results_dir+'/RBPdetect_xgb_model.json')"
   ]
  },
  {
   "cell_type": "markdown",
   "id": "cff9ca16",
   "metadata": {},
   "source": [
    "## 4. Benchmarking domain-based approach, ML-based approach and PhANNs"
   ]
  },
  {
   "cell_type": "code",
   "execution_count": 3,
   "id": "5fd7b70c",
   "metadata": {},
   "outputs": [],
   "source": [
    "def phanns_predict(sequences_df, phanns_dir, results_dir):\n",
    "    \"\"\"\n",
    "    This function predicts the class of a bunch of sequences using PhANNs models (cfr. Cantu et al., 2020)\n",
    "    \n",
    "    Input:\n",
    "    - sequences_df: a dataframe with protein sequences (ProteinSeq) and corresponding ids (protein_id)\n",
    "        to make predictions for.\n",
    "    - phanns_dir: the directory of the web_server module of the PhANNs repository\n",
    "    \"\"\"\n",
    "    \n",
    "    # save all the sequences as separate fastas in the /uploads directory of PhANNs\n",
    "    #bar = tqdm(total=sequences_df.shape[0], desc='Running PhANNs...')\n",
    "    for i, sequence in enumerate(sequences_df['ProteinSeq']):\n",
    "        # write FASTA file in directory\n",
    "        this_id = sequences_df['protein_id'][i]\n",
    "        fasta = open(phanns_dir+'/uploads/'+this_id+'.fasta', 'w')\n",
    "        fasta.write('>'+this_id+'\\n'+sequence+'\\n')\n",
    "        fasta.close()\n",
    "    \n",
    "    # run PhANNs predictions\n",
    "    cd_str = 'cd ' + phanns_dir # change directory\n",
    "    raw_str = 'python run_server_once.py'\n",
    "    command = cd_str+'; '+ raw_str\n",
    "    process = subprocess.Popen(command, shell=True, stdout=subprocess.PIPE, stderr=subprocess.STDOUT)\n",
    "    stdout, stderr = process.communicate()\n",
    "        \n",
    "        # delete FASTA file\n",
    "        #os.remove(phanns_dir+'/uploads/'+this_id+'.fasta')\n",
    "        \n",
    "        # update bar\n",
    "        #bar.update(1)\n",
    "    #bar.close()\n",
    "    \n",
    "    # save results to a dataframe for later comparisons\n",
    "    print('Getting results...')\n",
    "    phanns_preds = []; phanns_score = []\n",
    "    for this_id in sequences_df['protein_id']:\n",
    "        this_result = pd.read_csv(phanns_dir+'/csv_saves/'+this_id+'.csv', index_col=0)\n",
    "        this_class = this_result.idxmax(axis=1)[0]\n",
    "        if this_class == 'Tail fiber':\n",
    "            phanns_preds.append(1)\n",
    "        else:\n",
    "            phanns_preds.append(0)\n",
    "        phanns_score.append(this_result['Confidence'][0])\n",
    "        \n",
    "    phanns_df = pd.DataFrame({'preds': phanns_preds, 'score': phanns_score})\n",
    "    phanns_df.to_csv(results_dir+'/phanns_predictions.csv', index=False)\n",
    "    print('Done.')\n",
    "    \n",
    "    return"
   ]
  },
  {
   "cell_type": "code",
   "execution_count": 4,
   "id": "ad336582",
   "metadata": {},
   "outputs": [
    {
     "name": "stdout",
     "output_type": "stream",
     "text": [
      "Check? True\n",
      "Check? True\n"
     ]
    }
   ],
   "source": [
    "# load data and select 2021 (oct-nov-dec) data as test set\n",
    "rbps_em = pd.read_csv(data_dir+'/annotated_RBPs_2022-01_embeddings.csv')\n",
    "nonrbps_em = pd.read_csv(data_dir+'/annotated_nonRBPs_2022-01_embeddings.csv')\n",
    "months = ['OCT-2021', 'NOV-2021', 'DEC-2021']\n",
    "to_delete_rbps = [i for i, date in enumerate(rbps_em['RecordDate']) if all(x not in date for x in months)]\n",
    "rbps_2021 = rbps_em.drop(to_delete_rbps)\n",
    "rbps_2021 = rbps_2021.reset_index(drop=True)\n",
    "to_delete_nonrbps = [i for i, date in enumerate(nonrbps_em['RecordDate']) if all(x not in date for x in months)]\n",
    "nonrbps_2021 = nonrbps_em.drop(to_delete_nonrbps)\n",
    "nonrbps_2021 = nonrbps_2021.reset_index(drop=True)\n",
    "testdata = pd.concat([rbps_2021, nonrbps_2021], axis=0)\n",
    "print('Check?', testdata.shape[0]==(rbps_2021.shape[0]+nonrbps_2021.shape[0]))\n",
    "\n",
    "# features for our XGBoost model\n",
    "testfeatures = np.asarray(testdata.iloc[:, 2:])\n",
    "testlabels = np.asarray([1]*rbps_2021.shape[0] + [0]*nonrbps_2021.shape[0])\n",
    "\n",
    "# sequence DF for PhANNs\n",
    "rbps = pd.read_csv(data_dir+'/annotated_RBPs_2022-01.csv')\n",
    "nonrbps = pd.read_csv(data_dir+'/annotated_nonRBPs_2022-01.csv')\n",
    "rbps_2021 = rbps.drop(to_delete_rbps)\n",
    "nonrbps_2021_ids = list(nonrbps_2021['protein_id'])\n",
    "to_delete_nonrbps = [i for i, pid in enumerate(nonrbps['protein_id']) if pid not in nonrbps_2021_ids]\n",
    "nonrbps_2021 = nonrbps.drop(to_delete_nonrbps)\n",
    "testdata_df = pd.concat([rbps_2021, nonrbps_2021], axis=0)\n",
    "testdata_df = testdata_df.reset_index(drop=True)\n",
    "print('Check?', testdata.shape[0]==testdata_df.shape[0])"
   ]
  },
  {
   "cell_type": "markdown",
   "id": "09e20200",
   "metadata": {},
   "source": [
    "#### Predictions with protein domains"
   ]
  },
  {
   "cell_type": "code",
   "execution_count": 5,
   "id": "a7b9e439",
   "metadata": {},
   "outputs": [],
   "source": [
    "N_blocks = ['Phage_T7_tail', 'Tail_spike_N', 'Prophage_tail', 'BppU_N', 'Mtd_N', \n",
    "           'Head_binding', 'DUF3751', 'End_N_terminal', 'phage_tail_N', 'Prophage_tailD1', \n",
    "           'DUF2163', 'Phage_fiber_2', 'phage_RBP_N1', 'phage_RBP_N4', 'phage_RBP_N26', \n",
    "           'phage_RBP_N28', 'phage_RBP_N34', 'phage_RBP_N45']\n",
    "C_blocks = ['Lipase_GDSL_2', 'Pectate_lyase_3', 'gp37_C', 'Beta_helix', 'Gp58', 'End_beta_propel', \n",
    "            'End_tail_spike', 'End_beta_barrel', 'PhageP22-tail', 'Phage_spike_2', \n",
    "            'gp12-short_mid', 'Collar', 'phage_RBP_C2', 'phage_RBP_C10', 'phage_RBP_C24',\n",
    "            'phage_RBP_C43', 'phage_RBP_C59', 'phage_RBP_C60', 'phage_RBP_C62', 'phage_RBP_C67',\n",
    "            'phage_RBP_C79', 'phage_RBP_C97', 'phage_RBP_C111', 'phage_RBP_C115', 'phage_RBP_C120'\n",
    "            'phage_RBP_C126', 'phage_RBP_C138', 'phage_RBP_C43', 'phage_RBP_C157', 'phage_RBP_C164', \n",
    "            'phage_RBP_C175', 'phage_RBP_C180', 'phage_RBP_C205', 'phage_RBP_C217', 'phage_RBP_C220', \n",
    "            'phage_RBP_C221', 'phage_RBP_C223', 'phage_RBP_C234', 'phage_RBP_C235', 'phage_RBP_C237',\n",
    "            'phage_RBP_C249', 'phage_RBP_C259', 'phage_RBP_C267', 'phage_RBP_C271', 'phage_RBP_C277',\n",
    "            'phage_RBP_C281', 'phage_RBP_C292', 'phage_RBP_C293', 'phage_RBP_C296', 'phage_RBP_C300', \n",
    "            'phage_RBP_C301', 'phage_RBP_C319', 'phage_RBP_C320', 'phage_RBP_C321', 'phage_RBP_C326', \n",
    "            'phage_RBP_C331', 'phage_RBP_C337', 'phage_RBP_C338', 'phage_RBP_C340', 'Peptidase_S74', \n",
    "            'Phage_fiber_C', 'S_tail_recep_bd', 'CBM_4_9', 'DUF1983', 'DUF3672']"
   ]
  },
  {
   "cell_type": "code",
   "execution_count": 6,
   "id": "013674bf",
   "metadata": {},
   "outputs": [
    {
     "data": {
      "application/vnd.jupyter.widget-view+json": {
       "model_id": "d5cfc01214314e5e91c59c06e7b14879",
       "version_major": 2,
       "version_minor": 0
      },
      "text/plain": [
       "Scanning the genes:   0%|          | 0/100 [00:00<?, ?it/s]"
      ]
     },
     "metadata": {},
     "output_type": "display_data"
    }
   ],
   "source": [
    "detected = rbpu.RBPdetect_domains(hmm_path, pfam_file, testdata_df['DNASeq'], testdata_df['protein_id'], \n",
    "                                  N_blocks=N_blocks, C_blocks=C_blocks)"
   ]
  },
  {
   "cell_type": "code",
   "execution_count": null,
   "id": "8dee4765",
   "metadata": {},
   "outputs": [],
   "source": [
    "domain_preds = []\n",
    "for pid in testdata_df['protein_id']:\n",
    "    if pid in detected['identifier']:\n",
    "        domain_preds.append(1)\n",
    "    else:\n",
    "        domain_preds.append(0)\n",
    "domain_results = pd.DataFrame(domain_preds, columns=['preds'])\n",
    "domain_results.to_csv(results_dir+'/domains_test_predictions.csv', index=False)"
   ]
  },
  {
   "cell_type": "markdown",
   "id": "df9bd0be",
   "metadata": {},
   "source": [
    "#### Predictions with XGBoost"
   ]
  },
  {
   "cell_type": "code",
   "execution_count": null,
   "id": "bb8a5b2f",
   "metadata": {},
   "outputs": [],
   "source": [
    "# load model again\n",
    "xgb_saved = XGBClassifier()\n",
    "xgb_saved.load_model(results_dir+'/RBPdetect_xgb_model.json')\n",
    "\n",
    "# make predictions with the XGBoost model\n",
    "score_xgb = xgb_saved.predict_proba(testfeatures)[:,1]\n",
    "preds_xgb = (score_xgb > 0.5)*1\n",
    "\n",
    "# save predictions and scores\n",
    "xgb_results = pd.concat([pd.DataFrame(preds_xgb, columns=['preds']), \n",
    "                        pd.DataFrame(score_xgb, columns=['score'])], axis=1)\n",
    "xgb_results.to_csv(results_dir+'/xgboost_test_predictions.csv', index=False)"
   ]
  },
  {
   "cell_type": "markdown",
   "id": "051ae450",
   "metadata": {},
   "source": [
    "#### Predictions with PhANNs\n",
    "\n",
    "It is estimated that this will run for about a day (24 hours), depending on your computer specs."
   ]
  },
  {
   "cell_type": "code",
   "execution_count": 29,
   "id": "f907dd4c",
   "metadata": {},
   "outputs": [
    {
     "data": {
      "application/vnd.jupyter.widget-view+json": {
       "model_id": "ecc6f8ea0f334f1fbe9a9992f31ff99c",
       "version_major": 2,
       "version_minor": 0
      },
      "text/plain": [
       "  0%|          | 0/6 [00:00<?, ?it/s]"
      ]
     },
     "metadata": {},
     "output_type": "display_data"
    },
    {
     "name": "stdout",
     "output_type": "stream",
     "text": [
      "5000\n",
      "5000\n",
      "5000\n",
      "5000\n",
      "5000\n",
      "1725\n"
     ]
    }
   ],
   "source": [
    "for i in tqdm(range(0, testdata_df.shape[0], 5000)):\n",
    "    end = min(5000, testdata_df.shape[0]-i)\n",
    "    phanns_predict(testdata_df.iloc[:,i:i+end], phanns_dir, data_dir)"
   ]
  },
  {
   "cell_type": "markdown",
   "id": "2007759a",
   "metadata": {},
   "source": [
    "#### Clustering PhANNs RBPs with MillardLab RBPs"
   ]
  },
  {
   "cell_type": "code",
   "execution_count": 43,
   "id": "a6421222",
   "metadata": {},
   "outputs": [],
   "source": [
    "# write big fasta file\n",
    "phanns_millard_RBPs = open(data_dir+'/phanns_millard_RBPs.fasta', 'w')\n",
    "rbps = pd.read_csv(data_dir+'annotated_RBPs.csv', sep='\\t')\n",
    "for i, rbp in enumerate(rbps['ProteinSeq']):\n",
    "    org_name = rbps['Organism'][i]\n",
    "    protein_name = rbps['ProteinName'][i]\n",
    "    total_name = org_name+'_'+protein_name\n",
    "    phanns_millard_RBPs.write('>MILLARD_'+total_name.replace(' ', '')+'\\n'+rbp+'\\n')\n",
    "\n",
    "tf_fasta = data_dir+'/phanns/curatedDB/tail_fiber.fasta'\n",
    "for i, record in enumerate(SeqIO.parse(tf_fasta, 'fasta')):\n",
    "    descr = record.description.replace(' ', '')\n",
    "    phanns_millard_RBPs.write('>PHANNS_'+descr+'\\n'+str(record.seq)+'\\n')\n",
    "    \n",
    "phanns_millard_RBPs.close()"
   ]
  },
  {
   "cell_type": "code",
   "execution_count": 44,
   "id": "72e1e0c2",
   "metadata": {},
   "outputs": [],
   "source": [
    "import subprocess\n",
    "cdpath = '/Users/dimi/cd-hit-v4.8.1-2019-0228'\n",
    "def cdhit_python(cdhit_path, input_file, output_file, c=0.50, n=3):\n",
    "    \"\"\"\n",
    "    This function executes CD-HIT clustering commands from within Python. To install\n",
    "    CD-HIT, do so via conda: conda install -c bioconda cd-hit. By default, CD-HIT\n",
    "    works via a global alignment approach, which is good for our application as\n",
    "    we cut the sequences to 'one unknown domain' beforehand.\n",
    "    \n",
    "    Input:\n",
    "        - cdhit_path: path to CD-HIT software\n",
    "        - input_file: FASTA file with protein sequences\n",
    "        - output file: path to output (will be one FASTA file and one .clstr file)\n",
    "        - c: threshold on identity for clustering\n",
    "        - n: word length (3 for thresholds between 0.5 and 0.6)\n",
    "    \"\"\"\n",
    "    \n",
    "    cd_str = 'cd ' + cdhit_path # change directory\n",
    "    raw_str = './cd-hit -i ' + input_file + ' -o ' + output_file + ' -c ' + str(c) + ' -n ' + str(n) + ' -d 0'\n",
    "    command = cd_str+'; '+ raw_str\n",
    "    #cd_process = subprocess.Popen(cd_str, shell=True, stdout=subprocess.PIPE, stderr=subprocess.STDOUT)\n",
    "    #cd_out, cd_err = cd_process.communicate()\n",
    "    process = subprocess.Popen(command, shell=True, stdout=subprocess.PIPE, stderr=subprocess.STDOUT)\n",
    "    stdout, stderr = process.communicate()\n",
    "    \n",
    "    return stdout, stderr"
   ]
  },
  {
   "cell_type": "code",
   "execution_count": 45,
   "id": "b66c0a2e",
   "metadata": {},
   "outputs": [],
   "source": [
    "out, err = cdhit_python(cdpath, data_dir+'/phanns_millard_RBPs.fasta', results_dir+'/phanns_millard_clusters')"
   ]
  },
  {
   "cell_type": "markdown",
   "id": "16b3f947",
   "metadata": {},
   "source": [
    "## 3. RBP-per-phage approach\n",
    "\n",
    "Here, we implement a slightly informed approach: namely that each phage by default should have at least one RBP.\n",
    "\n",
    "1. We adjust the random sampling approach: looping over each phage genome ID, we select its annotated RBP and sample x non-RBPs from the same genome at random. Untill all genome IDs are looped over.\n",
    "2. We do a grouped K-fold cross-validation in which each group consists of the proteins of one phage genome. That way we can use it in the test set to make informed predictions.\n",
    "3. To make informed predictions, we score each protein of a phage genome individually, and then adjust these scores based on the fact that each phage should contain at least one RBP. In other words, the highest score will be predicted as the RBP by default (and in addition, any score above 0.5)\n",
    "4. These informed predictions are then merged across the test set and performance is computed as usual.\n",
    "\n",
    "This is a different way of making predictions and evaluating then before. Before, we simply assessed how well the model can discriminate between RBPs and non-RBPs. Here, we assess how well the model can identify one or more RBPs in a phage genome (given that every genome has at least one RBP)."
   ]
  },
  {
   "cell_type": "code",
   "execution_count": 52,
   "id": "bae660a8",
   "metadata": {},
   "outputs": [],
   "source": [
    "# Sample per genome\n",
    "imbalance_factor = 10\n",
    "training_frame = {'NCBI_id': [], 'Accession': [], 'ProteinSeq': [], 'Label': []}\n",
    "for i, phage_id in enumerate(rbps['Accession']):\n",
    "    nonrbps_idx = list(nonrbps.index[nonrbps['Accession'] == phage_id])\n",
    "    if (len(nonrbps_idx) > imbalance_factor) and (phage_id != '-'):\n",
    "        training_frame['NCBI_id'].append(rbps['NCBI_id'][i])\n",
    "        training_frame['Accession'].append(phage_id)\n",
    "        training_frame['ProteinSeq'].append(rbps['ProteinSeq'][i])\n",
    "        training_frame['Label'].append(1)\n",
    "        nonrbps_sub = sample(nonrbps_idx, imbalance_factor)\n",
    "        for sub in nonrbps_sub:\n",
    "            training_frame['NCBI_id'].append(nonrbps['NCBI_id'].iloc[sub])\n",
    "            training_frame['Accession'].append(phage_id)\n",
    "            training_frame['ProteinSeq'].append(nonrbps['ProteinSeq'].iloc[sub])\n",
    "            training_frame['Label'].append(0)"
   ]
  },
  {
   "cell_type": "code",
   "execution_count": 58,
   "id": "f60e4c24",
   "metadata": {},
   "outputs": [],
   "source": [
    "# save to dataframe to compute embeddings\n",
    "pd.DataFrame(training_frame).to_csv(data_dir+'annotated_proteins_per_phage.csv', index=False)"
   ]
  },
  {
   "cell_type": "markdown",
   "id": "8ceb8fbe",
   "metadata": {},
   "source": [
    "## Legacy code"
   ]
  },
  {
   "cell_type": "raw",
   "id": "40a92673",
   "metadata": {},
   "source": [
    "# make predictions for phANNs data (embeddings)\n",
    "labels_phanns = []\n",
    "preds_phanns = []\n",
    "probs_phanns = []\n",
    "\n",
    "for i in range(1, 13): # loop over all data parts\n",
    "    print('starting part ', i)\n",
    "    name = 'phanns_embeddings_part'+str(i)+'.csv'\n",
    "    data = pd.read_csv(data_dir+'/phanns/'+name)\n",
    "    labels_phanns = labels_phanns + list(data.iloc[:,-1])\n",
    "    embeddings = data.iloc[:,1:-1]\n",
    "    print(embeddings.shape)\n",
    "    probs_pos_iteration = xgb_saved.predict_proba(embeddings)[:,1]\n",
    "    preds_iteration = (probs_pos_iteration > 0.5)*1\n",
    "\n",
    "    preds_phanns = preds_phanns + list(preds_iteration)\n",
    "    probs_phanns = probs_phanns + list(probs_pos_iteration)\n",
    "    \n",
    "# save preds and probs for later use\n",
    "embeddings_df = pd.concat([pd.DataFrame(labels_phanns, columns=['Label']), pd.DataFrame(preds_phanns, columns=['Prediction']), pd.DataFrame(probs_phanns, columns=['Probability+'])], axis=1)\n",
    "\n",
    "# print scores\n",
    "print('F1:', f1_score(labels_phanns, preds_phanns))\n",
    "print('P:', precision_score(labels_phanns, preds_phanns))\n",
    "print('ROC AUC:', roc_auc_score(labels_phanns, probs_phanns))"
   ]
  },
  {
   "cell_type": "raw",
   "id": "6bd6b34c",
   "metadata": {},
   "source": [
    "def genbank_collection(MillardLab_tsv, MillardLab_genbank, directory, species_filter=''):\n",
    "    \"\"\"\n",
    "    This function loops over the filtered and unfiltered phage genome data of MillardLab to construct one or multiple\n",
    "    genbank files of those genomes for further analysis.\n",
    "    \n",
    "    Input:\n",
    "    - MillardLab_tsv: handle (string) to the filtered tsv file of MillardLab phage genomes\n",
    "    - MillardLab_genbank: handle (string) to the unfiltered phage genomes downloaded from NCBI by MillardLab\n",
    "    - species_filter (optional): string of which species to filter for (will be searched for in 'Description')\n",
    "    \n",
    "    Output: One or multiple genbank files of relevant records.\n",
    "    \"\"\"\n",
    "    tsv_data = pd.read_csv(MillardLab_tsv, sep='\\t')\n",
    "    records = SeqIO.parse(MillardLab_genbank, 'gb')\n",
    "    stop_iter = 0\n",
    "    genbank_file = open(directory+'MillardLab_genbank_filtered.txt', 'w')\n",
    "    \n",
    "    while stop_iter >= 0:\n",
    "        try:\n",
    "            record = next(records)\n",
    "            if record.name in tsv_data['Accession']:\n",
    "                SeqIO.write(record, genbank_file, 'genbank')\n",
    "            if stop_iter%1000 == 0:\n",
    "                print('iteration:', stop_iter)\n",
    "        except StopIteration:\n",
    "            stop_iter = -1\n",
    "        except:\n",
    "            pass\n",
    "    genbank_file.close()\n",
    "        \n",
    "    if species_filter != '':\n",
    "        species_genbank_file = open(directory+'MillardLab_genbank_filtered_'+species_filter+'.txt', 'w')\n",
    "        for record in SeqIO.parse(directory+'MillardLab_genbank_filtered.txt', 'gb'):\n",
    "            if species_filter in record.description:\n",
    "                SeqIO.write(record, species_genbank_file, 'genbank')\n",
    "    species_genbank_file.close()\n",
    "                \n",
    "    return"
   ]
  },
  {
   "cell_type": "raw",
   "id": "e9078e6f",
   "metadata": {},
   "source": [
    "# collect Klebsiella accessions from MillardLab genome data (tsv data file)\n",
    "species_filter = 'Klebsiella'\n",
    "tsv_handle = data_dir+'MillardLab_PhageGenomes_Oct2021_data.tsv'\n",
    "genbank_handle = data_dir+'MillardLab_PhageGenomes_Oct2021_unfiltered.txt'\n",
    "tsv_data = pd.read_csv(tsv_handle, sep='\\t')\n",
    "families = ['Ackermannviridae', 'Autographiviridae', 'Demerecviridae', 'Drexlerviridae', 'Myoviridae', 'Podoviridae',\n",
    "           'Schitoviridae', 'Siphoviridae', 'Unclassified']\n",
    "filtered_all = {}\n",
    "for fam in families:\n",
    "    filtered = []\n",
    "    for i, desc in enumerate(tsv_data['Description']):\n",
    "        if (species_filter in desc) and (tsv_data['Family'][i] == fam):\n",
    "            filtered.append(tsv_data['Accession'][i])\n",
    "    filtered_all[fam] = filtered"
   ]
  },
  {
   "cell_type": "raw",
   "id": "5bb464f9",
   "metadata": {},
   "source": [
    "# construct Klebsiella genbank files separated by family\n",
    "for fam in families:\n",
    "    print('Busy with family:', fam)\n",
    "    stop_iter = 0\n",
    "    records = SeqIO.parse(genbank_handle, 'gb')\n",
    "    gb_file = open(results_dir+species_filter+fam+'.txt', 'w')\n",
    "    while stop_iter >= 0:\n",
    "        try:\n",
    "            record = next(records)\n",
    "            if record.name in filtered_all[fam]:\n",
    "                SeqIO.write(record, gb_file, 'genbank')\n",
    "            stop_iter += 1\n",
    "            if stop_iter%1000 == 0:\n",
    "                print('iteration:', stop_iter)\n",
    "        except StopIteration:\n",
    "            stop_iter = -1\n",
    "        except:\n",
    "            pass\n",
    "    gb_file.close()"
   ]
  },
  {
   "cell_type": "raw",
   "id": "ace5123e",
   "metadata": {},
   "source": [
    "# construct corresponding xlsx files per family\n",
    "for fam in families:\n",
    "    print('Busy with family:', fam)\n",
    "    stop_iter = 0\n",
    "    records = SeqIO.parse(genbank_handle, 'gb')\n",
    "    fam_dict = {'Accession':[], 'Name':[], 'Host':[], 'Taxonomy':[], 'Genome_size':[], 'Submission_date':[]}\n",
    "    \n",
    "    while stop_iter >= 0:\n",
    "        try:\n",
    "            record = next(records)\n",
    "            if record.name in filtered_all[fam]:\n",
    "                \n",
    "                # append the necessary information\n",
    "                fam_dict['Accession'].append(record.name)\n",
    "                fam_dict['Name'].append(record.annotations['organism'])\n",
    "                if 'host' in record.features[0].qualifiers:\n",
    "                    host = record.features[0].qualifiers['host'][0]\n",
    "                elif 'lab_host' in record.features[0].qualifiers:\n",
    "                    host = record.features[0].qualifiers['lab_host'][0]\n",
    "                else:\n",
    "                    host = '-'\n",
    "                fam_dict['Host'].append(host)\n",
    "                fam_dict['Taxonomy'].append(record.annotations['taxonomy'][-1])\n",
    "                fam_dict['Genome_size'].append(len(str(record.seq)))\n",
    "                fam_dict['Submission_date'].append(record.annotations['date'])\n",
    "                \n",
    "            stop_iter += 1\n",
    "            if stop_iter%1000 == 0:\n",
    "                print('iteration:', stop_iter)\n",
    "        except StopIteration:\n",
    "            stop_iter = -1\n",
    "        except:\n",
    "            pass\n",
    "    pd.DataFrame(fam_dict).to_excel(results_dir+species_filter+fam+'.xlsx')"
   ]
  },
  {
   "cell_type": "raw",
   "id": "01fe5ae1",
   "metadata": {},
   "source": [
    "# train one-class models on high imbalance with reduced features\n",
    "nonrbp_embeddings_df_big = pd.read_csv(data_dir+'annotated_nonRBPs_embeddings30.csv')\n",
    "nonrbp_embed_big = np.asarray(nonrbp_embeddings_df_big.iloc[:, 2:])\n",
    "features_big = np.concatenate((rbp_embed, nonrbp_embed_big))\n",
    "labels_big = np.asarray([1]*rbp_embed.shape[0] + [0]*nonrbp_embed_big.shape[0])\n",
    "print('Shape: ', features_big.shape, 'Check?', features_big.shape[0]==labels_big.shape[0])\n",
    "\n",
    "imbalance = rbp_embed.shape[0]/nonrbp_embed_big.shape[0]\n",
    "outer_cv = StratifiedKFold(n_splits=5, shuffle=True)\n",
    "ocsvm = OneClassSVM(kernel='poly')\n",
    "ocif = IsolationForest(n_estimators=500, contamination=imbalance)\n",
    "fscores_ocsvm = []; fscores_if = []\n",
    "pca = PCA(n_components=100)\n",
    "frpca = pca.fit_transform(features_big)\n",
    "print('PCA fitted.')\n",
    "\n",
    "# train models and predict\n",
    "for train_index, test_index in tqdm(outer_cv.split(frpca, labels_big)):\n",
    "    xtrain, xtest = frpca[train_index], frpca[test_index]\n",
    "    ytrain, ytest = labels_big[train_index], labels_big[test_index]\n",
    "    xtrainoc = xtrain[ytrain == 0]\n",
    "    ytestoc = np.copy(ytest)\n",
    "    ytestoc[ytestoc == 1] = -1\n",
    "    ytestoc[ytestoc == 0] = 1\n",
    "    # fit models\n",
    "    ocsvm.fit(xtrainoc)\n",
    "    ocif.fit(xtrainoc)\n",
    "    # make predictions and test\n",
    "    preds_ocsvm = ocsvm.predict(xtest)\n",
    "    preds_if = ocif.predict(xtest)\n",
    "    fscores_ocsvm.append(f1_score(ytestoc, preds_ocsvm, pos_label=-1))\n",
    "    fscores_if.append(f1_score(ytestoc, preds_if, pos_label=-1))\n",
    "print('F1 OneClassSVM:', np.mean(fscores_ocsvm))\n",
    "print('F1 IsolationForest:', np.mean(fscores_if))"
   ]
  },
  {
   "cell_type": "raw",
   "id": "af3b18b9",
   "metadata": {},
   "source": [
    "# define cross-validation iterator\n",
    "imbalance = rbp_embed.shape[0]/nonrbp_embed.shape[0]\n",
    "inner_cv = StratifiedKFold(n_splits=3, shuffle=True)\n",
    "performances = {'F1':[], 'P':[], 'AUC':[]}\n",
    "cpus = 6\n",
    "\n",
    "# define models and hyper parameters\n",
    "lr = LogisticRegression(class_weight='balanced', max_iter=5000)\n",
    "params_lr = {'C': np.logspace(0.2, 1, 5)}\n",
    "xgb = XGBClassifier(scale_pos_weight=1/imbalance, n_jobs=cpus)\n",
    "params_xgb = {'max_depth': [3, 5], 'n_estimators': [100, 250]}\n",
    "mlp = MLPClassifier(max_iter=1000)\n",
    "params_mlp = {'hidden_layer_sizes':[(100,), (30,2), (30, 10, 5)]}\n",
    "\n",
    "# define grid search\n",
    "lr = GridSearchCV(lr, cv=inner_cv, param_grid=params_lr, scoring='f1', n_jobs=cpus, verbose=2)\n",
    "xgb = GridSearchCV(xgb, cv=inner_cv, param_grid=params_xgb, scoring='f1', verbose=2)\n",
    "mlp = GridSearchCV(mlp, cv=inner_cv, param_grid=params_mlp, scoring='f1', n_jobs=cpus, verbose=2)\n",
    "models = {'MLPerceptron': mlp, 'XGBoost': xgb, 'logistic': lr}\n",
    "\n",
    "# tune hyperparams on subpart of data\n",
    "X_train, X_test, y_train, y_test = train_test_split(features, labels, stratify=labels, test_size=0.2, random_state=42)\n",
    "X_tune, _, y_tune, _ = train_test_split(X_train, y_train, stratify=y_train, test_size=0.5, random_state=42) # tune two-fold on 20% of data\n",
    "print(X_tune.shape, y_tune.shape)\n",
    "param_dict = {}\n",
    "for model_name, model in models.items():\n",
    "    print('tuning model: ', model_name)\n",
    "    model.fit(X_tune, y_tune)\n",
    "    best_params = model.best_params_\n",
    "    param_dict[model_name] = model.best_params_\n",
    "\n",
    "# evaluate performance with tuned models\n",
    "lr = LogisticRegression(class_weight='balanced', max_iter=5000)\n",
    "xgb = XGBClassifier(scale_pos_weight=1/imbalance, n_jobs=cpus)\n",
    "mlp = MLPClassifier(max_iter=1000)\n",
    "models = {'MLPerceptron': mlp, 'XGBoost': xgb, 'logistic': lr}\n",
    "for model_name, model in models.items():\n",
    "    print('evaluating model: ', model_name)\n",
    "    best_params = param_dict[model_name]\n",
    "    best_model = model.set_params(**best_params)\n",
    "    best_model.fit(X_train, y_train)\n",
    "    preds = best_model.predict(X_test)\n",
    "    probs = best_model.predict_proba(X_test)\n",
    "    performances['F1'].append(f1_score(y_test, preds))\n",
    "    performances['P'].append(precision_score(y_test, preds))\n",
    "    performances['AUC'].append(roc_auc_score(y_test, probs[:,1]))\n",
    "    print(pd.DataFrame(performances))"
   ]
  }
 ],
 "metadata": {
  "kernelspec": {
   "display_name": "Python 3 (ipykernel)",
   "language": "python",
   "name": "python3"
  },
  "language_info": {
   "codemirror_mode": {
    "name": "ipython",
    "version": 3
   },
   "file_extension": ".py",
   "mimetype": "text/x-python",
   "name": "python",
   "nbconvert_exporter": "python",
   "pygments_lexer": "ipython3",
   "version": "3.9.7"
  }
 },
 "nbformat": 4,
 "nbformat_minor": 5
}
