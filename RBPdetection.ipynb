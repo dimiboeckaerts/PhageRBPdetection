{
 "cells": [
  {
   "cell_type": "markdown",
   "id": "surprising-floating",
   "metadata": {},
   "source": [
    "# Dual identification of novel phage receptor-binding proteins based on protein domains and machine learning\n",
    "\n",
    "This notebook serves as the main document of code and analyses for the detection of phage RBPs in genomes and metagenomes."
   ]
  },
  {
   "cell_type": "markdown",
   "id": "hydraulic-latitude",
   "metadata": {},
   "source": [
    "## 0. Libraries"
   ]
  },
  {
   "cell_type": "code",
   "execution_count": 2,
   "id": "floating-array",
   "metadata": {},
   "outputs": [],
   "source": [
    "import numpy as np\n",
    "import pandas as pd\n",
    "import matplotlib.pyplot as plt\n",
    "from sklearn.pipeline import make_pipeline\n",
    "from sklearn.linear_model import LogisticRegression\n",
    "from sklearn.svm import OneClassSVM\n",
    "from sklearn.preprocessing import StandardScaler, label_binarize\n",
    "from sklearn.discriminant_analysis import LinearDiscriminantAnalysis\n",
    "from sklearn.ensemble import RandomForestClassifier, GradientBoostingClassifier\n",
    "from sklearn.model_selection import GridSearchCV, StratifiedKFold, GroupKFold, cross_val_score\n",
    "from sklearn.metrics import accuracy_score, roc_auc_score, make_scorer, roc_curve, confusion_matrix, f1_score\n",
    "%matplotlib inline"
   ]
  },
  {
   "cell_type": "code",
   "execution_count": 5,
   "id": "solved-arabic",
   "metadata": {},
   "outputs": [],
   "source": [
    "# set directories\n",
    "data_dir = '/Users/Dimi/GoogleDrive/PhD/3_PHAGEBASE/32_DATA/RBP_detection/'\n",
    "results_dir = '/Users/Dimi/GoogleDrive/PhD/3_PHAGEBASE/33_RESULTS/RBP_detection/'"
   ]
  },
  {
   "cell_type": "markdown",
   "id": "painted-greek",
   "metadata": {},
   "source": [
    "## 1. Loading and processing data"
   ]
  },
  {
   "cell_type": "markdown",
   "id": "acquired-supervisor",
   "metadata": {},
   "source": [
    "- Get MillardLab data\n",
    "- Appy filters to construct RBP vs. non-RBP database + keep phage genome IDs!\n",
    "- transform into embeddings: cfr protein_embeddings_cloud (compute with GPU in Kaggle notebooks)"
   ]
  },
  {
   "cell_type": "code",
   "execution_count": null,
   "id": "editorial-president",
   "metadata": {},
   "outputs": [],
   "source": [
    "# collect raw data and filter\n",
    "# ..."
   ]
  },
  {
   "cell_type": "code",
   "execution_count": 9,
   "id": "outer-confidence",
   "metadata": {},
   "outputs": [],
   "source": [
    "# load processed data\n",
    "rbps = pd.read_csv(data_dir+'annotated_RBPs.csv', sep='\\t')\n",
    "nonrbps = pd.read_csv(data_dir+'annotated_nonRBPs.csv', sep='\\t')"
   ]
  },
  {
   "cell_type": "code",
   "execution_count": 25,
   "id": "moral-strategy",
   "metadata": {},
   "outputs": [
    {
     "data": {
      "text/html": [
       "<div>\n",
       "<style scoped>\n",
       "    .dataframe tbody tr th:only-of-type {\n",
       "        vertical-align: middle;\n",
       "    }\n",
       "\n",
       "    .dataframe tbody tr th {\n",
       "        vertical-align: top;\n",
       "    }\n",
       "\n",
       "    .dataframe thead th {\n",
       "        text-align: right;\n",
       "    }\n",
       "</style>\n",
       "<table border=\"1\" class=\"dataframe\">\n",
       "  <thead>\n",
       "    <tr style=\"text-align: right;\">\n",
       "      <th></th>\n",
       "      <th>NCBI_id</th>\n",
       "      <th>UniProt_id</th>\n",
       "      <th>Tax_id</th>\n",
       "      <th>EMBL_id</th>\n",
       "      <th>Accession</th>\n",
       "      <th>Realm</th>\n",
       "      <th>Family</th>\n",
       "      <th>Organism</th>\n",
       "      <th>Host</th>\n",
       "      <th>ProteinName</th>\n",
       "      <th>ProteinSeq</th>\n",
       "      <th>DNASeq</th>\n",
       "      <th>From</th>\n",
       "      <th>ProteinType</th>\n",
       "    </tr>\n",
       "  </thead>\n",
       "  <tbody>\n",
       "    <tr>\n",
       "      <th>0</th>\n",
       "      <td>QIW86450.1</td>\n",
       "      <td>-</td>\n",
       "      <td>-</td>\n",
       "      <td>-</td>\n",
       "      <td>MT241605</td>\n",
       "      <td>Duplodnaviria</td>\n",
       "      <td>Siphoviridae</td>\n",
       "      <td>Achromobacter phage AMA1</td>\n",
       "      <td>Achromobacter marplatensis</td>\n",
       "      <td>putative tail fiber protein</td>\n",
       "      <td>MATLLLIENAFRPDANPRQEPVRAGERISSMLRRIGYLKGRGAKAV...</td>\n",
       "      <td>ATGGCAACCCTGCTGCTGATTGAAAACGCTTTCCGCCCAGACGCGA...</td>\n",
       "      <td>Alex</td>\n",
       "      <td>RBP</td>\n",
       "    </tr>\n",
       "    <tr>\n",
       "      <th>1</th>\n",
       "      <td>QIG62429.1</td>\n",
       "      <td>-</td>\n",
       "      <td>-</td>\n",
       "      <td>-</td>\n",
       "      <td>MT002875</td>\n",
       "      <td>Duplodnaviria</td>\n",
       "      <td>Siphoviridae</td>\n",
       "      <td>Pseudoalteromonas phage AL</td>\n",
       "      <td>Pseudoalteromonas marina</td>\n",
       "      <td>putative tail fiber adhesion protein</td>\n",
       "      <td>MAFDTVKKTFTKEHMWIVELISGETTYRFCENRSPLPLELEAVPSL...</td>\n",
       "      <td>ATGGCTTTTGATACAGTTAAAAAAACATTCACTAAAGAACATATGT...</td>\n",
       "      <td>Alex</td>\n",
       "      <td>RBP</td>\n",
       "    </tr>\n",
       "    <tr>\n",
       "      <th>2</th>\n",
       "      <td>QNR53876.1</td>\n",
       "      <td>-</td>\n",
       "      <td>-</td>\n",
       "      <td>-</td>\n",
       "      <td>MT740307</td>\n",
       "      <td>Duplodnaviria</td>\n",
       "      <td>Myoviridae</td>\n",
       "      <td>Pseudomonas phage phiK7A1</td>\n",
       "      <td>Pseudomonas syringae pv. actinidiae K7A1</td>\n",
       "      <td>putative tail fiber protein</td>\n",
       "      <td>MVDITKLDMTNIWASGGDKVTPSAEKIAQGWVVEAVPRQTWNWFEN...</td>\n",
       "      <td>ATGGTGGACATTACTAAACTGGATATGACAAATATCTGGGCAAGCG...</td>\n",
       "      <td>Alex</td>\n",
       "      <td>RBP</td>\n",
       "    </tr>\n",
       "    <tr>\n",
       "      <th>3</th>\n",
       "      <td>QNR53879.1</td>\n",
       "      <td>-</td>\n",
       "      <td>-</td>\n",
       "      <td>-</td>\n",
       "      <td>MT740307</td>\n",
       "      <td>Duplodnaviria</td>\n",
       "      <td>Myoviridae</td>\n",
       "      <td>Pseudomonas phage phiK7A1</td>\n",
       "      <td>Pseudomonas syringae pv. actinidiae K7A1</td>\n",
       "      <td>putative tail fiber protein</td>\n",
       "      <td>MANLLKPTGVNNIWSINGTKTDPGLAKANTGWVVELPPYQTANWIE...</td>\n",
       "      <td>ATGGCTAACTTGCTAAAGCCTACAGGTGTGAACAACATCTGGAGTA...</td>\n",
       "      <td>Alex</td>\n",
       "      <td>RBP</td>\n",
       "    </tr>\n",
       "    <tr>\n",
       "      <th>4</th>\n",
       "      <td>QNR52067.1</td>\n",
       "      <td>-</td>\n",
       "      <td>-</td>\n",
       "      <td>-</td>\n",
       "      <td>MT833282</td>\n",
       "      <td>Duplodnaviria</td>\n",
       "      <td>Myoviridae</td>\n",
       "      <td>Escherichia coli phage vB_EcoM_Shy</td>\n",
       "      <td>Escherichia coli NCTC 12900</td>\n",
       "      <td>putative tail fiber protein</td>\n",
       "      <td>MAVGEIQISALPQAALPIDLSDIFHLKQGVEDKRCTLEQLLAPHAS...</td>\n",
       "      <td>ATGGCAGTAGGTGAAATTCAAATTAGTGCCTTGCCACAAGCGGCCT...</td>\n",
       "      <td>Alex</td>\n",
       "      <td>RBP</td>\n",
       "    </tr>\n",
       "  </tbody>\n",
       "</table>\n",
       "</div>"
      ],
      "text/plain": [
       "      NCBI_id UniProt_id Tax_id EMBL_id Accession          Realm  \\\n",
       "0  QIW86450.1          -      -       -  MT241605  Duplodnaviria   \n",
       "1  QIG62429.1          -      -       -  MT002875  Duplodnaviria   \n",
       "2  QNR53876.1          -      -       -  MT740307  Duplodnaviria   \n",
       "3  QNR53879.1          -      -       -  MT740307  Duplodnaviria   \n",
       "4  QNR52067.1          -      -       -  MT833282  Duplodnaviria   \n",
       "\n",
       "         Family                            Organism  \\\n",
       "0  Siphoviridae            Achromobacter phage AMA1   \n",
       "1  Siphoviridae          Pseudoalteromonas phage AL   \n",
       "2    Myoviridae           Pseudomonas phage phiK7A1   \n",
       "3    Myoviridae           Pseudomonas phage phiK7A1   \n",
       "4    Myoviridae  Escherichia coli phage vB_EcoM_Shy   \n",
       "\n",
       "                                       Host  \\\n",
       "0                Achromobacter marplatensis   \n",
       "1                  Pseudoalteromonas marina   \n",
       "2  Pseudomonas syringae pv. actinidiae K7A1   \n",
       "3  Pseudomonas syringae pv. actinidiae K7A1   \n",
       "4               Escherichia coli NCTC 12900   \n",
       "\n",
       "                            ProteinName  \\\n",
       "0           putative tail fiber protein   \n",
       "1  putative tail fiber adhesion protein   \n",
       "2           putative tail fiber protein   \n",
       "3           putative tail fiber protein   \n",
       "4           putative tail fiber protein   \n",
       "\n",
       "                                          ProteinSeq  \\\n",
       "0  MATLLLIENAFRPDANPRQEPVRAGERISSMLRRIGYLKGRGAKAV...   \n",
       "1  MAFDTVKKTFTKEHMWIVELISGETTYRFCENRSPLPLELEAVPSL...   \n",
       "2  MVDITKLDMTNIWASGGDKVTPSAEKIAQGWVVEAVPRQTWNWFEN...   \n",
       "3  MANLLKPTGVNNIWSINGTKTDPGLAKANTGWVVELPPYQTANWIE...   \n",
       "4  MAVGEIQISALPQAALPIDLSDIFHLKQGVEDKRCTLEQLLAPHAS...   \n",
       "\n",
       "                                              DNASeq  From ProteinType  \n",
       "0  ATGGCAACCCTGCTGCTGATTGAAAACGCTTTCCGCCCAGACGCGA...  Alex         RBP  \n",
       "1  ATGGCTTTTGATACAGTTAAAAAAACATTCACTAAAGAACATATGT...  Alex         RBP  \n",
       "2  ATGGTGGACATTACTAAACTGGATATGACAAATATCTGGGCAAGCG...  Alex         RBP  \n",
       "3  ATGGCTAACTTGCTAAAGCCTACAGGTGTGAACAACATCTGGAGTA...  Alex         RBP  \n",
       "4  ATGGCAGTAGGTGAAATTCAAATTAGTGCCTTGCCACAAGCGGCCT...  Alex         RBP  "
      ]
     },
     "execution_count": 25,
     "metadata": {},
     "output_type": "execute_result"
    }
   ],
   "source": [
    "rbps.head()"
   ]
  },
  {
   "cell_type": "markdown",
   "id": "bound-temple",
   "metadata": {},
   "source": [
    "## 2. Learning patterns and evaluating models"
   ]
  },
  {
   "cell_type": "code",
   "execution_count": null,
   "id": "boolean-venice",
   "metadata": {},
   "outputs": [],
   "source": []
  }
 ],
 "metadata": {
  "kernelspec": {
   "display_name": "Python 3",
   "language": "python",
   "name": "python3"
  },
  "language_info": {
   "codemirror_mode": {
    "name": "ipython",
    "version": 3
   },
   "file_extension": ".py",
   "mimetype": "text/x-python",
   "name": "python",
   "nbconvert_exporter": "python",
   "pygments_lexer": "ipython3",
   "version": "3.7.6"
  }
 },
 "nbformat": 4,
 "nbformat_minor": 5
}
