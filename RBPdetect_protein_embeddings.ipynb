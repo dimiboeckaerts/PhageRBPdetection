{
 "cells": [
  {
   "cell_type": "markdown",
   "metadata": {
    "id": "8QW5I6LYPCkb"
   },
   "source": [
    "# Protein embeddings on the cloud (Google Colab, Kaggle)"
   ]
  },
  {
   "cell_type": "markdown",
   "metadata": {
    "id": "-aOQeo6fPiag"
   },
   "source": [
    "### Installation and libraries"
   ]
  },
  {
   "cell_type": "code",
   "execution_count": null,
   "metadata": {
    "execution": {
     "iopub.execute_input": "2021-10-22T19:49:08.100762Z",
     "iopub.status.busy": "2021-10-22T19:49:08.100405Z",
     "iopub.status.idle": "2021-10-22T19:50:57.308423Z",
     "shell.execute_reply": "2021-10-22T19:50:57.307488Z",
     "shell.execute_reply.started": "2021-10-22T19:49:08.100725Z"
    },
    "executionInfo": {
     "elapsed": 41169,
     "status": "ok",
     "timestamp": 1631087878573,
     "user": {
      "displayName": "Dimi Boeckaerts",
      "photoUrl": "https://lh3.googleusercontent.com/a-/AOh14GimOjkmN_8CXWb_xzIPwTTl_i6ozwpuZqUt_ri0=s64",
      "userId": "04262803601048577749"
     },
     "user_tz": -120
    },
    "id": "mtiN3UkvO_m-",
    "outputId": "3576c6ce-d082-481b-d009-4b96cd42a6dd"
   },
   "outputs": [],
   "source": [
    "!pip install bio_embeddings==0.2.2"
   ]
  },
  {
   "cell_type": "code",
   "execution_count": 3,
   "metadata": {
    "execution": {
     "iopub.execute_input": "2021-10-22T19:51:45.424986Z",
     "iopub.status.busy": "2021-10-22T19:51:45.424632Z",
     "iopub.status.idle": "2021-10-22T19:52:10.913672Z",
     "shell.execute_reply": "2021-10-22T19:52:10.912826Z",
     "shell.execute_reply.started": "2021-10-22T19:51:45.424954Z"
    },
    "executionInfo": {
     "elapsed": 6351,
     "status": "ok",
     "timestamp": 1631025513656,
     "user": {
      "displayName": "Dimi Boeckaerts",
      "photoUrl": "https://lh3.googleusercontent.com/a-/AOh14GimOjkmN_8CXWb_xzIPwTTl_i6ozwpuZqUt_ri0=s64",
      "userId": "04262803601048577749"
     },
     "user_tz": -120
    },
    "id": "8jrtaDJdPEiH",
    "outputId": "cac40355-988f-4f32-d387-e10d71149e8b"
   },
   "outputs": [],
   "source": [
    "import numpy as np\n",
    "import pandas as pd\n",
    "from tqdm import tqdm\n",
    "from Bio import SeqIO\n",
    "from datetime import date\n",
    "from bio_embeddings.embed import ProtTransBertBFDEmbedder"
   ]
  },
  {
   "cell_type": "markdown",
   "metadata": {},
   "source": [
    "### Define function and compute embeddings"
   ]
  },
  {
   "cell_type": "markdown",
   "metadata": {},
   "source": [
    "In Kaggle, upload the fasta file you want to compute embeddings for. See the 'Add data' button in the right upper corner. This file will be located at '../input/a_folder_you_designate'. The results can be stored in the output directory, which is simply './'. The computed embeddings can then be downloaded from this folder for later use."
   ]
  },
  {
   "cell_type": "code",
   "execution_count": 11,
   "metadata": {
    "execution": {
     "iopub.execute_input": "2021-10-22T21:23:08.466761Z",
     "iopub.status.busy": "2021-10-22T21:23:08.466434Z",
     "iopub.status.idle": "2021-10-22T21:23:08.472493Z",
     "shell.execute_reply": "2021-10-22T21:23:08.471580Z",
     "shell.execute_reply.started": "2021-10-22T21:23:08.466730Z"
    }
   },
   "outputs": [],
   "source": [
    "def compute_protein_embeddings(fasta_file, results_dir, prefix=''):\n",
    "    \"\"\"\n",
    "    This functions computes ProttransBERT embeddings for protein sequences in a given FASTA file. \n",
    "    It uses the bio-embeddings package together with BioPython to transform protein sequences into numerical embeddings.\n",
    "    \n",
    "    WARNING: running this on a personal laptop without GPU is very slow and not advised. Best to start a Google\n",
    "    Colab or Kaggle notebook and run the computations in the cloud.\n",
    "    \n",
    "    Input:\n",
    "    - fasta_file: location of the FASTA file (string) with the sequences you want to compute embeddings for.\n",
    "    - results_dir: directory to store the resulting embeddings in.\n",
    "    \n",
    "    Output:\n",
    "    - embeddings: Pandas DataFrame (as .csv file) with protein names and their corresponding embedding\n",
    "    \"\"\"\n",
    "    embedder = ProtTransBertBFDEmbedder()\n",
    "    embeddings_list = []\n",
    "    names_list = []\n",
    "    pb = tqdm(total=dataframe.shape[0])\n",
    "    \n",
    "    for record in SeqIO.parse(fasta_file, 'fasta'):\n",
    "        sequence = str(record.seq)\n",
    "        embedding = embedder.embed(sequence)\n",
    "        reduced_embedding = embedder.reduce_per_protein(embedding)\n",
    "        embeddings_list.append(reduced_embedding)\n",
    "        names_list.append(record.id)\n",
    "        pb.update(1)\n",
    "    pb.close()\n",
    "    embeddings_df = pd.concat([pd.DataFrame({'ID':names_list}), pd.DataFrame(embeddings_list)], axis=1)\n",
    "    embeddings_df.to_csv(results_dir+prefix+'_embeddings.csv', index=False)\n",
    "    \n",
    "    return"
   ]
  },
  {
   "cell_type": "code",
   "execution_count": null,
   "metadata": {
    "execution": {
     "iopub.execute_input": "2021-10-22T21:24:03.732053Z",
     "iopub.status.busy": "2021-10-22T21:24:03.731721Z",
     "iopub.status.idle": "2021-10-22T22:19:15.033175Z",
     "shell.execute_reply": "2021-10-22T22:19:15.032234Z",
     "shell.execute_reply.started": "2021-10-22T21:24:03.732021Z"
    }
   },
   "outputs": [],
   "source": [
    "# compute embeddings\n",
    "compute_protein_embeddings_df('../input/your_folder/your_fasta_file.fasta', results_dir='./')"
   ]
  }
 ],
 "metadata": {
  "kernelspec": {
   "display_name": "Python 3 (ipykernel)",
   "language": "python",
   "name": "python3"
  },
  "language_info": {
   "codemirror_mode": {
    "name": "ipython",
    "version": 3
   },
   "file_extension": ".py",
   "mimetype": "text/x-python",
   "name": "python",
   "nbconvert_exporter": "python",
   "pygments_lexer": "ipython3",
   "version": "3.9.7"
  }
 },
 "nbformat": 4,
 "nbformat_minor": 4
}
