{
 "cells": [
  {
   "cell_type": "markdown",
   "metadata": {
    "id": "8QW5I6LYPCkb"
   },
   "source": [
    "# Protein embeddings on the cloud (Google Colab, Kaggle)"
   ]
  },
  {
   "cell_type": "markdown",
   "metadata": {
    "id": "-aOQeo6fPiag"
   },
   "source": [
    "### Installation and libraries\n",
    "\n",
    "Note: the pip's dependency resolver ERROR can be safely ignored, as long as it is mentioned below the error that all packages were installed successfully."
   ]
  },
  {
   "cell_type": "code",
   "execution_count": null,
   "metadata": {
    "execution": {
     "iopub.execute_input": "2021-10-22T19:49:08.100762Z",
     "iopub.status.busy": "2021-10-22T19:49:08.100405Z",
     "iopub.status.idle": "2021-10-22T19:50:57.308423Z",
     "shell.execute_reply": "2021-10-22T19:50:57.307488Z",
     "shell.execute_reply.started": "2021-10-22T19:49:08.100725Z"
    },
    "executionInfo": {
     "elapsed": 41169,
     "status": "ok",
     "timestamp": 1631087878573,
     "user": {
      "displayName": "Dimi Boeckaerts",
      "photoUrl": "https://lh3.googleusercontent.com/a-/AOh14GimOjkmN_8CXWb_xzIPwTTl_i6ozwpuZqUt_ri0=s64",
      "userId": "04262803601048577749"
     },
     "user_tz": -120
    },
    "id": "mtiN3UkvO_m-",
    "outputId": "3576c6ce-d082-481b-d009-4b96cd42a6dd"
   },
   "outputs": [],
   "source": [
    "# Install software for Kaggle\n",
    "!pip install bio_embeddings==0.2.2\n",
    "!pip install torchvision==0.10.1"
   ]
  },
  {
   "cell_type": "code",
   "execution_count": null,
   "metadata": {},
   "outputs": [],
   "source": [
    "# Install software for Google Colab\n",
    "!pip3 install -U pip > /dev/null\n",
    "!pip3 install -U bio_embeddings[all] > /dev/null\n",
    "!pip install scikit_learn==1.0.2\n",
    "!pip install pyyaml==5.4.1"
   ]
  },
  {
   "cell_type": "code",
   "execution_count": 3,
   "metadata": {
    "execution": {
     "iopub.execute_input": "2021-10-22T19:51:45.424986Z",
     "iopub.status.busy": "2021-10-22T19:51:45.424632Z",
     "iopub.status.idle": "2021-10-22T19:52:10.913672Z",
     "shell.execute_reply": "2021-10-22T19:52:10.912826Z",
     "shell.execute_reply.started": "2021-10-22T19:51:45.424954Z"
    },
    "executionInfo": {
     "elapsed": 6351,
     "status": "ok",
     "timestamp": 1631025513656,
     "user": {
      "displayName": "Dimi Boeckaerts",
      "photoUrl": "https://lh3.googleusercontent.com/a-/AOh14GimOjkmN_8CXWb_xzIPwTTl_i6ozwpuZqUt_ri0=s64",
      "userId": "04262803601048577749"
     },
     "user_tz": -120
    },
    "id": "8jrtaDJdPEiH",
    "outputId": "cac40355-988f-4f32-d387-e10d71149e8b"
   },
   "outputs": [],
   "source": [
    "import numpy as np\n",
    "import pandas as pd\n",
    "from tqdm import tqdm\n",
    "from Bio import SeqIO\n",
    "from datetime import date\n",
    "from bio_embeddings.embed import ProtTransBertBFDEmbedder"
   ]
  },
  {
   "cell_type": "markdown",
   "metadata": {},
   "source": [
    "### Define function and compute embeddings"
   ]
  },
  {
   "cell_type": "markdown",
   "metadata": {},
   "source": [
    "In Kaggle, upload the fasta file you want to compute embeddings for. See the 'Add data' button in the right upper corner. This file will be located at '../input/a_folder_you_designate'. The results can be stored in the output directory, which is simply './'. The computed embeddings can then be downloaded from this folder for later use."
   ]
  },
  {
   "cell_type": "code",
   "execution_count": 11,
   "metadata": {
    "execution": {
     "iopub.execute_input": "2021-10-22T21:23:08.466761Z",
     "iopub.status.busy": "2021-10-22T21:23:08.466434Z",
     "iopub.status.idle": "2021-10-22T21:23:08.472493Z",
     "shell.execute_reply": "2021-10-22T21:23:08.471580Z",
     "shell.execute_reply.started": "2021-10-22T21:23:08.466730Z"
    }
   },
   "outputs": [],
   "source": [
    "def compute_protein_embeddings(fasta_file, results_dir, prefix=''):\n",
    "    \"\"\"\n",
    "    This functions computes ProttransBERT embeddings for protein sequences in a given FASTA file. \n",
    "    It uses the bio-embeddings package together with BioPython to transform protein sequences into numerical embeddings.\n",
    "    \n",
    "    WARNING: running this on a personal laptop without GPU is very slow and not advised. Best to start a Google\n",
    "    Colab or Kaggle notebook and run the computations in the cloud.\n",
    "    \n",
    "    Input:\n",
    "    - fasta_file: location of the FASTA file (string) with the sequences you want to compute embeddings for.\n",
    "    - results_dir: directory to store the resulting embeddings in.\n",
    "    \n",
    "    Output:\n",
    "    - embeddings: Pandas DataFrame (as .csv file) with protein names and their corresponding embedding\n",
    "    \"\"\"\n",
    "    embedder = ProtTransBertBFDEmbedder()\n",
    "    names = [record.id for record in SeqIO.parse(fasta_file, 'fasta')]\n",
    "    sequences = [str(record.seq) for record in SeqIO.parse(fasta_file, 'fasta')]\n",
    "    embeddings = [embedder.reduce_per_protein(embedder.embed(sequence)) for sequence in tqdm(sequences)]\n",
    "    embeddings_df = pd.concat([pd.DataFrame({'ID':names}), pd.DataFrame(embeddings)], axis=1)\n",
    "    embeddings_df.to_csv(results_dir+prefix+'_embeddings.csv', index=False)\n",
    "    \n",
    "    return"
   ]
  },
  {
   "cell_type": "code",
   "execution_count": null,
   "metadata": {
    "execution": {
     "iopub.execute_input": "2021-10-22T21:24:03.732053Z",
     "iopub.status.busy": "2021-10-22T21:24:03.731721Z",
     "iopub.status.idle": "2021-10-22T22:19:15.033175Z",
     "shell.execute_reply": "2021-10-22T22:19:15.032234Z",
     "shell.execute_reply.started": "2021-10-22T21:24:03.732021Z"
    }
   },
   "outputs": [],
   "source": [
    "# compute embeddings\n",
    "compute_protein_embeddings('../input/your_folder/your_fasta_file.fasta', results_dir='./')"
   ]
  }
 ],
 "metadata": {
  "kernelspec": {
   "display_name": "Python 3 (ipykernel)",
   "language": "python",
   "name": "python3"
  },
  "language_info": {
   "codemirror_mode": {
    "name": "ipython",
    "version": 3
   },
   "file_extension": ".py",
   "mimetype": "text/x-python",
   "name": "python",
   "nbconvert_exporter": "python",
   "pygments_lexer": "ipython3",
   "version": "3.9.7"
  }
 },
 "nbformat": 4,
 "nbformat_minor": 4
}
